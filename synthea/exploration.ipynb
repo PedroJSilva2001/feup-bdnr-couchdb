{
 "cells": [
  {
   "cell_type": "code",
   "execution_count": 18,
   "metadata": {},
   "outputs": [],
   "source": [
    "import pandas as pd"
   ]
  },
  {
   "cell_type": "code",
   "execution_count": 19,
   "metadata": {},
   "outputs": [],
   "source": [
    "allergies = pd.read_csv(\"./etl/datasets/csv/allergies.csv\")\n",
    "careplans = pd.read_csv(\"./etl/datasets/csv/careplans.csv\")\n",
    "claims_transactions = pd.read_csv(\"./etl/datasets/csv/claims_transactions.csv\")\n",
    "claims = pd.read_csv(\"./etl/datasets/csv/claims.csv\")\n",
    "conditions = pd.read_csv(\"./etl/datasets/csv/conditions.csv\")\n",
    "devices = pd.read_csv(\"./etl/datasets/csv/devices.csv\")\n",
    "encounters = pd.read_csv(\"./etl/datasets/csv/encounters.csv\")\n",
    "imaging_studies = pd.read_csv(\"./etl/datasets/csv/imaging_studies.csv\")\n",
    "immunizations = pd.read_csv(\"./etl/datasets/csv/immunizations.csv\")\n",
    "medications = pd.read_csv(\"./etl/datasets/csv/medications.csv\")\n",
    "observations = pd.read_csv(\"./etl/datasets/csv/observations.csv\")\n",
    "organizations = pd.read_csv(\"./etl/datasets/csv/organizations.csv\")\n",
    "patient_expenses = pd.read_csv(\"./etl/datasets/csv/patient_expenses.csv\")\n",
    "patients = pd.read_csv(\"./etl/datasets/csv/patients.csv\")\n",
    "payer_transitions = pd.read_csv(\"./etl/datasets/csv/payer_transitions.csv\")\n",
    "payers = pd.read_csv(\"./etl/datasets/csv/payers.csv\")\n",
    "procedures = pd.read_csv(\"./etl/datasets/csv/procedures.csv\")\n",
    "providers = pd.read_csv(\"./etl/datasets/csv/providers.csv\")\n",
    "supplies = pd.read_csv(\"./etl/datasets/csv/supplies.csv\")\n",
    "symptoms = pd.read_csv(\"./etl/datasets/csv/symptoms.csv\")"
   ]
  },
  {
   "attachments": {},
   "cell_type": "markdown",
   "metadata": {},
   "source": [
    "# Allergies"
   ]
  },
  {
   "cell_type": "code",
   "execution_count": 51,
   "metadata": {},
   "outputs": [
    {
     "data": {
      "text/html": [
       "<div>\n",
       "<style scoped>\n",
       "    .dataframe tbody tr th:only-of-type {\n",
       "        vertical-align: middle;\n",
       "    }\n",
       "\n",
       "    .dataframe tbody tr th {\n",
       "        vertical-align: top;\n",
       "    }\n",
       "\n",
       "    .dataframe thead th {\n",
       "        text-align: right;\n",
       "    }\n",
       "</style>\n",
       "<table border=\"1\" class=\"dataframe\">\n",
       "  <thead>\n",
       "    <tr style=\"text-align: right;\">\n",
       "      <th></th>\n",
       "      <th>START</th>\n",
       "      <th>STOP</th>\n",
       "      <th>PATIENT</th>\n",
       "      <th>ENCOUNTER</th>\n",
       "      <th>CODE</th>\n",
       "      <th>SYSTEM</th>\n",
       "      <th>DESCRIPTION</th>\n",
       "      <th>TYPE</th>\n",
       "      <th>CATEGORY</th>\n",
       "      <th>REACTION1</th>\n",
       "      <th>DESCRIPTION1</th>\n",
       "      <th>SEVERITY1</th>\n",
       "      <th>REACTION2</th>\n",
       "      <th>DESCRIPTION2</th>\n",
       "      <th>SEVERITY2</th>\n",
       "    </tr>\n",
       "  </thead>\n",
       "  <tbody>\n",
       "    <tr>\n",
       "      <th>0</th>\n",
       "      <td>2007-09-28</td>\n",
       "      <td>NaN</td>\n",
       "      <td>f3b8472a-44ad-23b1-8132-b096033d2e41</td>\n",
       "      <td>0ce6b107-24c0-dc08-9c42-c5a379d1f82a</td>\n",
       "      <td>111088007</td>\n",
       "      <td>Unknown</td>\n",
       "      <td>Latex (substance)</td>\n",
       "      <td>allergy</td>\n",
       "      <td>environment</td>\n",
       "      <td>247472004.0</td>\n",
       "      <td>Wheal (finding)</td>\n",
       "      <td>MILD</td>\n",
       "      <td>271807003.0</td>\n",
       "      <td>Eruption of skin (disorder)</td>\n",
       "      <td>MILD</td>\n",
       "    </tr>\n",
       "    <tr>\n",
       "      <th>1</th>\n",
       "      <td>2007-09-28</td>\n",
       "      <td>NaN</td>\n",
       "      <td>f3b8472a-44ad-23b1-8132-b096033d2e41</td>\n",
       "      <td>0ce6b107-24c0-dc08-9c42-c5a379d1f82a</td>\n",
       "      <td>84489001</td>\n",
       "      <td>Unknown</td>\n",
       "      <td>Mold (organism)</td>\n",
       "      <td>allergy</td>\n",
       "      <td>environment</td>\n",
       "      <td>267101005.0</td>\n",
       "      <td>Nose running</td>\n",
       "      <td>MILD</td>\n",
       "      <td>NaN</td>\n",
       "      <td>NaN</td>\n",
       "      <td>NaN</td>\n",
       "    </tr>\n",
       "    <tr>\n",
       "      <th>2</th>\n",
       "      <td>2007-09-28</td>\n",
       "      <td>NaN</td>\n",
       "      <td>f3b8472a-44ad-23b1-8132-b096033d2e41</td>\n",
       "      <td>0ce6b107-24c0-dc08-9c42-c5a379d1f82a</td>\n",
       "      <td>260147004</td>\n",
       "      <td>Unknown</td>\n",
       "      <td>House dust mite (organism)</td>\n",
       "      <td>allergy</td>\n",
       "      <td>environment</td>\n",
       "      <td>NaN</td>\n",
       "      <td>NaN</td>\n",
       "      <td>NaN</td>\n",
       "      <td>NaN</td>\n",
       "      <td>NaN</td>\n",
       "      <td>NaN</td>\n",
       "    </tr>\n",
       "  </tbody>\n",
       "</table>\n",
       "</div>"
      ],
      "text/plain": [
       "        START  STOP                               PATIENT  \\\n",
       "0  2007-09-28   NaN  f3b8472a-44ad-23b1-8132-b096033d2e41   \n",
       "1  2007-09-28   NaN  f3b8472a-44ad-23b1-8132-b096033d2e41   \n",
       "2  2007-09-28   NaN  f3b8472a-44ad-23b1-8132-b096033d2e41   \n",
       "\n",
       "                              ENCOUNTER       CODE   SYSTEM  \\\n",
       "0  0ce6b107-24c0-dc08-9c42-c5a379d1f82a  111088007  Unknown   \n",
       "1  0ce6b107-24c0-dc08-9c42-c5a379d1f82a   84489001  Unknown   \n",
       "2  0ce6b107-24c0-dc08-9c42-c5a379d1f82a  260147004  Unknown   \n",
       "\n",
       "                  DESCRIPTION     TYPE     CATEGORY    REACTION1  \\\n",
       "0           Latex (substance)  allergy  environment  247472004.0   \n",
       "1             Mold (organism)  allergy  environment  267101005.0   \n",
       "2  House dust mite (organism)  allergy  environment          NaN   \n",
       "\n",
       "      DESCRIPTION1 SEVERITY1    REACTION2                 DESCRIPTION2  \\\n",
       "0  Wheal (finding)      MILD  271807003.0  Eruption of skin (disorder)   \n",
       "1     Nose running      MILD          NaN                          NaN   \n",
       "2              NaN       NaN          NaN                          NaN   \n",
       "\n",
       "  SEVERITY2  \n",
       "0      MILD  \n",
       "1       NaN  \n",
       "2       NaN  "
      ]
     },
     "execution_count": 51,
     "metadata": {},
     "output_type": "execute_result"
    }
   ],
   "source": [
    "allergies.head(3)"
   ]
  },
  {
   "cell_type": "code",
   "execution_count": 52,
   "metadata": {},
   "outputs": [
    {
     "name": "stdout",
     "output_type": "stream",
     "text": [
      "<class 'pandas.core.frame.DataFrame'>\n",
      "RangeIndex: 90 entries, 0 to 89\n",
      "Data columns (total 15 columns):\n",
      " #   Column        Non-Null Count  Dtype  \n",
      "---  ------        --------------  -----  \n",
      " 0   START         90 non-null     object \n",
      " 1   STOP          0 non-null      float64\n",
      " 2   PATIENT       90 non-null     object \n",
      " 3   ENCOUNTER     90 non-null     object \n",
      " 4   CODE          90 non-null     int64  \n",
      " 5   SYSTEM        90 non-null     object \n",
      " 6   DESCRIPTION   90 non-null     object \n",
      " 7   TYPE          90 non-null     object \n",
      " 8   CATEGORY      90 non-null     object \n",
      " 9   REACTION1     45 non-null     float64\n",
      " 10  DESCRIPTION1  45 non-null     object \n",
      " 11  SEVERITY1     45 non-null     object \n",
      " 12  REACTION2     28 non-null     float64\n",
      " 13  DESCRIPTION2  28 non-null     object \n",
      " 14  SEVERITY2     28 non-null     object \n",
      "dtypes: float64(3), int64(1), object(11)\n",
      "memory usage: 10.7+ KB\n"
     ]
    }
   ],
   "source": [
    "allergies.info()"
   ]
  },
  {
   "cell_type": "code",
   "execution_count": 53,
   "metadata": {},
   "outputs": [
    {
     "data": {
      "text/plain": [
       "START           15\n",
       "STOP             0\n",
       "PATIENT         15\n",
       "ENCOUNTER       15\n",
       "CODE            20\n",
       "SYSTEM           1\n",
       "DESCRIPTION     20\n",
       "TYPE             2\n",
       "CATEGORY         3\n",
       "REACTION1       12\n",
       "DESCRIPTION1    12\n",
       "SEVERITY1        3\n",
       "REACTION2        8\n",
       "DESCRIPTION2     8\n",
       "SEVERITY2        2\n",
       "dtype: int64"
      ]
     },
     "execution_count": 53,
     "metadata": {},
     "output_type": "execute_result"
    }
   ],
   "source": [
    "allergies.nunique()"
   ]
  },
  {
   "cell_type": "code",
   "execution_count": 57,
   "metadata": {},
   "outputs": [
    {
     "data": {
      "text/plain": [
       "84489001           12\n",
       "264287008          10\n",
       "260147004           8\n",
       "256277009           8\n",
       "782576004           8\n",
       "412071004           6\n",
       "102263004           5\n",
       "111088007           5\n",
       "735971005           4\n",
       "288328004           3\n",
       "7984                3\n",
       "1191                3\n",
       "442571000124108     3\n",
       "735029006           3\n",
       "3718001             2\n",
       "10831               2\n",
       "29046               2\n",
       "762952008           1\n",
       "256355007           1\n",
       "25037               1\n",
       "Name: CODE, dtype: int64"
      ]
     },
     "execution_count": 57,
     "metadata": {},
     "output_type": "execute_result"
    }
   ],
   "source": [
    "allergies[\"CODE\"].value_counts()"
   ]
  },
  {
   "cell_type": "code",
   "execution_count": 136,
   "metadata": {},
   "outputs": [
    {
     "data": {
      "text/plain": [
       "Unknown    90\n",
       "Name: SYSTEM, dtype: int64"
      ]
     },
     "execution_count": 136,
     "metadata": {},
     "output_type": "execute_result"
    }
   ],
   "source": [
    "allergies[\"SYSTEM\"].value_counts()"
   ]
  },
  {
   "cell_type": "code",
   "execution_count": 58,
   "metadata": {},
   "outputs": [
    {
     "data": {
      "text/plain": [
       "Mold (organism)                    12\n",
       "Animal dander (substance)          10\n",
       "Tree pollen (substance)             8\n",
       "House dust mite (organism)          8\n",
       "Grass pollen (substance)            8\n",
       "Wheat (substance)                   6\n",
       "Eggs (edible) (substance)           5\n",
       "Latex (substance)                   5\n",
       "Fish (substance)                    4\n",
       "Shellfish (substance)               3\n",
       "Tree nut (substance)                3\n",
       "Penicillin V                        3\n",
       "Aspirin                             3\n",
       "Bee venom (substance)               3\n",
       "Sulfamethoxazole / Trimethoprim     2\n",
       "Cow's milk (substance)              2\n",
       "Lisinopril                          2\n",
       "cefdinir                            1\n",
       "Soy bean                            1\n",
       "Peanut (substance)                  1\n",
       "Name: DESCRIPTION, dtype: int64"
      ]
     },
     "execution_count": 58,
     "metadata": {},
     "output_type": "execute_result"
    }
   ],
   "source": [
    "allergies[\"DESCRIPTION\"].value_counts()"
   ]
  },
  {
   "cell_type": "code",
   "execution_count": 59,
   "metadata": {},
   "outputs": [
    {
     "data": {
      "text/plain": [
       "allergy        88\n",
       "intolerance     2\n",
       "Name: TYPE, dtype: int64"
      ]
     },
     "execution_count": 59,
     "metadata": {},
     "output_type": "execute_result"
    }
   ],
   "source": [
    "allergies[\"TYPE\"].value_counts()"
   ]
  },
  {
   "cell_type": "code",
   "execution_count": 64,
   "metadata": {},
   "outputs": [
    {
     "data": {
      "text/plain": [
       "environment    54\n",
       "food           25\n",
       "medication     11\n",
       "Name: CATEGORY, dtype: int64"
      ]
     },
     "execution_count": 64,
     "metadata": {},
     "output_type": "execute_result"
    }
   ],
   "source": [
    "allergies[\"CATEGORY\"].value_counts()"
   ]
  },
  {
   "cell_type": "code",
   "execution_count": 62,
   "metadata": {},
   "outputs": [
    {
     "data": {
      "text/plain": [
       "247472004.0    11\n",
       "878820003.0     9\n",
       "39579001.0      6\n",
       "271807003.0     4\n",
       "267036007.0     3\n",
       "267101005.0     3\n",
       "21626009.0      2\n",
       "49727002.0      2\n",
       "300359004.0     2\n",
       "402387002.0     1\n",
       "62315008.0      1\n",
       "21522001.0      1\n",
       "Name: REACTION1, dtype: int64"
      ]
     },
     "metadata": {},
     "output_type": "display_data"
    },
    {
     "data": {
      "text/plain": [
       "Wheal (finding)                   11\n",
       "Rhinoconjunctivitis (disorder)     9\n",
       "Anaphylaxis (disorder)             6\n",
       "Eruption of skin (disorder)        4\n",
       "Nose running                       3\n",
       "Dyspnea (finding)                  3\n",
       "Allergic skin rash                 2\n",
       "Cough (finding)                    2\n",
       "Finding of vomiting (finding)      2\n",
       "Abdominal pain (finding)           1\n",
       "Diarrhea (finding)                 1\n",
       "Allergic angioedema (disorder)     1\n",
       "Name: DESCRIPTION1, dtype: int64"
      ]
     },
     "metadata": {},
     "output_type": "display_data"
    },
    {
     "data": {
      "text/plain": [
       "MODERATE    27\n",
       "MILD        12\n",
       "SEVERE       6\n",
       "Name: SEVERITY1, dtype: int64"
      ]
     },
     "metadata": {},
     "output_type": "display_data"
    }
   ],
   "source": [
    "display(allergies[\"REACTION1\"].value_counts())\n",
    "display(allergies[\"DESCRIPTION1\"].value_counts())\n",
    "display(allergies[\"SEVERITY1\"].value_counts())"
   ]
  },
  {
   "cell_type": "code",
   "execution_count": 63,
   "metadata": {},
   "outputs": [
    {
     "data": {
      "text/plain": [
       "271807003.0    12\n",
       "247472004.0     6\n",
       "402387002.0     3\n",
       "267036007.0     3\n",
       "878820003.0     1\n",
       "62315008.0      1\n",
       "76067001.0      1\n",
       "422587007.0     1\n",
       "Name: REACTION2, dtype: int64"
      ]
     },
     "metadata": {},
     "output_type": "display_data"
    },
    {
     "data": {
      "text/plain": [
       "Eruption of skin (disorder)       12\n",
       "Wheal (finding)                    6\n",
       "Allergic angioedema (disorder)     3\n",
       "Dyspnea (finding)                  3\n",
       "Diarrhea (finding)                 1\n",
       "Rhinoconjunctivitis (disorder)     1\n",
       "Sneezing                           1\n",
       "Nausea (finding)                   1\n",
       "Name: DESCRIPTION2, dtype: int64"
      ]
     },
     "metadata": {},
     "output_type": "display_data"
    },
    {
     "data": {
      "text/plain": [
       "MILD        19\n",
       "MODERATE     9\n",
       "Name: SEVERITY2, dtype: int64"
      ]
     },
     "metadata": {},
     "output_type": "display_data"
    }
   ],
   "source": [
    "display(allergies[\"REACTION2\"].value_counts())\n",
    "display(allergies[\"DESCRIPTION2\"].value_counts())\n",
    "display(allergies[\"SEVERITY2\"].value_counts())"
   ]
  },
  {
   "cell_type": "code",
   "execution_count": 137,
   "metadata": {},
   "outputs": [
    {
     "data": {
      "text/plain": [
       "7bad641d-51df-ad52-5989-a3f14b77c52a    11\n",
       "f3b8472a-44ad-23b1-8132-b096033d2e41    11\n",
       "0da8d6e5-017b-dd3a-d3de-5eb41c46e0f4    10\n",
       "d20aad2d-5f0e-932c-0ba8-dec2325c9f5f     9\n",
       "2331a899-a65f-5577-8b95-ce995e833aa3     9\n",
       "356c64dc-c983-2ed4-7631-dee93beedab3     8\n",
       "d0f42c19-94b4-964d-b7d8-d087fe220e78     7\n",
       "65d69f42-dcce-4773-0d7a-aedcce4dc98a     6\n",
       "aa54bf98-f27f-fbda-eeae-00bfb1656ee0     5\n",
       "41ac485e-8346-259b-1661-a73de3413401     3\n",
       "f78e216e-9993-3fe5-4c67-6272f6e0b151     3\n",
       "5d4f915d-9dcd-485c-1dc8-bea871dc2304     2\n",
       "d925bf7c-1ed3-4b52-4480-63c1c8849b30     2\n",
       "8e3958d1-7898-a8e0-f17a-d7dfbd4b5ac0     2\n",
       "794e3e59-abf6-0282-2ebc-1bd112328bdb     2\n",
       "Name: PATIENT, dtype: int64"
      ]
     },
     "execution_count": 137,
     "metadata": {},
     "output_type": "execute_result"
    }
   ],
   "source": [
    "allergies[\"PATIENT\"].value_counts()"
   ]
  },
  {
   "cell_type": "code",
   "execution_count": 54,
   "metadata": {},
   "outputs": [
    {
     "data": {
      "text/plain": [
       "0ce6b107-24c0-dc08-9c42-c5a379d1f82a    11\n",
       "2c577a31-1b96-e3b0-fe24-4c143fbdd6bc    11\n",
       "d4cfedea-213c-133b-dda6-2af70af5a1c8    10\n",
       "d32396d3-befd-e12e-f1c4-f991d4b52be8     9\n",
       "deba0432-eb6d-d76e-1283-298701b80b18     9\n",
       "016d71a9-99cd-ba3b-13a9-a674f16f8d96     8\n",
       "367ed7a0-42c9-8a94-1e8b-4def22843269     7\n",
       "012b1c32-77d5-ce25-610e-9eb9bbe1f760     6\n",
       "32900619-6518-b05a-372c-f1ad1f144aff     5\n",
       "e74489ab-a558-60ba-c31a-e67a16ef6f0f     3\n",
       "f9a285d9-ad53-da3f-a77d-722f6bbe4f7e     3\n",
       "691ce6d6-bfbb-4eae-785c-74fd490c7903     2\n",
       "1f8bbb1d-b955-1a5e-d086-82540a2f9ca7     2\n",
       "bfa2673e-f0bb-a2a8-0dd6-eff6e012a51b     2\n",
       "95a181e5-63ee-c2a4-e8cd-9528a37e5496     2\n",
       "Name: ENCOUNTER, dtype: int64"
      ]
     },
     "execution_count": 54,
     "metadata": {},
     "output_type": "execute_result"
    }
   ],
   "source": [
    "allergies[\"ENCOUNTER\"].value_counts()"
   ]
  },
  {
   "attachments": {},
   "cell_type": "markdown",
   "metadata": {},
   "source": [
    "# Careplans"
   ]
  },
  {
   "cell_type": "code",
   "execution_count": 65,
   "metadata": {},
   "outputs": [
    {
     "data": {
      "text/html": [
       "<div>\n",
       "<style scoped>\n",
       "    .dataframe tbody tr th:only-of-type {\n",
       "        vertical-align: middle;\n",
       "    }\n",
       "\n",
       "    .dataframe tbody tr th {\n",
       "        vertical-align: top;\n",
       "    }\n",
       "\n",
       "    .dataframe thead th {\n",
       "        text-align: right;\n",
       "    }\n",
       "</style>\n",
       "<table border=\"1\" class=\"dataframe\">\n",
       "  <thead>\n",
       "    <tr style=\"text-align: right;\">\n",
       "      <th></th>\n",
       "      <th>Id</th>\n",
       "      <th>START</th>\n",
       "      <th>STOP</th>\n",
       "      <th>PATIENT</th>\n",
       "      <th>ENCOUNTER</th>\n",
       "      <th>CODE</th>\n",
       "      <th>DESCRIPTION</th>\n",
       "      <th>REASONCODE</th>\n",
       "      <th>REASONDESCRIPTION</th>\n",
       "    </tr>\n",
       "  </thead>\n",
       "  <tbody>\n",
       "    <tr>\n",
       "      <th>0</th>\n",
       "      <td>28fcd784-bc79-484c-026a-226f165ba9a7</td>\n",
       "      <td>2009-05-19</td>\n",
       "      <td>2010-01-24</td>\n",
       "      <td>febe7eb9-4860-1b17-d609-2c4c74e8b920</td>\n",
       "      <td>a8df6ba8-8bb7-5e55-dd55-792dd4170915</td>\n",
       "      <td>53950000</td>\n",
       "      <td>Respiratory therapy</td>\n",
       "      <td>NaN</td>\n",
       "      <td>NaN</td>\n",
       "    </tr>\n",
       "    <tr>\n",
       "      <th>1</th>\n",
       "      <td>b2576698-0eb0-b342-32c2-ea1a9b75c490</td>\n",
       "      <td>2007-09-15</td>\n",
       "      <td>NaN</td>\n",
       "      <td>f3b8472a-44ad-23b1-8132-b096033d2e41</td>\n",
       "      <td>c8fcd267-325d-5873-bc5d-7f89119a6a13</td>\n",
       "      <td>384758001</td>\n",
       "      <td>Self-care interventions (procedure)</td>\n",
       "      <td>NaN</td>\n",
       "      <td>NaN</td>\n",
       "    </tr>\n",
       "    <tr>\n",
       "      <th>2</th>\n",
       "      <td>5c3d9039-fea1-c026-59a2-27b53e38b0c7</td>\n",
       "      <td>2012-08-17</td>\n",
       "      <td>2012-11-06</td>\n",
       "      <td>0d505b75-df45-f29c-2ee8-068411e7f6a3</td>\n",
       "      <td>c97a37b4-bd79-2485-6708-486a9e493a7f</td>\n",
       "      <td>53950000</td>\n",
       "      <td>Respiratory therapy</td>\n",
       "      <td>NaN</td>\n",
       "      <td>NaN</td>\n",
       "    </tr>\n",
       "  </tbody>\n",
       "</table>\n",
       "</div>"
      ],
      "text/plain": [
       "                                     Id       START        STOP  \\\n",
       "0  28fcd784-bc79-484c-026a-226f165ba9a7  2009-05-19  2010-01-24   \n",
       "1  b2576698-0eb0-b342-32c2-ea1a9b75c490  2007-09-15         NaN   \n",
       "2  5c3d9039-fea1-c026-59a2-27b53e38b0c7  2012-08-17  2012-11-06   \n",
       "\n",
       "                                PATIENT                             ENCOUNTER  \\\n",
       "0  febe7eb9-4860-1b17-d609-2c4c74e8b920  a8df6ba8-8bb7-5e55-dd55-792dd4170915   \n",
       "1  f3b8472a-44ad-23b1-8132-b096033d2e41  c8fcd267-325d-5873-bc5d-7f89119a6a13   \n",
       "2  0d505b75-df45-f29c-2ee8-068411e7f6a3  c97a37b4-bd79-2485-6708-486a9e493a7f   \n",
       "\n",
       "        CODE                          DESCRIPTION  REASONCODE  \\\n",
       "0   53950000                  Respiratory therapy         NaN   \n",
       "1  384758001  Self-care interventions (procedure)         NaN   \n",
       "2   53950000                  Respiratory therapy         NaN   \n",
       "\n",
       "  REASONDESCRIPTION  \n",
       "0               NaN  \n",
       "1               NaN  \n",
       "2               NaN  "
      ]
     },
     "execution_count": 65,
     "metadata": {},
     "output_type": "execute_result"
    }
   ],
   "source": [
    "careplans.head(3)"
   ]
  },
  {
   "cell_type": "code",
   "execution_count": 66,
   "metadata": {},
   "outputs": [
    {
     "name": "stdout",
     "output_type": "stream",
     "text": [
      "<class 'pandas.core.frame.DataFrame'>\n",
      "RangeIndex: 1221 entries, 0 to 1220\n",
      "Data columns (total 9 columns):\n",
      " #   Column             Non-Null Count  Dtype  \n",
      "---  ------             --------------  -----  \n",
      " 0   Id                 1221 non-null   object \n",
      " 1   START              1221 non-null   object \n",
      " 2   STOP               988 non-null    object \n",
      " 3   PATIENT            1221 non-null   object \n",
      " 4   ENCOUNTER          1221 non-null   object \n",
      " 5   CODE               1221 non-null   int64  \n",
      " 6   DESCRIPTION        1221 non-null   object \n",
      " 7   REASONCODE         556 non-null    float64\n",
      " 8   REASONDESCRIPTION  556 non-null    object \n",
      "dtypes: float64(1), int64(1), object(7)\n",
      "memory usage: 86.0+ KB\n"
     ]
    }
   ],
   "source": [
    "careplans.info()"
   ]
  },
  {
   "cell_type": "code",
   "execution_count": 67,
   "metadata": {},
   "outputs": [
    {
     "data": {
      "text/plain": [
       "Id                   1221\n",
       "START                1181\n",
       "STOP                  963\n",
       "PATIENT               113\n",
       "ENCOUNTER            1215\n",
       "CODE                   35\n",
       "DESCRIPTION            36\n",
       "REASONCODE             52\n",
       "REASONDESCRIPTION      52\n",
       "dtype: int64"
      ]
     },
     "execution_count": 67,
     "metadata": {},
     "output_type": "execute_result"
    }
   ],
   "source": [
    "careplans.nunique()"
   ]
  },
  {
   "cell_type": "code",
   "execution_count": 68,
   "metadata": {},
   "outputs": [
    {
     "data": {
      "text/plain": [
       "53950000     302\n",
       "134435003    192\n",
       "773513001    116\n",
       "385691007     87\n",
       "225358003     82\n",
       "698360004     57\n",
       "443402002     48\n",
       "47387005      44\n",
       "408869004     40\n",
       "276239002     29\n",
       "737471002     25\n",
       "734163000     24\n",
       "773593000     23\n",
       "133901003     22\n",
       "384758001     15\n",
       "386522008     13\n",
       "170836005     10\n",
       "736690008     10\n",
       "736376001     10\n",
       "736285004      8\n",
       "737567002      7\n",
       "699728000      7\n",
       "736372004      7\n",
       "395082007      7\n",
       "736353004      6\n",
       "718361005      6\n",
       "735984001      4\n",
       "711282006      4\n",
       "412776001      4\n",
       "386257007      3\n",
       "736252007      3\n",
       "736254008      2\n",
       "718347000      2\n",
       "735321000      1\n",
       "75162002       1\n",
       "Name: CODE, dtype: int64"
      ]
     },
     "execution_count": 68,
     "metadata": {},
     "output_type": "execute_result"
    }
   ],
   "source": [
    "careplans[\"CODE\"].value_counts()"
   ]
  },
  {
   "cell_type": "code",
   "execution_count": 69,
   "metadata": {},
   "outputs": [
    {
     "data": {
      "text/plain": [
       "Respiratory therapy                                               302\n",
       "Routine antenatal care                                            192\n",
       "Physiotherapy care plan (record artifact)                         116\n",
       "Fracture care                                                      87\n",
       "Wound care                                                         82\n",
       "Diabetes self management plan                                      57\n",
       "Lifestyle education regarding hypertension                         48\n",
       "Head injury rehabilitation                                         44\n",
       "Musculoskeletal care                                               40\n",
       "Therapy (regime/therapy)                                           29\n",
       "Minor surgery care management (procedure)                          25\n",
       "Urology care plan (record artifact)                                23\n",
       "Burn care                                                          22\n",
       "Care plan (record artifact)                                        22\n",
       "Self-care interventions (procedure)                                15\n",
       "Overactivity/inattention behavior management                       13\n",
       "Dialysis care plan (record artifact)                               10\n",
       "Allergic disorder monitoring                                       10\n",
       "Cancer care plan                                                   10\n",
       "Infectious disease care plan (record artifact)                     10\n",
       "Hyperlipidemia clinical management plan                             8\n",
       "Asthma self management                                              7\n",
       "Discharge care plan (record artifact)                               7\n",
       "Major surgery care management (procedure)                           7\n",
       "Weight management program                                           6\n",
       "Inpatient care plan (record artifact)                               6\n",
       "Skin condition care                                                 4\n",
       "Heart failure self management plan                                  4\n",
       "Chronic obstructive pulmonary disease clinical management plan      4\n",
       "Dementia management                                                 3\n",
       "Psychiatry care plan                                                2\n",
       "Care Plan                                                           2\n",
       "Spinal cord injury rehabilitation                                   1\n",
       "Surgical inpatient care plan (record artifact)                      1\n",
       "Mental health care plan                                             1\n",
       "Mental health care plan (record artifact)                           1\n",
       "Name: DESCRIPTION, dtype: int64"
      ]
     },
     "execution_count": 69,
     "metadata": {},
     "output_type": "execute_result"
    }
   ],
   "source": [
    "careplans[\"DESCRIPTION\"].value_counts()"
   ]
  },
  {
   "cell_type": "code",
   "execution_count": 71,
   "metadata": {},
   "outputs": [
    {
     "data": {
      "text/plain": [
       "4.446501e+07    80\n",
       "1.577700e+07    53\n",
       "5.962100e+07    48\n",
       "6.210601e+07    34\n",
       "5.815000e+07    24\n",
       "7.070401e+07    24\n",
       "2.631020e+08    19\n",
       "2.845510e+08    19\n",
       "3.702470e+08    18\n",
       "2.833710e+08    17\n",
       "6.596600e+07    16\n",
       "1.611400e+07    15\n",
       "2.833850e+08    13\n",
       "4.031910e+08    13\n",
       "3.010110e+08    13\n",
       "2.845490e+08    13\n",
       "3.373700e+07    10\n",
       "8.880501e+07    10\n",
       "3.882201e+07    10\n",
       "6.256400e+07     9\n",
       "4.031900e+08     8\n",
       "5.582200e+07     8\n",
       "7.827501e+07     7\n",
       "1.098380e+08     6\n",
       "3.634060e+08     6\n",
       "2.398730e+08     6\n",
       "2.336780e+08     6\n",
       "4.444480e+08     5\n",
       "2.018340e+08     4\n",
       "4.405401e+07     4\n",
       "3.598170e+08     3\n",
       "3.083200e+07     3\n",
       "2.407900e+07     3\n",
       "1.269060e+08     3\n",
       "2.692900e+07     2\n",
       "4.444700e+08     2\n",
       "2.398720e+08     2\n",
       "1.850860e+08     2\n",
       "1.231000e+12     2\n",
       "4.750500e+07     2\n",
       "8.743300e+07     2\n",
       "9.376100e+07     2\n",
       "7.343001e+07     1\n",
       "4.031920e+08     1\n",
       "2.302650e+08     1\n",
       "4.027500e+07     1\n",
       "3.701430e+08     1\n",
       "6.023400e+07     1\n",
       "3.692301e+07     1\n",
       "1.100300e+08     1\n",
       "1.959670e+08     1\n",
       "1.572400e+07     1\n",
       "Name: REASONCODE, dtype: int64"
      ]
     },
     "execution_count": 71,
     "metadata": {},
     "output_type": "execute_result"
    }
   ],
   "source": [
    "careplans[\"REASONCODE\"].value_counts()"
   ]
  },
  {
   "cell_type": "code",
   "execution_count": 72,
   "metadata": {},
   "outputs": [
    {
     "data": {
      "text/plain": [
       "Sprain of ankle                                            80\n",
       "Prediabetes                                                53\n",
       "Essential hypertension (disorder)                          48\n",
       "Concussion with no loss of consciousness                   34\n",
       "Fracture of clavicle                                       24\n",
       "Sprain of wrist                                            24\n",
       "Fracture subluxation of wrist                              19\n",
       "Laceration of foot                                         19\n",
       "Facial laceration                                          18\n",
       "Laceration of forearm                                      17\n",
       "Fracture of forearm                                        16\n",
       "Fracture of ankle                                          15\n",
       "Second degree burn                                         13\n",
       "Escherichia coli urinary tract infection                   13\n",
       "Laceration of thigh                                        13\n",
       "Laceration of hand                                         13\n",
       "Fracture of rib                                            10\n",
       "Cystitis                                                   10\n",
       "Chronic congestive heart failure (disorder)                10\n",
       "Concussion with loss of consciousness                       9\n",
       "Hyperlipidemia                                              8\n",
       "Epidermal burn of skin (disorder)                           8\n",
       "Obstructive sleep apnea syndrome (disorder)                 7\n",
       "Childhood asthma                                            6\n",
       "Malignant tumor of colon                                    6\n",
       "Overlapping malignant neoplasm of colon                     6\n",
       "Osteoarthritis of knee                                      6\n",
       "Injury of medial collateral ligament of knee                5\n",
       "Diabetes mellitus type 2 (disorder)                         4\n",
       "Localized  primary osteoarthritis of the hand               4\n",
       "Atopic dermatitis                                           3\n",
       "Closed fracture of hip                                      3\n",
       "Rupture of patellar tendon                                  3\n",
       "Neoplasm of prostate                                        3\n",
       "Injury of anterior cruciate ligament                        2\n",
       "History of aortic valve replacement (situation)             2\n",
       "Chronic obstructive bronchitis (disorder)                   2\n",
       "Posttraumatic stress disorder                               2\n",
       "Primary malignant neoplasm of colon                         2\n",
       "Osteoarthritis of hip                                       2\n",
       "Alzheimer's disease (disorder)                              2\n",
       "Pulmonary emphysema (disorder)                              2\n",
       "Major depression disorder                                   1\n",
       "Concussion injury of brain                                  1\n",
       "Sleep apnea (disorder)                                      1\n",
       "Major depression  single episode                            1\n",
       "Contact dermatitis                                          1\n",
       "Aortic valve regurgitation (disorder)                       1\n",
       "Familial Alzheimer's disease of early onset (disorder)      1\n",
       "Fracture of vertebral column without spinal cord injury     1\n",
       "Asthma                                                      1\n",
       "Third degree burn                                           1\n",
       "Name: REASONDESCRIPTION, dtype: int64"
      ]
     },
     "execution_count": 72,
     "metadata": {},
     "output_type": "execute_result"
    }
   ],
   "source": [
    "careplans[\"REASONDESCRIPTION\"].value_counts()"
   ]
  },
  {
   "cell_type": "code",
   "execution_count": 74,
   "metadata": {},
   "outputs": [
    {
     "data": {
      "text/plain": [
       "5d4f915d-9dcd-485c-1dc8-bea871dc2304    27\n",
       "0da8d6e5-017b-dd3a-d3de-5eb41c46e0f4    23\n",
       "297a0fc0-6c0b-ff79-1258-33885aeb3eda    23\n",
       "33c48b52-ef84-b6fc-2408-93b5215632da    22\n",
       "b9003acd-736d-bb16-359f-f5b56a2ca9ff    20\n",
       "                                        ..\n",
       "49fdc425-ccb7-3209-881a-767809d86745     1\n",
       "7f3c397b-0ba6-a8c4-bd7a-970472a3d945     1\n",
       "a7f45e15-51a1-1c17-b916-287750ffdafa     1\n",
       "3c2401c2-7d08-5c22-eb55-733f19ac556d     1\n",
       "f78e216e-9993-3fe5-4c67-6272f6e0b151     1\n",
       "Name: PATIENT, Length: 113, dtype: int64"
      ]
     },
     "execution_count": 74,
     "metadata": {},
     "output_type": "execute_result"
    }
   ],
   "source": [
    "careplans[\"PATIENT\"].value_counts()"
   ]
  },
  {
   "cell_type": "code",
   "execution_count": 75,
   "metadata": {},
   "outputs": [
    {
     "data": {
      "text/plain": [
       "67a4b35f-21db-a262-ce30-4a4552a53004    2\n",
       "3ff61c38-463f-f6dc-d5e2-fee9f3c1d698    2\n",
       "084fc97f-e1c1-1b34-7796-d8378c5fd6bc    2\n",
       "6ee82f47-fe5b-3121-f7f9-6fb42c69423b    2\n",
       "1fa44f5a-529f-beeb-8140-f0c1dff83254    2\n",
       "                                       ..\n",
       "e6c0e989-20bd-c986-f677-0d4e002c3951    1\n",
       "1cb8bb95-fce4-aa58-e4bb-2ee13f8bdc45    1\n",
       "6d7bbe7f-b36f-e55b-306c-1ea91bc740e1    1\n",
       "398048c1-a8c2-b555-e2de-32c18ae0056f    1\n",
       "159d6bd2-4a30-0274-c84d-11903fbcafbd    1\n",
       "Name: ENCOUNTER, Length: 1215, dtype: int64"
      ]
     },
     "execution_count": 75,
     "metadata": {},
     "output_type": "execute_result"
    }
   ],
   "source": [
    "careplans[\"ENCOUNTER\"].value_counts()"
   ]
  },
  {
   "attachments": {},
   "cell_type": "markdown",
   "metadata": {},
   "source": [
    "# Claims"
   ]
  },
  {
   "cell_type": "code",
   "execution_count": 112,
   "metadata": {},
   "outputs": [
    {
     "data": {
      "text/html": [
       "<div>\n",
       "<style scoped>\n",
       "    .dataframe tbody tr th:only-of-type {\n",
       "        vertical-align: middle;\n",
       "    }\n",
       "\n",
       "    .dataframe tbody tr th {\n",
       "        vertical-align: top;\n",
       "    }\n",
       "\n",
       "    .dataframe thead th {\n",
       "        text-align: right;\n",
       "    }\n",
       "</style>\n",
       "<table border=\"1\" class=\"dataframe\">\n",
       "  <thead>\n",
       "    <tr style=\"text-align: right;\">\n",
       "      <th></th>\n",
       "      <th>Id</th>\n",
       "      <th>PATIENTID</th>\n",
       "      <th>PROVIDERID</th>\n",
       "      <th>PRIMARYPATIENTINSURANCEID</th>\n",
       "      <th>SECONDARYPATIENTINSURANCEID</th>\n",
       "      <th>DEPARTMENTID</th>\n",
       "      <th>PATIENTDEPARTMENTID</th>\n",
       "      <th>DIAGNOSIS1</th>\n",
       "      <th>DIAGNOSIS2</th>\n",
       "      <th>DIAGNOSIS3</th>\n",
       "      <th>...</th>\n",
       "      <th>STATUS2</th>\n",
       "      <th>STATUSP</th>\n",
       "      <th>OUTSTANDING1</th>\n",
       "      <th>OUTSTANDING2</th>\n",
       "      <th>OUTSTANDINGP</th>\n",
       "      <th>LASTBILLEDDATE1</th>\n",
       "      <th>LASTBILLEDDATE2</th>\n",
       "      <th>LASTBILLEDDATEP</th>\n",
       "      <th>HEALTHCARECLAIMTYPEID1</th>\n",
       "      <th>HEALTHCARECLAIMTYPEID2</th>\n",
       "    </tr>\n",
       "  </thead>\n",
       "  <tbody>\n",
       "    <tr>\n",
       "      <th>0</th>\n",
       "      <td>8901c57e-5aaf-0f7c-394e-c33468c7f2fe</td>\n",
       "      <td>0b0fefd8-ba9a-b401-5924-8c6ea36a8568</td>\n",
       "      <td>234f5632-2b73-38dd-bb23-a03fff8bc0aa</td>\n",
       "      <td>d31fccc3-1767-390d-966a-22a5156f4219</td>\n",
       "      <td>0</td>\n",
       "      <td>10</td>\n",
       "      <td>10</td>\n",
       "      <td>410620009</td>\n",
       "      <td>NaN</td>\n",
       "      <td>NaN</td>\n",
       "      <td>...</td>\n",
       "      <td>CLOSED</td>\n",
       "      <td>CLOSED</td>\n",
       "      <td>0.0</td>\n",
       "      <td>0.0</td>\n",
       "      <td>0.0</td>\n",
       "      <td>2022-02-17T06:00:41Z</td>\n",
       "      <td>2022-02-17T06:00:41Z</td>\n",
       "      <td>2022-02-17T06:00:41Z</td>\n",
       "      <td>1</td>\n",
       "      <td>1</td>\n",
       "    </tr>\n",
       "    <tr>\n",
       "      <th>1</th>\n",
       "      <td>91d53534-f698-7f94-163b-67408a00af41</td>\n",
       "      <td>0b0fefd8-ba9a-b401-5924-8c6ea36a8568</td>\n",
       "      <td>234f5632-2b73-38dd-bb23-a03fff8bc0aa</td>\n",
       "      <td>d31fccc3-1767-390d-966a-22a5156f4219</td>\n",
       "      <td>0</td>\n",
       "      <td>10</td>\n",
       "      <td>10</td>\n",
       "      <td>410620009</td>\n",
       "      <td>NaN</td>\n",
       "      <td>NaN</td>\n",
       "      <td>...</td>\n",
       "      <td>CLOSED</td>\n",
       "      <td>CLOSED</td>\n",
       "      <td>0.0</td>\n",
       "      <td>0.0</td>\n",
       "      <td>0.0</td>\n",
       "      <td>2022-03-24T06:00:41Z</td>\n",
       "      <td>2022-03-24T06:00:41Z</td>\n",
       "      <td>2022-03-24T06:00:41Z</td>\n",
       "      <td>1</td>\n",
       "      <td>1</td>\n",
       "    </tr>\n",
       "    <tr>\n",
       "      <th>2</th>\n",
       "      <td>32d2bb15-d9d6-5a67-cae8-a2eaf0907f23</td>\n",
       "      <td>e21a6d28-3d43-24eb-72cd-02393a4e38a4</td>\n",
       "      <td>c089f225-1997-3fc4-9116-fe17bc33118f</td>\n",
       "      <td>0133f751-9229-3cfd-815f-b6d4979bdd6a</td>\n",
       "      <td>0</td>\n",
       "      <td>10</td>\n",
       "      <td>10</td>\n",
       "      <td>410620009</td>\n",
       "      <td>NaN</td>\n",
       "      <td>NaN</td>\n",
       "      <td>...</td>\n",
       "      <td>CLOSED</td>\n",
       "      <td>CLOSED</td>\n",
       "      <td>0.0</td>\n",
       "      <td>0.0</td>\n",
       "      <td>0.0</td>\n",
       "      <td>2015-12-07T08:44:09Z</td>\n",
       "      <td>2015-12-07T08:44:09Z</td>\n",
       "      <td>2015-12-07T08:44:09Z</td>\n",
       "      <td>1</td>\n",
       "      <td>1</td>\n",
       "    </tr>\n",
       "  </tbody>\n",
       "</table>\n",
       "<p>3 rows × 31 columns</p>\n",
       "</div>"
      ],
      "text/plain": [
       "                                     Id                             PATIENTID  \\\n",
       "0  8901c57e-5aaf-0f7c-394e-c33468c7f2fe  0b0fefd8-ba9a-b401-5924-8c6ea36a8568   \n",
       "1  91d53534-f698-7f94-163b-67408a00af41  0b0fefd8-ba9a-b401-5924-8c6ea36a8568   \n",
       "2  32d2bb15-d9d6-5a67-cae8-a2eaf0907f23  e21a6d28-3d43-24eb-72cd-02393a4e38a4   \n",
       "\n",
       "                             PROVIDERID             PRIMARYPATIENTINSURANCEID  \\\n",
       "0  234f5632-2b73-38dd-bb23-a03fff8bc0aa  d31fccc3-1767-390d-966a-22a5156f4219   \n",
       "1  234f5632-2b73-38dd-bb23-a03fff8bc0aa  d31fccc3-1767-390d-966a-22a5156f4219   \n",
       "2  c089f225-1997-3fc4-9116-fe17bc33118f  0133f751-9229-3cfd-815f-b6d4979bdd6a   \n",
       "\n",
       "  SECONDARYPATIENTINSURANCEID  DEPARTMENTID  PATIENTDEPARTMENTID  DIAGNOSIS1  \\\n",
       "0                           0            10                   10   410620009   \n",
       "1                           0            10                   10   410620009   \n",
       "2                           0            10                   10   410620009   \n",
       "\n",
       "   DIAGNOSIS2  DIAGNOSIS3  ...  STATUS2  STATUSP  OUTSTANDING1  OUTSTANDING2  \\\n",
       "0         NaN         NaN  ...   CLOSED   CLOSED           0.0           0.0   \n",
       "1         NaN         NaN  ...   CLOSED   CLOSED           0.0           0.0   \n",
       "2         NaN         NaN  ...   CLOSED   CLOSED           0.0           0.0   \n",
       "\n",
       "   OUTSTANDINGP       LASTBILLEDDATE1       LASTBILLEDDATE2  \\\n",
       "0           0.0  2022-02-17T06:00:41Z  2022-02-17T06:00:41Z   \n",
       "1           0.0  2022-03-24T06:00:41Z  2022-03-24T06:00:41Z   \n",
       "2           0.0  2015-12-07T08:44:09Z  2015-12-07T08:44:09Z   \n",
       "\n",
       "        LASTBILLEDDATEP HEALTHCARECLAIMTYPEID1 HEALTHCARECLAIMTYPEID2  \n",
       "0  2022-02-17T06:00:41Z                      1                      1  \n",
       "1  2022-03-24T06:00:41Z                      1                      1  \n",
       "2  2015-12-07T08:44:09Z                      1                      1  \n",
       "\n",
       "[3 rows x 31 columns]"
      ]
     },
     "execution_count": 112,
     "metadata": {},
     "output_type": "execute_result"
    }
   ],
   "source": [
    "claims.head(3)"
   ]
  },
  {
   "cell_type": "code",
   "execution_count": 113,
   "metadata": {},
   "outputs": [
    {
     "name": "stdout",
     "output_type": "stream",
     "text": [
      "<class 'pandas.core.frame.DataFrame'>\n",
      "RangeIndex: 37058 entries, 0 to 37057\n",
      "Data columns (total 31 columns):\n",
      " #   Column                       Non-Null Count  Dtype  \n",
      "---  ------                       --------------  -----  \n",
      " 0   Id                           37058 non-null  object \n",
      " 1   PATIENTID                    37058 non-null  object \n",
      " 2   PROVIDERID                   37058 non-null  object \n",
      " 3   PRIMARYPATIENTINSURANCEID    37058 non-null  object \n",
      " 4   SECONDARYPATIENTINSURANCEID  37058 non-null  object \n",
      " 5   DEPARTMENTID                 37058 non-null  int64  \n",
      " 6   PATIENTDEPARTMENTID          37058 non-null  int64  \n",
      " 7   DIAGNOSIS1                   37058 non-null  int64  \n",
      " 8   DIAGNOSIS2                   9269 non-null   float64\n",
      " 9   DIAGNOSIS3                   1658 non-null   float64\n",
      " 10  DIAGNOSIS4                   347 non-null    float64\n",
      " 11  DIAGNOSIS5                   74 non-null     float64\n",
      " 12  DIAGNOSIS6                   6 non-null      float64\n",
      " 13  DIAGNOSIS7                   2 non-null      float64\n",
      " 14  DIAGNOSIS8                   1 non-null      float64\n",
      " 15  REFERRINGPROVIDERID          0 non-null      float64\n",
      " 16  APPOINTMENTID                37058 non-null  object \n",
      " 17  CURRENTILLNESSDATE           37058 non-null  object \n",
      " 18  SERVICEDATE                  37058 non-null  object \n",
      " 19  SUPERVISINGPROVIDERID        37058 non-null  object \n",
      " 20  STATUS1                      37058 non-null  object \n",
      " 21  STATUS2                      25767 non-null  object \n",
      " 22  STATUSP                      37058 non-null  object \n",
      " 23  OUTSTANDING1                 37058 non-null  float64\n",
      " 24  OUTSTANDING2                 25767 non-null  float64\n",
      " 25  OUTSTANDINGP                 37058 non-null  float64\n",
      " 26  LASTBILLEDDATE1              37058 non-null  object \n",
      " 27  LASTBILLEDDATE2              25767 non-null  object \n",
      " 28  LASTBILLEDDATEP              37058 non-null  object \n",
      " 29  HEALTHCARECLAIMTYPEID1       37058 non-null  int64  \n",
      " 30  HEALTHCARECLAIMTYPEID2       37058 non-null  int64  \n",
      "dtypes: float64(11), int64(5), object(15)\n",
      "memory usage: 8.8+ MB\n"
     ]
    }
   ],
   "source": [
    "claims.info()"
   ]
  },
  {
   "cell_type": "code",
   "execution_count": 114,
   "metadata": {},
   "outputs": [
    {
     "data": {
      "text/plain": [
       "Id                             37058\n",
       "PATIENTID                        123\n",
       "PROVIDERID                       285\n",
       "PRIMARYPATIENTINSURANCEID         10\n",
       "SECONDARYPATIENTINSURANCEID        2\n",
       "DEPARTMENTID                      11\n",
       "PATIENTDEPARTMENTID               11\n",
       "DIAGNOSIS1                       165\n",
       "DIAGNOSIS2                       109\n",
       "DIAGNOSIS3                        37\n",
       "DIAGNOSIS4                        24\n",
       "DIAGNOSIS5                        13\n",
       "DIAGNOSIS6                         5\n",
       "DIAGNOSIS7                         2\n",
       "DIAGNOSIS8                         1\n",
       "REFERRINGPROVIDERID                0\n",
       "APPOINTMENTID                  21544\n",
       "CURRENTILLNESSDATE             18639\n",
       "SERVICEDATE                    20544\n",
       "SUPERVISINGPROVIDERID            285\n",
       "STATUS1                            2\n",
       "STATUS2                            2\n",
       "STATUSP                            2\n",
       "OUTSTANDING1                       4\n",
       "OUTSTANDING2                       3\n",
       "OUTSTANDINGP                       4\n",
       "LASTBILLEDDATE1                21034\n",
       "LASTBILLEDDATE2                16502\n",
       "LASTBILLEDDATEP                21034\n",
       "HEALTHCARECLAIMTYPEID1             2\n",
       "HEALTHCARECLAIMTYPEID2             3\n",
       "dtype: int64"
      ]
     },
     "execution_count": 114,
     "metadata": {},
     "output_type": "execute_result"
    }
   ],
   "source": [
    "claims.nunique()"
   ]
  },
  {
   "cell_type": "code",
   "execution_count": 116,
   "metadata": {},
   "outputs": [
    {
     "data": {
      "text/plain": [
       "1     13951\n",
       "2      7180\n",
       "20     5995\n",
       "5      4512\n",
       "10     3113\n",
       "4      1790\n",
       "3       369\n",
       "8        68\n",
       "7        47\n",
       "6        31\n",
       "9         2\n",
       "Name: DEPARTMENTID, dtype: int64"
      ]
     },
     "execution_count": 116,
     "metadata": {},
     "output_type": "execute_result"
    }
   ],
   "source": [
    "claims[\"DEPARTMENTID\"].value_counts()"
   ]
  },
  {
   "cell_type": "code",
   "execution_count": 115,
   "metadata": {},
   "outputs": [
    {
     "data": {
      "text/plain": [
       "1     13951\n",
       "2      7180\n",
       "20     5995\n",
       "5      4512\n",
       "10     3113\n",
       "4      1790\n",
       "3       369\n",
       "8        68\n",
       "7        47\n",
       "6        31\n",
       "9         2\n",
       "Name: PATIENTDEPARTMENTID, dtype: int64"
      ]
     },
     "execution_count": 115,
     "metadata": {},
     "output_type": "execute_result"
    }
   ],
   "source": [
    "claims[\"PATIENTDEPARTMENTID\"].value_counts()"
   ]
  },
  {
   "cell_type": "code",
   "execution_count": 120,
   "metadata": {},
   "outputs": [
    {
     "data": {
      "text/plain": [
       "160903007    7739\n",
       "431857002    4515\n",
       "410620009    3014\n",
       "160904001    2426\n",
       "72892002     2214\n",
       "             ... \n",
       "37849005        1\n",
       "45595009        1\n",
       "248595008       1\n",
       "56786000        1\n",
       "204949001       1\n",
       "Name: DIAGNOSIS1, Length: 165, dtype: int64"
      ]
     },
     "metadata": {},
     "output_type": "display_data"
    },
    {
     "data": {
      "text/plain": [
       "73595000.0     2451\n",
       "423315002.0     835\n",
       "422650009.0     767\n",
       "444814009.0     696\n",
       "10509002.0      644\n",
       "               ... \n",
       "386661006.0       1\n",
       "47318007.0        1\n",
       "27942005.0        1\n",
       "224355006.0       1\n",
       "47505003.0        1\n",
       "Name: DIAGNOSIS2, Length: 109, dtype: int64"
      ]
     },
     "metadata": {},
     "output_type": "display_data"
    },
    {
     "data": {
      "text/plain": [
       "7.359500e+07    576\n",
       "7.068930e+08    258\n",
       "1.609030e+08    174\n",
       "4.243930e+08    157\n",
       "4.233150e+08     62\n",
       "1.093988e+16     56\n",
       "4.226500e+08     54\n",
       "8.058301e+07     52\n",
       "1.609040e+08     44\n",
       "1.916900e+07     27\n",
       "2.376020e+08     19\n",
       "2.669480e+08     18\n",
       "3.610550e+08     17\n",
       "7.410620e+08     15\n",
       "2.717370e+08     14\n",
       "2.359190e+08     13\n",
       "1.560730e+08     11\n",
       "7.031510e+08     10\n",
       "9.269100e+07      9\n",
       "9.078100e+13      9\n",
       "1.270130e+08      8\n",
       "7.134580e+08      7\n",
       "1.571410e+14      7\n",
       "3.599901e+07      6\n",
       "2.669340e+08      5\n",
       "2.242990e+08      4\n",
       "4.466540e+08      4\n",
       "3.866610e+08      3\n",
       "5.962100e+07      3\n",
       "7.343800e+07      3\n",
       "1.979270e+08      3\n",
       "7.440001e+07      3\n",
       "6.778200e+07      3\n",
       "2.670360e+08      1\n",
       "2.360770e+08      1\n",
       "7.958600e+07      1\n",
       "8.405440e+08      1\n",
       "Name: DIAGNOSIS3, dtype: int64"
      ]
     },
     "metadata": {},
     "output_type": "display_data"
    },
    {
     "data": {
      "text/plain": [
       "7.359500e+07    72\n",
       "7.068930e+08    55\n",
       "4.243930e+08    39\n",
       "1.609030e+08    38\n",
       "4.233150e+08    26\n",
       "4.226500e+08    25\n",
       "1.560730e+08    16\n",
       "1.093988e+16    14\n",
       "2.669480e+08    11\n",
       "1.609040e+08     8\n",
       "3.599901e+07     7\n",
       "8.475701e+07     6\n",
       "1.577700e+07     6\n",
       "4.145450e+08     5\n",
       "7.958600e+07     4\n",
       "8.058301e+07     3\n",
       "2.669340e+08     2\n",
       "3.610550e+08     2\n",
       "3.695501e+07     2\n",
       "7.410620e+08     2\n",
       "7.134580e+08     1\n",
       "8.405440e+08     1\n",
       "8.405390e+08     1\n",
       "5.601800e+07     1\n",
       "Name: DIAGNOSIS4, dtype: int64"
      ]
     },
     "metadata": {},
     "output_type": "display_data"
    },
    {
     "data": {
      "text/plain": [
       "7.359500e+07    20\n",
       "4.243930e+08    16\n",
       "4.226500e+08    10\n",
       "1.609030e+08     6\n",
       "4.233150e+08     4\n",
       "1.093988e+16     4\n",
       "3.610550e+08     3\n",
       "8.058301e+07     3\n",
       "7.068930e+08     3\n",
       "8.405440e+08     2\n",
       "2.669480e+08     1\n",
       "8.405390e+08     1\n",
       "3.866610e+08     1\n",
       "Name: DIAGNOSIS5, dtype: int64"
      ]
     },
     "metadata": {},
     "output_type": "display_data"
    },
    {
     "data": {
      "text/plain": [
       "840539006.0    2\n",
       "36955009.0     1\n",
       "73595000.0     1\n",
       "361055000.0    1\n",
       "424393004.0    1\n",
       "Name: DIAGNOSIS6, dtype: int64"
      ]
     },
     "metadata": {},
     "output_type": "display_data"
    },
    {
     "data": {
      "text/plain": [
       "424393004.0    1\n",
       "840544004.0    1\n",
       "Name: DIAGNOSIS7, dtype: int64"
      ]
     },
     "metadata": {},
     "output_type": "display_data"
    },
    {
     "data": {
      "text/plain": [
       "840539006.0    1\n",
       "Name: DIAGNOSIS8, dtype: int64"
      ]
     },
     "metadata": {},
     "output_type": "display_data"
    }
   ],
   "source": [
    "display(claims[\"DIAGNOSIS1\"].value_counts())\n",
    "display(claims[\"DIAGNOSIS2\"].value_counts())\n",
    "display(claims[\"DIAGNOSIS3\"].value_counts())\n",
    "display(claims[\"DIAGNOSIS4\"].value_counts())\n",
    "display(claims[\"DIAGNOSIS5\"].value_counts())\n",
    "display(claims[\"DIAGNOSIS6\"].value_counts())\n",
    "display(claims[\"DIAGNOSIS7\"].value_counts())\n",
    "display(claims[\"DIAGNOSIS8\"].value_counts())"
   ]
  },
  {
   "cell_type": "code",
   "execution_count": 138,
   "metadata": {},
   "outputs": [
    {
     "data": {
      "text/plain": [
       "CLOSED    37036\n",
       "BILLED       22\n",
       "Name: STATUS1, dtype: int64"
      ]
     },
     "metadata": {},
     "output_type": "display_data"
    },
    {
     "data": {
      "text/plain": [
       "CLOSED    25756\n",
       "BILLED       11\n",
       "Name: STATUS2, dtype: int64"
      ]
     },
     "metadata": {},
     "output_type": "display_data"
    },
    {
     "data": {
      "text/plain": [
       "CLOSED    37036\n",
       "BILLED       22\n",
       "Name: STATUSP, dtype: int64"
      ]
     },
     "metadata": {},
     "output_type": "display_data"
    }
   ],
   "source": [
    "display(claims[\"STATUS1\"].value_counts())\n",
    "display(claims[\"STATUS2\"].value_counts())\n",
    "display(claims[\"STATUSP\"].value_counts())"
   ]
  },
  {
   "cell_type": "code",
   "execution_count": 123,
   "metadata": {},
   "outputs": [
    {
     "data": {
      "text/plain": [
       "2    19748\n",
       "1    17310\n",
       "Name: HEALTHCARECLAIMTYPEID1, dtype: int64"
      ]
     },
     "metadata": {},
     "output_type": "display_data"
    },
    {
     "data": {
      "text/plain": [
       "2    15190\n",
       "0    11291\n",
       "1    10577\n",
       "Name: HEALTHCARECLAIMTYPEID2, dtype: int64"
      ]
     },
     "metadata": {},
     "output_type": "display_data"
    }
   ],
   "source": [
    "display(claims[\"HEALTHCARECLAIMTYPEID1\"].value_counts())\n",
    "display(claims[\"HEALTHCARECLAIMTYPEID2\"].value_counts())"
   ]
  },
  {
   "cell_type": "code",
   "execution_count": 125,
   "metadata": {},
   "outputs": [
    {
     "data": {
      "text/plain": [
       "e201efe2-198e-ceab-0038-41ecd9a68fd0    4282\n",
       "31651bd8-1a95-3206-41ef-4ccf5b2d0461    2198\n",
       "a01a1717-7a90-d91c-e78d-5d49ff25ea9a    1911\n",
       "5d4f915d-9dcd-485c-1dc8-bea871dc2304    1792\n",
       "8060acde-4b13-976b-c3e1-14f3747cea0a    1594\n",
       "                                        ... \n",
       "0b0fefd8-ba9a-b401-5924-8c6ea36a8568       7\n",
       "3a53517d-9a0f-ec86-1c2b-93f4253194dc       7\n",
       "350e36b2-6b6b-bcc5-d38d-a29f2ffdbe52       6\n",
       "ff72f1ac-ddb8-4481-3371-09cdcc48d3fc       4\n",
       "a652df44-d908-5f1e-0c43-c5af9cf06ab6       3\n",
       "Name: PATIENTID, Length: 123, dtype: int64"
      ]
     },
     "execution_count": 125,
     "metadata": {},
     "output_type": "execute_result"
    }
   ],
   "source": [
    "claims[\"PATIENTID\"].value_counts()"
   ]
  },
  {
   "cell_type": "code",
   "execution_count": 126,
   "metadata": {},
   "outputs": [
    {
     "data": {
      "text/plain": [
       "fe746682-d801-38c6-987a-6aad4ad52e38    2629\n",
       "6b54c36c-45f4-352b-83be-ded03731b268    1719\n",
       "3755ad24-8618-3658-bb3d-9b4a8a2e6e07    1651\n",
       "2b6dbfa0-62b3-3f89-a558-6b0aa2f85845    1645\n",
       "1c02e486-ff0a-3a41-a580-333d65774840    1517\n",
       "                                        ... \n",
       "fe6aab2b-31b8-3d5c-b683-6e947e996835       1\n",
       "0483df8f-d6dd-39ea-b61e-8e0b8b756ce4       1\n",
       "4e6eaa61-e2ec-3d97-9d83-c1a79373bfef       1\n",
       "30b4ef3d-ba44-37b8-9790-79d7bc09a2b7       1\n",
       "e59fc586-26fb-33d0-bddf-dee95ac04a0e       1\n",
       "Name: PROVIDERID, Length: 285, dtype: int64"
      ]
     },
     "execution_count": 126,
     "metadata": {},
     "output_type": "execute_result"
    }
   ],
   "source": [
    "claims[\"PROVIDERID\"].value_counts()"
   ]
  },
  {
   "cell_type": "code",
   "execution_count": 127,
   "metadata": {},
   "outputs": [
    {
     "data": {
      "text/plain": [
       "a735bf55-83e9-331a-899d-a82a60b9f60c    12207\n",
       "0                                        4669\n",
       "0133f751-9229-3cfd-815f-b6d4979bdd6a     4278\n",
       "b046940f-1664-3047-bca7-dfa76be352a4     4208\n",
       "26aab0cd-6aba-3e1b-ac5b-05c8867e762c     2990\n",
       "8fa6c185-e44e-3e34-8bd8-39be8694f4ce     2748\n",
       "df166300-5a78-3502-a46a-832842197811     2517\n",
       "d31fccc3-1767-390d-966a-22a5156f4219     1954\n",
       "734afbd6-4794-363b-9bc0-6a3981533ed5     1292\n",
       "d18ef2e6-ef40-324c-be54-34a5ee865625      195\n",
       "Name: PRIMARYPATIENTINSURANCEID, dtype: int64"
      ]
     },
     "execution_count": 127,
     "metadata": {},
     "output_type": "execute_result"
    }
   ],
   "source": [
    "claims[\"PRIMARYPATIENTINSURANCEID\"].value_counts()"
   ]
  },
  {
   "cell_type": "code",
   "execution_count": 128,
   "metadata": {},
   "outputs": [
    {
     "data": {
      "text/plain": [
       "0                                       25776\n",
       "b046940f-1664-3047-bca7-dfa76be352a4    11282\n",
       "Name: SECONDARYPATIENTINSURANCEID, dtype: int64"
      ]
     },
     "execution_count": 128,
     "metadata": {},
     "output_type": "execute_result"
    }
   ],
   "source": [
    "claims[\"SECONDARYPATIENTINSURANCEID\"].value_counts()"
   ]
  },
  {
   "cell_type": "code",
   "execution_count": 129,
   "metadata": {},
   "outputs": [
    {
     "data": {
      "text/plain": [
       "Series([], Name: REFERRINGPROVIDERID, dtype: int64)"
      ]
     },
     "execution_count": 129,
     "metadata": {},
     "output_type": "execute_result"
    }
   ],
   "source": [
    "claims[\"REFERRINGPROVIDERID\"].value_counts()"
   ]
  },
  {
   "cell_type": "code",
   "execution_count": 130,
   "metadata": {},
   "outputs": [
    {
     "data": {
      "text/plain": [
       "a4402cad-7fd7-6955-8448-e33d097f5291    27\n",
       "e607b032-863d-10fd-99d3-36a48515a29d    15\n",
       "fc974ccd-b672-8c17-b671-1a4d881fdba8    15\n",
       "607e01d9-54c7-6c48-1916-58f9f27c6e99    14\n",
       "b8285b40-7847-d5a1-af93-77912214a9d4    13\n",
       "                                        ..\n",
       "6611de3b-aca6-9c04-631d-074f8961a898     1\n",
       "aea13243-f2ad-24b2-9476-ff6f03496a4d     1\n",
       "28a78669-ca3b-126c-eceb-208fd22a7682     1\n",
       "9010b879-e450-9fcc-97af-c74d3b3948c0     1\n",
       "bc24a8e0-462c-d224-9d45-84db110cc845     1\n",
       "Name: APPOINTMENTID, Length: 21544, dtype: int64"
      ]
     },
     "execution_count": 130,
     "metadata": {},
     "output_type": "execute_result"
    }
   ],
   "source": [
    "claims[\"APPOINTMENTID\"].value_counts()"
   ]
  },
  {
   "cell_type": "code",
   "execution_count": 132,
   "metadata": {},
   "outputs": [
    {
     "data": {
      "text/plain": [
       "fe746682-d801-38c6-987a-6aad4ad52e38    2629\n",
       "6b54c36c-45f4-352b-83be-ded03731b268    1719\n",
       "3755ad24-8618-3658-bb3d-9b4a8a2e6e07    1651\n",
       "2b6dbfa0-62b3-3f89-a558-6b0aa2f85845    1645\n",
       "1c02e486-ff0a-3a41-a580-333d65774840    1517\n",
       "                                        ... \n",
       "fe6aab2b-31b8-3d5c-b683-6e947e996835       1\n",
       "0483df8f-d6dd-39ea-b61e-8e0b8b756ce4       1\n",
       "4e6eaa61-e2ec-3d97-9d83-c1a79373bfef       1\n",
       "30b4ef3d-ba44-37b8-9790-79d7bc09a2b7       1\n",
       "e59fc586-26fb-33d0-bddf-dee95ac04a0e       1\n",
       "Name: SUPERVISINGPROVIDERID, Length: 285, dtype: int64"
      ]
     },
     "execution_count": 132,
     "metadata": {},
     "output_type": "execute_result"
    }
   ],
   "source": [
    "claims[\"SUPERVISINGPROVIDERID\"].value_counts()"
   ]
  },
  {
   "cell_type": "code",
   "execution_count": 134,
   "metadata": {},
   "outputs": [
    {
     "data": {
      "text/plain": [
       "0.00      37042\n",
       "169.10       11\n",
       "181.38        3\n",
       "211.38        2\n",
       "Name: OUTSTANDING1, dtype: int64"
      ]
     },
     "metadata": {},
     "output_type": "display_data"
    },
    {
     "data": {
      "text/plain": [
       "0.00      25762\n",
       "181.38        3\n",
       "211.38        2\n",
       "Name: OUTSTANDING2, dtype: int64"
      ]
     },
     "metadata": {},
     "output_type": "display_data"
    },
    {
     "data": {
      "text/plain": [
       "0.00      37038\n",
       "42.28        11\n",
       "211.38        6\n",
       "30.00         3\n",
       "Name: OUTSTANDINGP, dtype: int64"
      ]
     },
     "metadata": {},
     "output_type": "display_data"
    }
   ],
   "source": [
    "display(claims[\"OUTSTANDING1\"].value_counts())\n",
    "display(claims[\"OUTSTANDING2\"].value_counts())\n",
    "display(claims[\"OUTSTANDINGP\"].value_counts())"
   ]
  },
  {
   "attachments": {},
   "cell_type": "markdown",
   "metadata": {},
   "source": [
    "# Claims Transactions"
   ]
  },
  {
   "cell_type": "code",
   "execution_count": 76,
   "metadata": {},
   "outputs": [
    {
     "data": {
      "text/html": [
       "<div>\n",
       "<style scoped>\n",
       "    .dataframe tbody tr th:only-of-type {\n",
       "        vertical-align: middle;\n",
       "    }\n",
       "\n",
       "    .dataframe tbody tr th {\n",
       "        vertical-align: top;\n",
       "    }\n",
       "\n",
       "    .dataframe thead th {\n",
       "        text-align: right;\n",
       "    }\n",
       "</style>\n",
       "<table border=\"1\" class=\"dataframe\">\n",
       "  <thead>\n",
       "    <tr style=\"text-align: right;\">\n",
       "      <th></th>\n",
       "      <th>ID</th>\n",
       "      <th>CLAIMID</th>\n",
       "      <th>CHARGEID</th>\n",
       "      <th>PATIENTID</th>\n",
       "      <th>TYPE</th>\n",
       "      <th>AMOUNT</th>\n",
       "      <th>METHOD</th>\n",
       "      <th>FROMDATE</th>\n",
       "      <th>TODATE</th>\n",
       "      <th>PLACEOFSERVICE</th>\n",
       "      <th>...</th>\n",
       "      <th>PAYMENTS</th>\n",
       "      <th>ADJUSTMENTS</th>\n",
       "      <th>TRANSFERS</th>\n",
       "      <th>OUTSTANDING</th>\n",
       "      <th>APPOINTMENTID</th>\n",
       "      <th>LINENOTE</th>\n",
       "      <th>PATIENTINSURANCEID</th>\n",
       "      <th>FEESCHEDULEID</th>\n",
       "      <th>PROVIDERID</th>\n",
       "      <th>SUPERVISINGPROVIDERID</th>\n",
       "    </tr>\n",
       "  </thead>\n",
       "  <tbody>\n",
       "    <tr>\n",
       "      <th>0</th>\n",
       "      <td>77b8fd9f-0934-46ed-744e-9b1715f57a80</td>\n",
       "      <td>8901c57e-5aaf-0f7c-394e-c33468c7f2fe</td>\n",
       "      <td>0</td>\n",
       "      <td>0b0fefd8-ba9a-b401-5924-8c6ea36a8568</td>\n",
       "      <td>CHARGE</td>\n",
       "      <td>136.8</td>\n",
       "      <td>NaN</td>\n",
       "      <td>2022-02-17T05:45:41Z</td>\n",
       "      <td>2022-02-17T06:00:41Z</td>\n",
       "      <td>1d45436f-15a9-326e-a452-2e9ffc9fc5e5</td>\n",
       "      <td>...</td>\n",
       "      <td>0.0</td>\n",
       "      <td>0.0</td>\n",
       "      <td>NaN</td>\n",
       "      <td>0.0</td>\n",
       "      <td>cf6058a1-d657-c29c-d424-4801c592eaf8</td>\n",
       "      <td>NaN</td>\n",
       "      <td>0b0fefd8-ba9a-b401-5924-8c6ea36a8568</td>\n",
       "      <td>1</td>\n",
       "      <td>234f5632-2b73-38dd-bb23-a03fff8bc0aa</td>\n",
       "      <td>234f5632-2b73-38dd-bb23-a03fff8bc0aa</td>\n",
       "    </tr>\n",
       "    <tr>\n",
       "      <th>1</th>\n",
       "      <td>ef71fb3e-1398-8dda-e89d-362e2c1af500</td>\n",
       "      <td>8901c57e-5aaf-0f7c-394e-c33468c7f2fe</td>\n",
       "      <td>1</td>\n",
       "      <td>0b0fefd8-ba9a-b401-5924-8c6ea36a8568</td>\n",
       "      <td>TRANSFEROUT</td>\n",
       "      <td>NaN</td>\n",
       "      <td>NaN</td>\n",
       "      <td>2022-02-17T05:45:41Z</td>\n",
       "      <td>2022-02-17T06:00:41Z</td>\n",
       "      <td>1d45436f-15a9-326e-a452-2e9ffc9fc5e5</td>\n",
       "      <td>...</td>\n",
       "      <td>0.0</td>\n",
       "      <td>0.0</td>\n",
       "      <td>136.8</td>\n",
       "      <td>136.8</td>\n",
       "      <td>cf6058a1-d657-c29c-d424-4801c592eaf8</td>\n",
       "      <td>NaN</td>\n",
       "      <td>0b0fefd8-ba9a-b401-5924-8c6ea36a8568</td>\n",
       "      <td>1</td>\n",
       "      <td>234f5632-2b73-38dd-bb23-a03fff8bc0aa</td>\n",
       "      <td>234f5632-2b73-38dd-bb23-a03fff8bc0aa</td>\n",
       "    </tr>\n",
       "    <tr>\n",
       "      <th>2</th>\n",
       "      <td>dee3f67c-2831-1bb5-d13a-6c5c5b35ea01</td>\n",
       "      <td>8901c57e-5aaf-0f7c-394e-c33468c7f2fe</td>\n",
       "      <td>2</td>\n",
       "      <td>0b0fefd8-ba9a-b401-5924-8c6ea36a8568</td>\n",
       "      <td>TRANSFERIN</td>\n",
       "      <td>136.8</td>\n",
       "      <td>NaN</td>\n",
       "      <td>2022-02-17T05:45:41Z</td>\n",
       "      <td>2022-02-17T06:00:41Z</td>\n",
       "      <td>1d45436f-15a9-326e-a452-2e9ffc9fc5e5</td>\n",
       "      <td>...</td>\n",
       "      <td>0.0</td>\n",
       "      <td>0.0</td>\n",
       "      <td>136.8</td>\n",
       "      <td>136.8</td>\n",
       "      <td>cf6058a1-d657-c29c-d424-4801c592eaf8</td>\n",
       "      <td>NaN</td>\n",
       "      <td>0b0fefd8-ba9a-b401-5924-8c6ea36a8568</td>\n",
       "      <td>1</td>\n",
       "      <td>234f5632-2b73-38dd-bb23-a03fff8bc0aa</td>\n",
       "      <td>234f5632-2b73-38dd-bb23-a03fff8bc0aa</td>\n",
       "    </tr>\n",
       "  </tbody>\n",
       "</table>\n",
       "<p>3 rows × 33 columns</p>\n",
       "</div>"
      ],
      "text/plain": [
       "                                     ID                               CLAIMID  \\\n",
       "0  77b8fd9f-0934-46ed-744e-9b1715f57a80  8901c57e-5aaf-0f7c-394e-c33468c7f2fe   \n",
       "1  ef71fb3e-1398-8dda-e89d-362e2c1af500  8901c57e-5aaf-0f7c-394e-c33468c7f2fe   \n",
       "2  dee3f67c-2831-1bb5-d13a-6c5c5b35ea01  8901c57e-5aaf-0f7c-394e-c33468c7f2fe   \n",
       "\n",
       "   CHARGEID                             PATIENTID         TYPE  AMOUNT METHOD  \\\n",
       "0         0  0b0fefd8-ba9a-b401-5924-8c6ea36a8568       CHARGE   136.8    NaN   \n",
       "1         1  0b0fefd8-ba9a-b401-5924-8c6ea36a8568  TRANSFEROUT     NaN    NaN   \n",
       "2         2  0b0fefd8-ba9a-b401-5924-8c6ea36a8568   TRANSFERIN   136.8    NaN   \n",
       "\n",
       "               FROMDATE                TODATE  \\\n",
       "0  2022-02-17T05:45:41Z  2022-02-17T06:00:41Z   \n",
       "1  2022-02-17T05:45:41Z  2022-02-17T06:00:41Z   \n",
       "2  2022-02-17T05:45:41Z  2022-02-17T06:00:41Z   \n",
       "\n",
       "                         PLACEOFSERVICE  ...  PAYMENTS  ADJUSTMENTS  \\\n",
       "0  1d45436f-15a9-326e-a452-2e9ffc9fc5e5  ...       0.0          0.0   \n",
       "1  1d45436f-15a9-326e-a452-2e9ffc9fc5e5  ...       0.0          0.0   \n",
       "2  1d45436f-15a9-326e-a452-2e9ffc9fc5e5  ...       0.0          0.0   \n",
       "\n",
       "   TRANSFERS  OUTSTANDING                         APPOINTMENTID  LINENOTE  \\\n",
       "0        NaN          0.0  cf6058a1-d657-c29c-d424-4801c592eaf8       NaN   \n",
       "1      136.8        136.8  cf6058a1-d657-c29c-d424-4801c592eaf8       NaN   \n",
       "2      136.8        136.8  cf6058a1-d657-c29c-d424-4801c592eaf8       NaN   \n",
       "\n",
       "                     PATIENTINSURANCEID  FEESCHEDULEID  \\\n",
       "0  0b0fefd8-ba9a-b401-5924-8c6ea36a8568              1   \n",
       "1  0b0fefd8-ba9a-b401-5924-8c6ea36a8568              1   \n",
       "2  0b0fefd8-ba9a-b401-5924-8c6ea36a8568              1   \n",
       "\n",
       "                             PROVIDERID                 SUPERVISINGPROVIDERID  \n",
       "0  234f5632-2b73-38dd-bb23-a03fff8bc0aa  234f5632-2b73-38dd-bb23-a03fff8bc0aa  \n",
       "1  234f5632-2b73-38dd-bb23-a03fff8bc0aa  234f5632-2b73-38dd-bb23-a03fff8bc0aa  \n",
       "2  234f5632-2b73-38dd-bb23-a03fff8bc0aa  234f5632-2b73-38dd-bb23-a03fff8bc0aa  \n",
       "\n",
       "[3 rows x 33 columns]"
      ]
     },
     "execution_count": 76,
     "metadata": {},
     "output_type": "execute_result"
    }
   ],
   "source": [
    "claims_transactions.head(3)"
   ]
  },
  {
   "cell_type": "code",
   "execution_count": 77,
   "metadata": {},
   "outputs": [
    {
     "name": "stdout",
     "output_type": "stream",
     "text": [
      "<class 'pandas.core.frame.DataFrame'>\n",
      "RangeIndex: 272113 entries, 0 to 272112\n",
      "Data columns (total 33 columns):\n",
      " #   Column                 Non-Null Count   Dtype  \n",
      "---  ------                 --------------   -----  \n",
      " 0   ID                     272113 non-null  object \n",
      " 1   CLAIMID                272113 non-null  object \n",
      " 2   CHARGEID               272113 non-null  int64  \n",
      " 3   PATIENTID              272113 non-null  object \n",
      " 4   TYPE                   272113 non-null  object \n",
      " 5   AMOUNT                 127282 non-null  float64\n",
      " 6   METHOD                 109865 non-null  object \n",
      " 7   FROMDATE               272113 non-null  object \n",
      " 8   TODATE                 272113 non-null  object \n",
      " 9   PLACEOFSERVICE         272113 non-null  object \n",
      " 10  PROCEDURECODE          272113 non-null  int64  \n",
      " 11  MODIFIER1              0 non-null       float64\n",
      " 12  MODIFIER2              0 non-null       float64\n",
      " 13  DIAGNOSISREF1          272113 non-null  int64  \n",
      " 14  DIAGNOSISREF2          74182 non-null   float64\n",
      " 15  DIAGNOSISREF3          14943 non-null   float64\n",
      " 16  DIAGNOSISREF4          3259 non-null    float64\n",
      " 17  UNITS                  272113 non-null  int64  \n",
      " 18  DEPARTMENTID           272113 non-null  int64  \n",
      " 19  NOTES                  272113 non-null  object \n",
      " 20  UNITAMOUNT             272113 non-null  float64\n",
      " 21  TRANSFEROUTID          34966 non-null   float64\n",
      " 22  TRANSFERTYPE           127282 non-null  object \n",
      " 23  PAYMENTS               272113 non-null  float64\n",
      " 24  ADJUSTMENTS            272113 non-null  float64\n",
      " 25  TRANSFERS              69932 non-null   float64\n",
      " 26  OUTSTANDING            272113 non-null  float64\n",
      " 27  APPOINTMENTID          272113 non-null  object \n",
      " 28  LINENOTE               0 non-null       float64\n",
      " 29  PATIENTINSURANCEID     251073 non-null  object \n",
      " 30  FEESCHEDULEID          272113 non-null  int64  \n",
      " 31  PROVIDERID             272113 non-null  object \n",
      " 32  SUPERVISINGPROVIDERID  272113 non-null  object \n",
      "dtypes: float64(13), int64(6), object(14)\n",
      "memory usage: 68.5+ MB\n"
     ]
    }
   ],
   "source": [
    "claims_transactions.info()"
   ]
  },
  {
   "cell_type": "code",
   "execution_count": 78,
   "metadata": {},
   "outputs": [
    {
     "data": {
      "text/plain": [
       "ID                       272113\n",
       "CLAIMID                   37058\n",
       "CHARGEID                 272113\n",
       "PATIENTID                   123\n",
       "TYPE                          4\n",
       "AMOUNT                    29525\n",
       "METHOD                        5\n",
       "FROMDATE                  44071\n",
       "TODATE                    51791\n",
       "PLACEOFSERVICE              285\n",
       "PROCEDURECODE               474\n",
       "MODIFIER1                     0\n",
       "MODIFIER2                     0\n",
       "DIAGNOSISREF1                 1\n",
       "DIAGNOSISREF2                 1\n",
       "DIAGNOSISREF3                 1\n",
       "DIAGNOSISREF4                 1\n",
       "UNITS                         1\n",
       "DEPARTMENTID                 11\n",
       "NOTES                       491\n",
       "UNITAMOUNT                23752\n",
       "TRANSFEROUTID             34966\n",
       "TRANSFERTYPE                  3\n",
       "PAYMENTS                  28846\n",
       "ADJUSTMENTS                   1\n",
       "TRANSFERS                  8380\n",
       "OUTSTANDING                9198\n",
       "APPOINTMENTID             21544\n",
       "LINENOTE                      0\n",
       "PATIENTINSURANCEID          121\n",
       "FEESCHEDULEID                 1\n",
       "PROVIDERID                  285\n",
       "SUPERVISINGPROVIDERID       285\n",
       "dtype: int64"
      ]
     },
     "execution_count": 78,
     "metadata": {},
     "output_type": "execute_result"
    }
   ],
   "source": [
    "claims_transactions.nunique()"
   ]
  },
  {
   "cell_type": "code",
   "execution_count": 139,
   "metadata": {},
   "outputs": [
    {
     "data": {
      "text/plain": [
       "2047      1\n",
       "178690    1\n",
       "137750    1\n",
       "131605    1\n",
       "133652    1\n",
       "         ..\n",
       "197578    1\n",
       "203721    1\n",
       "201672    1\n",
       "222150    1\n",
       "0         1\n",
       "Name: CHARGEID, Length: 272113, dtype: int64"
      ]
     },
     "execution_count": 139,
     "metadata": {},
     "output_type": "execute_result"
    }
   ],
   "source": [
    "claims_transactions[\"CHARGEID\"].value_counts()"
   ]
  },
  {
   "cell_type": "code",
   "execution_count": 83,
   "metadata": {},
   "outputs": [
    {
     "data": {
      "text/plain": [
       "PAYMENT        109865\n",
       "CHARGE          92316\n",
       "TRANSFERIN      34966\n",
       "TRANSFEROUT     34966\n",
       "Name: TYPE, dtype: int64"
      ]
     },
     "execution_count": 83,
     "metadata": {},
     "output_type": "execute_result"
    }
   ],
   "source": [
    "claims_transactions[\"TYPE\"].value_counts()"
   ]
  },
  {
   "cell_type": "code",
   "execution_count": 84,
   "metadata": {},
   "outputs": [
    {
     "data": {
      "text/plain": [
       "ECHECK    63267\n",
       "COPAY     19059\n",
       "CHECK      9365\n",
       "CASH       9145\n",
       "CC         9029\n",
       "Name: METHOD, dtype: int64"
      ]
     },
     "execution_count": 84,
     "metadata": {},
     "output_type": "execute_result"
    }
   ],
   "source": [
    "claims_transactions[\"METHOD\"].value_counts()"
   ]
  },
  {
   "cell_type": "code",
   "execution_count": 140,
   "metadata": {},
   "outputs": [
    {
     "data": {
      "text/plain": [
       "185347001          17784\n",
       "710824005          16415\n",
       "140                15704\n",
       "430193006          13539\n",
       "410620009          11616\n",
       "                   ...  \n",
       "312853008              2\n",
       "40617009               2\n",
       "243174005              2\n",
       "3336700                2\n",
       "452331000124102        2\n",
       "Name: PROCEDURECODE, Length: 474, dtype: int64"
      ]
     },
     "execution_count": 140,
     "metadata": {},
     "output_type": "execute_result"
    }
   ],
   "source": [
    "claims_transactions[\"PROCEDURECODE\"].value_counts()"
   ]
  },
  {
   "attachments": {},
   "cell_type": "markdown",
   "metadata": {},
   "source": [
    "modifier1 and modifier2 not used"
   ]
  },
  {
   "cell_type": "code",
   "execution_count": 142,
   "metadata": {},
   "outputs": [
    {
     "data": {
      "text/plain": [
       "1    272113\n",
       "Name: DIAGNOSISREF1, dtype: int64"
      ]
     },
     "metadata": {},
     "output_type": "display_data"
    },
    {
     "data": {
      "text/plain": [
       "2.0    74182\n",
       "Name: DIAGNOSISREF2, dtype: int64"
      ]
     },
     "metadata": {},
     "output_type": "display_data"
    },
    {
     "data": {
      "text/plain": [
       "3.0    14943\n",
       "Name: DIAGNOSISREF3, dtype: int64"
      ]
     },
     "metadata": {},
     "output_type": "display_data"
    }
   ],
   "source": [
    "display(claims_transactions[\"DIAGNOSISREF1\"].value_counts())\n",
    "display(claims_transactions[\"DIAGNOSISREF2\"].value_counts())\n",
    "display(claims_transactions[\"DIAGNOSISREF3\"].value_counts())"
   ]
  },
  {
   "cell_type": "code",
   "execution_count": 143,
   "metadata": {},
   "outputs": [
    {
     "data": {
      "text/plain": [
       "1    272113\n",
       "Name: UNITS, dtype: int64"
      ]
     },
     "execution_count": 143,
     "metadata": {},
     "output_type": "execute_result"
    }
   ],
   "source": [
    "claims_transactions[\"UNITS\"].value_counts()"
   ]
  },
  {
   "cell_type": "code",
   "execution_count": 144,
   "metadata": {},
   "outputs": [
    {
     "data": {
      "text/plain": [
       "1     91432\n",
       "20    54156\n",
       "2     42706\n",
       "10    30216\n",
       "5     29446\n",
       "4     10363\n",
       "8      7295\n",
       "3      3135\n",
       "6      2844\n",
       "7       510\n",
       "9        10\n",
       "Name: DEPARTMENTID, dtype: int64"
      ]
     },
     "execution_count": 144,
     "metadata": {},
     "output_type": "execute_result"
    }
   ],
   "source": [
    "claims_transactions[\"DEPARTMENTID\"].value_counts()"
   ]
  },
  {
   "cell_type": "code",
   "execution_count": 145,
   "metadata": {},
   "outputs": [
    {
     "data": {
      "text/plain": [
       "Assessment of health and social care needs (procedure)    16415\n",
       "Encounter for problem (procedure)                         16284\n",
       "Influenza  seasonal  injectable  preservative free        15704\n",
       "Medication Reconciliation (procedure)                     13539\n",
       "Well child visit (procedure)                              11616\n",
       "                                                          ...  \n",
       "Piperacillin 4000 MG / tazobactam 500 MG Injection            2\n",
       "10 ML Fentanyl 0.05 MG/ML Injection                           2\n",
       "Cardioassist by aortic balloon pump (procedure)               2\n",
       "Intraoperative care (regime/therapy)                          2\n",
       "Laparoscopic Removal of Gall Bladder                          2\n",
       "Name: NOTES, Length: 491, dtype: int64"
      ]
     },
     "execution_count": 145,
     "metadata": {},
     "output_type": "execute_result"
    }
   ],
   "source": [
    "claims_transactions[\"NOTES\"].value_counts()"
   ]
  },
  {
   "cell_type": "code",
   "execution_count": 146,
   "metadata": {},
   "outputs": [
    {
     "data": {
      "text/plain": [
       "0.00       198244\n",
       "431.40      11405\n",
       "85.55        9038\n",
       "136.00       6373\n",
       "142.58       5905\n",
       "            ...  \n",
       "1316.37         1\n",
       "3324.43         1\n",
       "5973.56         1\n",
       "6798.25         1\n",
       "715.04          1\n",
       "Name: UNITAMOUNT, Length: 23752, dtype: int64"
      ]
     },
     "execution_count": 146,
     "metadata": {},
     "output_type": "execute_result"
    }
   ],
   "source": [
    "claims_transactions[\"UNITAMOUNT\"].value_counts()"
   ]
  },
  {
   "cell_type": "code",
   "execution_count": 147,
   "metadata": {},
   "outputs": [
    {
     "data": {
      "text/plain": [
       "262141.0    1\n",
       "327784.0    1\n",
       "327809.0    1\n",
       "193024.0    1\n",
       "81951.0     1\n",
       "           ..\n",
       "100671.0    1\n",
       "201344.0    1\n",
       "201347.0    1\n",
       "201353.0    1\n",
       "1.0         1\n",
       "Name: TRANSFEROUTID, Length: 34966, dtype: int64"
      ]
     },
     "execution_count": 147,
     "metadata": {},
     "output_type": "execute_result"
    }
   ],
   "source": [
    "claims_transactions[\"TRANSFEROUTID\"].value_counts()"
   ]
  },
  {
   "cell_type": "code",
   "execution_count": 155,
   "metadata": {},
   "outputs": [
    {
     "data": {
      "text/plain": [
       "1    81018\n",
       "p    29095\n",
       "2    17169\n",
       "Name: TRANSFERTYPE, dtype: int64"
      ]
     },
     "execution_count": 155,
     "metadata": {},
     "output_type": "execute_result"
    }
   ],
   "source": [
    "claims_transactions[\"TRANSFERTYPE\"].value_counts()"
   ]
  },
  {
   "cell_type": "code",
   "execution_count": 154,
   "metadata": {},
   "outputs": [
    {
     "data": {
      "text/plain": [
       "0.00       162248\n",
       "30.00       12922\n",
       "431.40       7640\n",
       "136.00       5400\n",
       "55.55        4263\n",
       "            ...  \n",
       "685.61          1\n",
       "1389.99         1\n",
       "51.25           1\n",
       "5220.44         1\n",
       "7317.14         1\n",
       "Name: PAYMENTS, Length: 28846, dtype: int64"
      ]
     },
     "execution_count": 154,
     "metadata": {},
     "output_type": "execute_result"
    }
   ],
   "source": [
    "claims_transactions[\"PAYMENTS\"].value_counts()"
   ]
  },
  {
   "cell_type": "code",
   "execution_count": 156,
   "metadata": {},
   "outputs": [
    {
     "data": {
      "text/plain": [
       "0.0    272113\n",
       "Name: ADJUSTMENTS, dtype: int64"
      ]
     },
     "execution_count": 156,
     "metadata": {},
     "output_type": "execute_result"
    }
   ],
   "source": [
    "claims_transactions[\"ADJUSTMENTS\"].value_counts()"
   ]
  },
  {
   "cell_type": "code",
   "execution_count": 157,
   "metadata": {},
   "outputs": [
    {
     "data": {
      "text/plain": [
       "86.28     6874\n",
       "136.00    6050\n",
       "17.11     4746\n",
       "106.80    3938\n",
       "431.40    3482\n",
       "          ... \n",
       "80.68        2\n",
       "459.17       2\n",
       "179.97       2\n",
       "94.29        2\n",
       "596.05       2\n",
       "Name: TRANSFERS, Length: 8380, dtype: int64"
      ]
     },
     "execution_count": 157,
     "metadata": {},
     "output_type": "execute_result"
    }
   ],
   "source": [
    "claims_transactions[\"TRANSFERS\"].value_counts()"
   ]
  },
  {
   "cell_type": "code",
   "execution_count": 150,
   "metadata": {},
   "outputs": [
    {
     "data": {
      "text/plain": [
       "0.0    272113\n",
       "Name: ADJUSTMENTS, dtype: int64"
      ]
     },
     "execution_count": 150,
     "metadata": {},
     "output_type": "execute_result"
    }
   ],
   "source": [
    "claims_transactions[\"ADJUSTMENTS\"].value_counts()"
   ]
  },
  {
   "cell_type": "code",
   "execution_count": 151,
   "metadata": {},
   "outputs": [
    {
     "data": {
      "text/plain": [
       "86.28     6874\n",
       "136.00    6050\n",
       "17.11     4746\n",
       "106.80    3938\n",
       "431.40    3482\n",
       "          ... \n",
       "80.68        2\n",
       "459.17       2\n",
       "179.97       2\n",
       "94.29        2\n",
       "596.05       2\n",
       "Name: TRANSFERS, Length: 8380, dtype: int64"
      ]
     },
     "execution_count": 151,
     "metadata": {},
     "output_type": "execute_result"
    }
   ],
   "source": [
    "claims_transactions[\"TRANSFERS\"].value_counts()"
   ]
  },
  {
   "cell_type": "code",
   "execution_count": 152,
   "metadata": {},
   "outputs": [
    {
     "data": {
      "text/plain": [
       "0.00      166185\n",
       "86.28      10311\n",
       "55.55       7165\n",
       "17.11       7119\n",
       "106.80      6462\n",
       "           ...  \n",
       "424.30         1\n",
       "823.78         1\n",
       "347.03         1\n",
       "215.79         1\n",
       "305.31         1\n",
       "Name: OUTSTANDING, Length: 9198, dtype: int64"
      ]
     },
     "execution_count": 152,
     "metadata": {},
     "output_type": "execute_result"
    }
   ],
   "source": [
    "claims_transactions[\"OUTSTANDING\"].value_counts()"
   ]
  },
  {
   "cell_type": "code",
   "execution_count": 158,
   "metadata": {},
   "outputs": [
    {
     "data": {
      "text/plain": [
       "Series([], Name: LINENOTE, dtype: int64)"
      ]
     },
     "execution_count": 158,
     "metadata": {},
     "output_type": "execute_result"
    }
   ],
   "source": [
    "claims_transactions[\"LINENOTE\"].value_counts()"
   ]
  },
  {
   "cell_type": "code",
   "execution_count": 159,
   "metadata": {},
   "outputs": [
    {
     "data": {
      "text/plain": [
       "1    272113\n",
       "Name: FEESCHEDULEID, dtype: int64"
      ]
     },
     "execution_count": 159,
     "metadata": {},
     "output_type": "execute_result"
    }
   ],
   "source": [
    "claims_transactions[\"FEESCHEDULEID\"].value_counts()"
   ]
  },
  {
   "cell_type": "code",
   "execution_count": 81,
   "metadata": {},
   "outputs": [
    {
     "data": {
      "text/plain": [
       "bec86669-40c6-bb5b-9a1f-7403de0a63fc    500\n",
       "40c9be4a-b796-1cb6-82ed-2df84849a21e    440\n",
       "83c1599e-18ca-6124-7f5b-d6a9edd3e36f    440\n",
       "a67ab892-a4b5-b1b8-3cd2-fc63f223b67a    340\n",
       "6664182f-9874-f2f5-85aa-5ebe6a05b17e    295\n",
       "                                       ... \n",
       "b27f7cd1-ba8a-9b35-1038-7b941e319768      2\n",
       "8a6cfcde-b949-8ee4-57d9-fd316fd9b32a      2\n",
       "87e45cd8-61bb-395f-1243-3d234242fa92      2\n",
       "5041b60d-fc15-a480-5c84-3b8fbdff7aa2      2\n",
       "294179be-7d24-942f-df73-7c09240168d6      2\n",
       "Name: CLAIMID, Length: 37058, dtype: int64"
      ]
     },
     "execution_count": 81,
     "metadata": {},
     "output_type": "execute_result"
    }
   ],
   "source": [
    "claims_transactions[\"CLAIMID\"].value_counts()"
   ]
  },
  {
   "cell_type": "code",
   "execution_count": 160,
   "metadata": {},
   "outputs": [
    {
     "data": {
      "text/plain": [
       "bec86669-40c6-bb5b-9a1f-7403de0a63fc    500\n",
       "40c9be4a-b796-1cb6-82ed-2df84849a21e    440\n",
       "83c1599e-18ca-6124-7f5b-d6a9edd3e36f    440\n",
       "a67ab892-a4b5-b1b8-3cd2-fc63f223b67a    340\n",
       "6664182f-9874-f2f5-85aa-5ebe6a05b17e    295\n",
       "                                       ... \n",
       "b27f7cd1-ba8a-9b35-1038-7b941e319768      2\n",
       "8a6cfcde-b949-8ee4-57d9-fd316fd9b32a      2\n",
       "87e45cd8-61bb-395f-1243-3d234242fa92      2\n",
       "5041b60d-fc15-a480-5c84-3b8fbdff7aa2      2\n",
       "294179be-7d24-942f-df73-7c09240168d6      2\n",
       "Name: CLAIMID, Length: 37058, dtype: int64"
      ]
     },
     "execution_count": 160,
     "metadata": {},
     "output_type": "execute_result"
    }
   ],
   "source": [
    "claims_transactions[\"CLAIMID\"].value_counts()"
   ]
  },
  {
   "cell_type": "code",
   "execution_count": 161,
   "metadata": {},
   "outputs": [
    {
     "data": {
      "text/plain": [
       "e201efe2-198e-ceab-0038-41ecd9a68fd0    27619\n",
       "31651bd8-1a95-3206-41ef-4ccf5b2d0461    18486\n",
       "a01a1717-7a90-d91c-e78d-5d49ff25ea9a    12638\n",
       "8060acde-4b13-976b-c3e1-14f3747cea0a    11556\n",
       "297a0fc0-6c0b-ff79-1258-33885aeb3eda     7612\n",
       "                                        ...  \n",
       "3a53517d-9a0f-ec86-1c2b-93f4253194dc       95\n",
       "350e36b2-6b6b-bcc5-d38d-a29f2ffdbe52       71\n",
       "0b0fefd8-ba9a-b401-5924-8c6ea36a8568       68\n",
       "ff72f1ac-ddb8-4481-3371-09cdcc48d3fc       53\n",
       "a652df44-d908-5f1e-0c43-c5af9cf06ab6       45\n",
       "Name: PATIENTID, Length: 123, dtype: int64"
      ]
     },
     "execution_count": 161,
     "metadata": {},
     "output_type": "execute_result"
    }
   ],
   "source": [
    "claims_transactions[\"PATIENTID\"].value_counts()"
   ]
  },
  {
   "cell_type": "code",
   "execution_count": 162,
   "metadata": {},
   "outputs": [
    {
     "data": {
      "text/plain": [
       "d6600c68-8a26-3a88-86e2-99517365c10a    17252\n",
       "901c2d40-1ca3-3879-9a20-c663b8adc0a9    11320\n",
       "1853aeef-5897-326a-80d6-aa4b0459eb6d    11130\n",
       "497f39dd-280e-3d58-af5b-c5e3a3a09b10    10273\n",
       "2836d9ac-c6a6-39d1-8f13-fdf0fc8928f4    10193\n",
       "                                        ...  \n",
       "5c896155-eb9a-383e-9162-a43ebb7f1cc5       10\n",
       "62b55e5b-b58f-354d-8f2d-f2a330bc619e       10\n",
       "5862e05c-9533-3f7a-8f73-215d50f5ee2f        5\n",
       "0ddb0329-b59d-3187-874c-602c649249c8        3\n",
       "bf556284-7513-3620-a10e-5393183a9a87        3\n",
       "Name: PLACEOFSERVICE, Length: 285, dtype: int64"
      ]
     },
     "execution_count": 162,
     "metadata": {},
     "output_type": "execute_result"
    }
   ],
   "source": [
    "claims_transactions[\"PLACEOFSERVICE\"].value_counts()"
   ]
  },
  {
   "cell_type": "code",
   "execution_count": 163,
   "metadata": {},
   "outputs": [
    {
     "data": {
      "text/plain": [
       "48f0d317-3a60-ec00-9b29-82595b7173ff    500\n",
       "f6319a60-c80c-75fd-e2db-88ae3804eb7b    440\n",
       "74f2ab69-530b-b03e-a017-1e94c72f93b0    440\n",
       "a66b787c-876b-3660-1db0-bb00f68b49f1    340\n",
       "45e20a2c-a0f0-2921-5153-071e73f298f5    295\n",
       "                                       ... \n",
       "ed517b43-1f1a-5664-c459-2b5794077e61      2\n",
       "26804818-7551-3550-7aa5-000c595cccb8      2\n",
       "10832536-6afd-48bc-757c-c987c6f0e4d2      2\n",
       "b5a367fd-cde7-c42b-45bc-ab2dc08934c5      2\n",
       "4ebf60ce-97e8-a894-2f75-32c80f599f56      2\n",
       "Name: APPOINTMENTID, Length: 21544, dtype: int64"
      ]
     },
     "execution_count": 163,
     "metadata": {},
     "output_type": "execute_result"
    }
   ],
   "source": [
    "claims_transactions[\"APPOINTMENTID\"].value_counts()"
   ]
  },
  {
   "cell_type": "code",
   "execution_count": 164,
   "metadata": {},
   "outputs": [
    {
     "data": {
      "text/plain": [
       "e201efe2-198e-ceab-0038-41ecd9a68fd0    27619\n",
       "31651bd8-1a95-3206-41ef-4ccf5b2d0461    18486\n",
       "a01a1717-7a90-d91c-e78d-5d49ff25ea9a    12638\n",
       "8060acde-4b13-976b-c3e1-14f3747cea0a    11556\n",
       "297a0fc0-6c0b-ff79-1258-33885aeb3eda     7612\n",
       "                                        ...  \n",
       "350e36b2-6b6b-bcc5-d38d-a29f2ffdbe52       71\n",
       "0b0fefd8-ba9a-b401-5924-8c6ea36a8568       68\n",
       "ff72f1ac-ddb8-4481-3371-09cdcc48d3fc       53\n",
       "a652df44-d908-5f1e-0c43-c5af9cf06ab6       45\n",
       "15af745d-f6b7-b26f-d3df-073ce3c830bb       31\n",
       "Name: PATIENTINSURANCEID, Length: 121, dtype: int64"
      ]
     },
     "execution_count": 164,
     "metadata": {},
     "output_type": "execute_result"
    }
   ],
   "source": [
    "claims_transactions[\"PATIENTINSURANCEID\"].value_counts()"
   ]
  },
  {
   "cell_type": "code",
   "execution_count": 165,
   "metadata": {},
   "outputs": [
    {
     "data": {
      "text/plain": [
       "fe746682-d801-38c6-987a-6aad4ad52e38    17252\n",
       "2b6dbfa0-62b3-3f89-a558-6b0aa2f85845    11320\n",
       "6b54c36c-45f4-352b-83be-ded03731b268    11130\n",
       "a2149379-aa70-3453-adac-7229b66f45cc    10273\n",
       "1c02e486-ff0a-3a41-a580-333d65774840    10193\n",
       "                                        ...  \n",
       "95f64808-8c19-30cd-9911-ed9429f34bf7       10\n",
       "faa36eae-5bf9-32b3-906f-6cb023c3922a       10\n",
       "0483df8f-d6dd-39ea-b61e-8e0b8b756ce4        5\n",
       "247b3987-3966-3674-a89e-666d42802298        3\n",
       "9defcc02-6ceb-3851-b3a6-948e02d1c13c        3\n",
       "Name: PROVIDERID, Length: 285, dtype: int64"
      ]
     },
     "execution_count": 165,
     "metadata": {},
     "output_type": "execute_result"
    }
   ],
   "source": [
    "claims_transactions[\"PROVIDERID\"].value_counts()"
   ]
  },
  {
   "cell_type": "code",
   "execution_count": 166,
   "metadata": {},
   "outputs": [
    {
     "data": {
      "text/plain": [
       "fe746682-d801-38c6-987a-6aad4ad52e38    17252\n",
       "2b6dbfa0-62b3-3f89-a558-6b0aa2f85845    11320\n",
       "6b54c36c-45f4-352b-83be-ded03731b268    11130\n",
       "a2149379-aa70-3453-adac-7229b66f45cc    10273\n",
       "1c02e486-ff0a-3a41-a580-333d65774840    10193\n",
       "                                        ...  \n",
       "95f64808-8c19-30cd-9911-ed9429f34bf7       10\n",
       "faa36eae-5bf9-32b3-906f-6cb023c3922a       10\n",
       "0483df8f-d6dd-39ea-b61e-8e0b8b756ce4        5\n",
       "247b3987-3966-3674-a89e-666d42802298        3\n",
       "9defcc02-6ceb-3851-b3a6-948e02d1c13c        3\n",
       "Name: SUPERVISINGPROVIDERID, Length: 285, dtype: int64"
      ]
     },
     "execution_count": 166,
     "metadata": {},
     "output_type": "execute_result"
    }
   ],
   "source": [
    "claims_transactions[\"SUPERVISINGPROVIDERID\"].value_counts()"
   ]
  },
  {
   "attachments": {},
   "cell_type": "markdown",
   "metadata": {},
   "source": [
    "# Conditions"
   ]
  },
  {
   "cell_type": "code",
   "execution_count": 85,
   "metadata": {},
   "outputs": [
    {
     "data": {
      "text/html": [
       "<div>\n",
       "<style scoped>\n",
       "    .dataframe tbody tr th:only-of-type {\n",
       "        vertical-align: middle;\n",
       "    }\n",
       "\n",
       "    .dataframe tbody tr th {\n",
       "        vertical-align: top;\n",
       "    }\n",
       "\n",
       "    .dataframe thead th {\n",
       "        text-align: right;\n",
       "    }\n",
       "</style>\n",
       "<table border=\"1\" class=\"dataframe\">\n",
       "  <thead>\n",
       "    <tr style=\"text-align: right;\">\n",
       "      <th></th>\n",
       "      <th>START</th>\n",
       "      <th>STOP</th>\n",
       "      <th>PATIENT</th>\n",
       "      <th>ENCOUNTER</th>\n",
       "      <th>CODE</th>\n",
       "      <th>DESCRIPTION</th>\n",
       "    </tr>\n",
       "  </thead>\n",
       "  <tbody>\n",
       "    <tr>\n",
       "      <th>0</th>\n",
       "      <td>2022-04-27</td>\n",
       "      <td>2022-05-13</td>\n",
       "      <td>0b0fefd8-ba9a-b401-5924-8c6ea36a8568</td>\n",
       "      <td>102c7a30-2f77-b7ed-ccdb-e41bcc2bbbfd</td>\n",
       "      <td>444814009</td>\n",
       "      <td>Viral sinusitis (disorder)</td>\n",
       "    </tr>\n",
       "  </tbody>\n",
       "</table>\n",
       "</div>"
      ],
      "text/plain": [
       "        START        STOP                               PATIENT  \\\n",
       "0  2022-04-27  2022-05-13  0b0fefd8-ba9a-b401-5924-8c6ea36a8568   \n",
       "\n",
       "                              ENCOUNTER       CODE                 DESCRIPTION  \n",
       "0  102c7a30-2f77-b7ed-ccdb-e41bcc2bbbfd  444814009  Viral sinusitis (disorder)  "
      ]
     },
     "execution_count": 85,
     "metadata": {},
     "output_type": "execute_result"
    }
   ],
   "source": [
    "conditions.head(3)"
   ]
  },
  {
   "cell_type": "code",
   "execution_count": 86,
   "metadata": {},
   "outputs": [
    {
     "name": "stdout",
     "output_type": "stream",
     "text": [
      "<class 'pandas.core.frame.DataFrame'>\n",
      "RangeIndex: 9985 entries, 0 to 9984\n",
      "Data columns (total 6 columns):\n",
      " #   Column       Non-Null Count  Dtype \n",
      "---  ------       --------------  ----- \n",
      " 0   START        9985 non-null   object\n",
      " 1   STOP         8795 non-null   object\n",
      " 2   PATIENT      9985 non-null   object\n",
      " 3   ENCOUNTER    9985 non-null   object\n",
      " 4   CODE         9985 non-null   int64 \n",
      " 5   DESCRIPTION  9985 non-null   object\n",
      "dtypes: int64(1), object(5)\n",
      "memory usage: 468.2+ KB\n"
     ]
    }
   ],
   "source": [
    "conditions.info()"
   ]
  },
  {
   "cell_type": "code",
   "execution_count": 87,
   "metadata": {},
   "outputs": [
    {
     "data": {
      "text/plain": [
       "START          5859\n",
       "STOP           5540\n",
       "PATIENT         119\n",
       "ENCOUNTER      6976\n",
       "CODE            180\n",
       "DESCRIPTION     180\n",
       "dtype: int64"
      ]
     },
     "execution_count": 87,
     "metadata": {},
     "output_type": "execute_result"
    }
   ],
   "source": [
    "conditions.nunique()"
   ]
  },
  {
   "cell_type": "code",
   "execution_count": 88,
   "metadata": {},
   "outputs": [
    {
     "data": {
      "text/plain": [
       "160903007         2811\n",
       "73595000          1121\n",
       "160904001          865\n",
       "444814009          573\n",
       "741062008          382\n",
       "                  ... \n",
       "91861009             1\n",
       "97331000119101       1\n",
       "67782005             1\n",
       "56018004             1\n",
       "236077008            1\n",
       "Name: CODE, Length: 180, dtype: int64"
      ]
     },
     "execution_count": 88,
     "metadata": {},
     "output_type": "execute_result"
    }
   ],
   "source": [
    "conditions[\"CODE\"].value_counts()"
   ]
  },
  {
   "cell_type": "code",
   "execution_count": 89,
   "metadata": {},
   "outputs": [
    {
     "data": {
      "text/plain": [
       "Full-time employment (finding)                                              2811\n",
       "Stress (finding)                                                            1121\n",
       "Part-time employment (finding)                                               865\n",
       "Viral sinusitis (disorder)                                                   573\n",
       "Not in labor force (finding)                                                 382\n",
       "                                                                            ... \n",
       "Macular edema and retinopathy due to type 2 diabetes mellitus (disorder)       1\n",
       "Familial Alzheimer's disease of early onset (disorder)                         1\n",
       "Fibromyalgia (disorder)                                                        1\n",
       "Recurrent urinary tract infection                                              1\n",
       "Dyspnea (finding)                                                              1\n",
       "Name: DESCRIPTION, Length: 180, dtype: int64"
      ]
     },
     "execution_count": 89,
     "metadata": {},
     "output_type": "execute_result"
    }
   ],
   "source": [
    "conditions[\"DESCRIPTION\"].value_counts()"
   ]
  },
  {
   "cell_type": "code",
   "execution_count": 90,
   "metadata": {},
   "outputs": [
    {
     "data": {
      "text/plain": [
       "e201efe2-198e-ceab-0038-41ecd9a68fd0    844\n",
       "31651bd8-1a95-3206-41ef-4ccf5b2d0461    742\n",
       "babe5c65-9bb5-3dde-315b-138110b8d664    344\n",
       "a01a1717-7a90-d91c-e78d-5d49ff25ea9a    273\n",
       "46e19014-2a0c-fa75-c393-c98bcb3f08b7    270\n",
       "                                       ... \n",
       "9ce6cc92-61a2-3cf9-5c61-1577aba2fda9      2\n",
       "3c2401c2-7d08-5c22-eb55-733f19ac556d      2\n",
       "f78e216e-9993-3fe5-4c67-6272f6e0b151      1\n",
       "0b0fefd8-ba9a-b401-5924-8c6ea36a8568      1\n",
       "644fe902-1b95-0f00-5764-558dcc52a86f      1\n",
       "Name: PATIENT, Length: 119, dtype: int64"
      ]
     },
     "execution_count": 90,
     "metadata": {},
     "output_type": "execute_result"
    }
   ],
   "source": [
    "conditions[\"PATIENT\"].value_counts()"
   ]
  },
  {
   "cell_type": "code",
   "execution_count": 91,
   "metadata": {},
   "outputs": [
    {
     "data": {
      "text/plain": [
       "084fc97f-e1c1-1b34-7796-d8378c5fd6bc    8\n",
       "313d66a6-4a9c-9b9f-d875-46d00a6cd717    7\n",
       "f5351627-bf5c-ac64-26f4-bf67c36a5ad5    6\n",
       "2d3063bb-e231-4b95-154e-50c6e01d85e6    6\n",
       "6ee82f47-fe5b-3121-f7f9-6fb42c69423b    6\n",
       "                                       ..\n",
       "e5dc69ac-18c2-d9e7-bf4e-9f8df7813a65    1\n",
       "5f0a786b-befe-57a8-ce50-7f7b3ce8d634    1\n",
       "e25c7fc8-5065-81de-b486-9c9fe12d6305    1\n",
       "875bee68-17ff-62b3-ef59-6bed6386bd51    1\n",
       "32c9387c-ef02-29cc-3037-b3c9d34cbf2a    1\n",
       "Name: ENCOUNTER, Length: 6976, dtype: int64"
      ]
     },
     "execution_count": 91,
     "metadata": {},
     "output_type": "execute_result"
    }
   ],
   "source": [
    "conditions[\"ENCOUNTER\"].value_counts()"
   ]
  },
  {
   "attachments": {},
   "cell_type": "markdown",
   "metadata": {},
   "source": [
    "# Devices"
   ]
  },
  {
   "cell_type": "code",
   "execution_count": 92,
   "metadata": {},
   "outputs": [
    {
     "data": {
      "text/html": [
       "<div>\n",
       "<style scoped>\n",
       "    .dataframe tbody tr th:only-of-type {\n",
       "        vertical-align: middle;\n",
       "    }\n",
       "\n",
       "    .dataframe tbody tr th {\n",
       "        vertical-align: top;\n",
       "    }\n",
       "\n",
       "    .dataframe thead th {\n",
       "        text-align: right;\n",
       "    }\n",
       "</style>\n",
       "<table border=\"1\" class=\"dataframe\">\n",
       "  <thead>\n",
       "    <tr style=\"text-align: right;\">\n",
       "      <th></th>\n",
       "      <th>START</th>\n",
       "      <th>STOP</th>\n",
       "      <th>PATIENT</th>\n",
       "      <th>ENCOUNTER</th>\n",
       "      <th>CODE</th>\n",
       "      <th>DESCRIPTION</th>\n",
       "      <th>UDI</th>\n",
       "    </tr>\n",
       "  </thead>\n",
       "  <tbody>\n",
       "    <tr>\n",
       "      <th>0</th>\n",
       "      <td>1996-06-20T11:06:07Z</td>\n",
       "      <td>1996-07-18T11:06:07Z</td>\n",
       "      <td>d0f42c19-94b4-964d-b7d8-d087fe220e78</td>\n",
       "      <td>d254222e-2e5a-0c9f-8f34-05eb2ae23761</td>\n",
       "      <td>228869008</td>\n",
       "      <td>Manual wheelchair (physical object)</td>\n",
       "      <td>(01)31886423523947(11)960530(17)210614(10)1582...</td>\n",
       "    </tr>\n",
       "    <tr>\n",
       "      <th>1</th>\n",
       "      <td>1998-03-27T13:21:23Z</td>\n",
       "      <td>1998-03-31T13:21:23Z</td>\n",
       "      <td>f63b81f3-2aab-fe60-7c85-92a9a5eff526</td>\n",
       "      <td>05611bdb-84c8-cbb3-f8a1-924586acf5bf</td>\n",
       "      <td>228869008</td>\n",
       "      <td>Manual wheelchair (physical object)</td>\n",
       "      <td>(01)86751835624889(11)980306(17)230321(10)1539...</td>\n",
       "    </tr>\n",
       "    <tr>\n",
       "      <th>2</th>\n",
       "      <td>1984-05-22T21:02:50Z</td>\n",
       "      <td>NaN</td>\n",
       "      <td>41ac485e-8346-259b-1661-a73de3413401</td>\n",
       "      <td>c65c692d-a36a-6d16-a2cb-d60c18ebda9d</td>\n",
       "      <td>170615005</td>\n",
       "      <td>Home nebulizer (physical object)</td>\n",
       "      <td>(01)28275392634423(11)840501(17)090516(10)5847...</td>\n",
       "    </tr>\n",
       "  </tbody>\n",
       "</table>\n",
       "</div>"
      ],
      "text/plain": [
       "                  START                  STOP  \\\n",
       "0  1996-06-20T11:06:07Z  1996-07-18T11:06:07Z   \n",
       "1  1998-03-27T13:21:23Z  1998-03-31T13:21:23Z   \n",
       "2  1984-05-22T21:02:50Z                   NaN   \n",
       "\n",
       "                                PATIENT                             ENCOUNTER  \\\n",
       "0  d0f42c19-94b4-964d-b7d8-d087fe220e78  d254222e-2e5a-0c9f-8f34-05eb2ae23761   \n",
       "1  f63b81f3-2aab-fe60-7c85-92a9a5eff526  05611bdb-84c8-cbb3-f8a1-924586acf5bf   \n",
       "2  41ac485e-8346-259b-1661-a73de3413401  c65c692d-a36a-6d16-a2cb-d60c18ebda9d   \n",
       "\n",
       "        CODE                          DESCRIPTION  \\\n",
       "0  228869008  Manual wheelchair (physical object)   \n",
       "1  228869008  Manual wheelchair (physical object)   \n",
       "2  170615005     Home nebulizer (physical object)   \n",
       "\n",
       "                                                 UDI  \n",
       "0  (01)31886423523947(11)960530(17)210614(10)1582...  \n",
       "1  (01)86751835624889(11)980306(17)230321(10)1539...  \n",
       "2  (01)28275392634423(11)840501(17)090516(10)5847...  "
      ]
     },
     "execution_count": 92,
     "metadata": {},
     "output_type": "execute_result"
    }
   ],
   "source": [
    "devices.head(3)"
   ]
  },
  {
   "cell_type": "code",
   "execution_count": 93,
   "metadata": {},
   "outputs": [
    {
     "name": "stdout",
     "output_type": "stream",
     "text": [
      "<class 'pandas.core.frame.DataFrame'>\n",
      "RangeIndex: 338 entries, 0 to 337\n",
      "Data columns (total 7 columns):\n",
      " #   Column       Non-Null Count  Dtype \n",
      "---  ------       --------------  ----- \n",
      " 0   START        338 non-null    object\n",
      " 1   STOP         214 non-null    object\n",
      " 2   PATIENT      338 non-null    object\n",
      " 3   ENCOUNTER    338 non-null    object\n",
      " 4   CODE         338 non-null    int64 \n",
      " 5   DESCRIPTION  338 non-null    object\n",
      " 6   UDI          338 non-null    object\n",
      "dtypes: int64(1), object(6)\n",
      "memory usage: 18.6+ KB\n"
     ]
    }
   ],
   "source": [
    "devices.info()"
   ]
  },
  {
   "cell_type": "code",
   "execution_count": 94,
   "metadata": {},
   "outputs": [
    {
     "data": {
      "text/plain": [
       "START          257\n",
       "STOP           151\n",
       "PATIENT         86\n",
       "ENCOUNTER      252\n",
       "CODE            19\n",
       "DESCRIPTION     19\n",
       "UDI            338\n",
       "dtype: int64"
      ]
     },
     "execution_count": 94,
     "metadata": {},
     "output_type": "execute_result"
    }
   ],
   "source": [
    "devices.nunique()"
   ]
  },
  {
   "cell_type": "code",
   "execution_count": 96,
   "metadata": {},
   "outputs": [
    {
     "data": {
      "text/plain": [
       "228869008    83\n",
       "337414009    57\n",
       "706180003    45\n",
       "702172008    45\n",
       "170615005    33\n",
       "705417005    15\n",
       "91537007     14\n",
       "336621006     7\n",
       "701077002     7\n",
       "701100002     7\n",
       "360008003     4\n",
       "705406009     4\n",
       "363753007     4\n",
       "706112002     4\n",
       "261323006     3\n",
       "705427004     3\n",
       "129113006     1\n",
       "720253003     1\n",
       "464173000     1\n",
       "Name: CODE, dtype: int64"
      ]
     },
     "execution_count": 96,
     "metadata": {},
     "output_type": "execute_result"
    }
   ],
   "source": [
    "devices[\"CODE\"].value_counts()"
   ]
  },
  {
   "cell_type": "code",
   "execution_count": 97,
   "metadata": {},
   "outputs": [
    {
     "data": {
      "text/plain": [
       "Manual wheelchair (physical object)                                83\n",
       "Blood glucose meter (physical object)                              57\n",
       "Respiratory humidifier (physical object)                           45\n",
       "Home continuous positive airway pressure unit (physical object)    45\n",
       "Home nebulizer (physical object)                                   33\n",
       "Wheelchair accessory (physical object)                             15\n",
       "Hospital bed  device (physical object)                             14\n",
       "Oxygen concentrator (physical object)                               7\n",
       "Respiratory apnea monitoring system (physical object)               7\n",
       "Polysomnography analyzer (physical object)                          7\n",
       "Patient lifting system (physical object)                            4\n",
       "Walker (physical object)                                            4\n",
       "Commode (physical object)                                           4\n",
       "Crutches (physical object)                                          4\n",
       "Portable oxygen cylinder (physical object)                          3\n",
       "Power-assisted wheelchair (physical object)                         3\n",
       "Portable oxygen concentrator (physical object)                      1\n",
       "Home-use sleep apnea recording system (physical object)             1\n",
       "Intra-aortic balloon pump  device (physical object)                 1\n",
       "Name: DESCRIPTION, dtype: int64"
      ]
     },
     "execution_count": 97,
     "metadata": {},
     "output_type": "execute_result"
    }
   ],
   "source": [
    "devices[\"DESCRIPTION\"].value_counts()"
   ]
  },
  {
   "cell_type": "code",
   "execution_count": 98,
   "metadata": {},
   "outputs": [
    {
     "data": {
      "text/plain": [
       "(01)64230828090118(11)341117(17)591202(10)30121077624759(21)38114216821           1\n",
       "(01)91911136600240(11)991121(17)241205(10)42010733(21)7763                        1\n",
       "(01)19704316007213(11)070220(17)320306(10)1193598617738427(21)7342451355          1\n",
       "(01)48271794720610(11)891204(17)141219(10)896059(21)7515536262                    1\n",
       "(01)60775293523878(11)751113(17)001126(10)189399707221359(21)82427943271213127    1\n",
       "                                                                                 ..\n",
       "(01)56031851442607(11)491004(17)741019(10)9195398(21)295176175031                 1\n",
       "(01)50969278945057(11)820416(17)070501(10)1130091(21)36786844072463               1\n",
       "(01)26015666613333(11)151002(17)401016(10)5385092(21)87568051939451520            1\n",
       "(01)17635926490267(11)960202(17)210216(10)23446903(21)4006835640831               1\n",
       "(01)11029184332404(11)491004(17)741019(10)67735009121(21)57698162667              1\n",
       "Name: UDI, Length: 338, dtype: int64"
      ]
     },
     "execution_count": 98,
     "metadata": {},
     "output_type": "execute_result"
    }
   ],
   "source": [
    "devices[\"UDI\"].value_counts()"
   ]
  },
  {
   "cell_type": "code",
   "execution_count": 99,
   "metadata": {},
   "outputs": [
    {
     "data": {
      "text/plain": [
       "49093d47-3c84-611c-ec79-68a5413087e7    25\n",
       "d7058686-b43c-93d9-fb3d-0571af023de6    21\n",
       "b97f0438-4385-fb63-db1a-d549d09eb89c    19\n",
       "abe9c763-59b6-43a9-7ddd-07c9433a112c    19\n",
       "297a0fc0-6c0b-ff79-1258-33885aeb3eda    16\n",
       "                                        ..\n",
       "8c836a07-7176-6f01-5815-3b38e9dcc8b7     1\n",
       "d0f42c19-94b4-964d-b7d8-d087fe220e78     1\n",
       "dd535356-a2d7-5947-e93b-c579bd88bacb     1\n",
       "62651681-3c65-c1b7-d0c9-37be11620a93     1\n",
       "312a4755-281e-817c-e7f5-114d137404b4     1\n",
       "Name: PATIENT, Length: 86, dtype: int64"
      ]
     },
     "execution_count": 99,
     "metadata": {},
     "output_type": "execute_result"
    }
   ],
   "source": [
    "devices[\"PATIENT\"].value_counts()"
   ]
  },
  {
   "cell_type": "code",
   "execution_count": 100,
   "metadata": {},
   "outputs": [
    {
     "data": {
      "text/plain": [
       "700e0d73-8801-ad05-f68f-02b3a144071d    4\n",
       "40eb561b-60f0-c8f8-4d2d-11e7b5e0a2bd    4\n",
       "ad1c7550-c8ee-ebdc-ebad-0ee115d452b1    4\n",
       "1e2d5893-aac6-1fbf-4a25-2f040c43789d    4\n",
       "9b4e62fb-cddf-debf-3b32-9c5b909dffdd    4\n",
       "                                       ..\n",
       "c17670e6-5e8e-c605-dd07-2db32d576e3c    1\n",
       "308654bf-3afc-9c49-bcb1-bc99efb3a912    1\n",
       "e9060c0c-af26-d142-a84a-7f7651db5082    1\n",
       "80ea794c-38d6-874c-31ac-c68c1198e26b    1\n",
       "bf6f9d63-78ba-6fed-5679-7829edd175a4    1\n",
       "Name: ENCOUNTER, Length: 252, dtype: int64"
      ]
     },
     "execution_count": 100,
     "metadata": {},
     "output_type": "execute_result"
    }
   ],
   "source": [
    "devices[\"ENCOUNTER\"].value_counts()"
   ]
  },
  {
   "attachments": {},
   "cell_type": "markdown",
   "metadata": {},
   "source": [
    "# Encounters"
   ]
  },
  {
   "cell_type": "code",
   "execution_count": 167,
   "metadata": {},
   "outputs": [
    {
     "data": {
      "text/html": [
       "<div>\n",
       "<style scoped>\n",
       "    .dataframe tbody tr th:only-of-type {\n",
       "        vertical-align: middle;\n",
       "    }\n",
       "\n",
       "    .dataframe tbody tr th {\n",
       "        vertical-align: top;\n",
       "    }\n",
       "\n",
       "    .dataframe thead th {\n",
       "        text-align: right;\n",
       "    }\n",
       "</style>\n",
       "<table border=\"1\" class=\"dataframe\">\n",
       "  <thead>\n",
       "    <tr style=\"text-align: right;\">\n",
       "      <th></th>\n",
       "      <th>Id</th>\n",
       "      <th>START</th>\n",
       "      <th>STOP</th>\n",
       "      <th>PATIENT</th>\n",
       "      <th>ORGANIZATION</th>\n",
       "      <th>PROVIDER</th>\n",
       "      <th>PAYER</th>\n",
       "      <th>ENCOUNTERCLASS</th>\n",
       "      <th>CODE</th>\n",
       "      <th>DESCRIPTION</th>\n",
       "      <th>BASE_ENCOUNTER_COST</th>\n",
       "      <th>TOTAL_CLAIM_COST</th>\n",
       "      <th>PAYER_COVERAGE</th>\n",
       "      <th>REASONCODE</th>\n",
       "      <th>REASONDESCRIPTION</th>\n",
       "    </tr>\n",
       "  </thead>\n",
       "  <tbody>\n",
       "    <tr>\n",
       "      <th>0</th>\n",
       "      <td>cf6058a1-d657-c29c-d424-4801c592eaf8</td>\n",
       "      <td>2022-02-17T05:45:41Z</td>\n",
       "      <td>2022-02-17T06:00:41Z</td>\n",
       "      <td>0b0fefd8-ba9a-b401-5924-8c6ea36a8568</td>\n",
       "      <td>1d45436f-15a9-326e-a452-2e9ffc9fc5e5</td>\n",
       "      <td>234f5632-2b73-38dd-bb23-a03fff8bc0aa</td>\n",
       "      <td>d31fccc3-1767-390d-966a-22a5156f4219</td>\n",
       "      <td>wellness</td>\n",
       "      <td>410620009</td>\n",
       "      <td>Well child visit (procedure)</td>\n",
       "      <td>136.8</td>\n",
       "      <td>841.00</td>\n",
       "      <td>0.00</td>\n",
       "      <td>NaN</td>\n",
       "      <td>NaN</td>\n",
       "    </tr>\n",
       "    <tr>\n",
       "      <th>1</th>\n",
       "      <td>9f4685e7-0424-aabe-bcaa-b2cf98bf5b0e</td>\n",
       "      <td>2022-03-24T05:45:41Z</td>\n",
       "      <td>2022-03-24T06:00:41Z</td>\n",
       "      <td>0b0fefd8-ba9a-b401-5924-8c6ea36a8568</td>\n",
       "      <td>1d45436f-15a9-326e-a452-2e9ffc9fc5e5</td>\n",
       "      <td>234f5632-2b73-38dd-bb23-a03fff8bc0aa</td>\n",
       "      <td>d31fccc3-1767-390d-966a-22a5156f4219</td>\n",
       "      <td>wellness</td>\n",
       "      <td>410620009</td>\n",
       "      <td>Well child visit (procedure)</td>\n",
       "      <td>136.8</td>\n",
       "      <td>844.83</td>\n",
       "      <td>41.83</td>\n",
       "      <td>NaN</td>\n",
       "      <td>NaN</td>\n",
       "    </tr>\n",
       "    <tr>\n",
       "      <th>2</th>\n",
       "      <td>6b9fd2cd-bc11-2f9c-d223-d57310b12ef8</td>\n",
       "      <td>2015-12-07T08:29:09Z</td>\n",
       "      <td>2015-12-07T08:44:09Z</td>\n",
       "      <td>e21a6d28-3d43-24eb-72cd-02393a4e38a4</td>\n",
       "      <td>edd58f69-ad5f-346b-b1f9-530ccdc895f6</td>\n",
       "      <td>c089f225-1997-3fc4-9116-fe17bc33118f</td>\n",
       "      <td>0133f751-9229-3cfd-815f-b6d4979bdd6a</td>\n",
       "      <td>wellness</td>\n",
       "      <td>410620009</td>\n",
       "      <td>Well child visit (procedure)</td>\n",
       "      <td>136.8</td>\n",
       "      <td>847.41</td>\n",
       "      <td>0.00</td>\n",
       "      <td>NaN</td>\n",
       "      <td>NaN</td>\n",
       "    </tr>\n",
       "  </tbody>\n",
       "</table>\n",
       "</div>"
      ],
      "text/plain": [
       "                                     Id                 START  \\\n",
       "0  cf6058a1-d657-c29c-d424-4801c592eaf8  2022-02-17T05:45:41Z   \n",
       "1  9f4685e7-0424-aabe-bcaa-b2cf98bf5b0e  2022-03-24T05:45:41Z   \n",
       "2  6b9fd2cd-bc11-2f9c-d223-d57310b12ef8  2015-12-07T08:29:09Z   \n",
       "\n",
       "                   STOP                               PATIENT  \\\n",
       "0  2022-02-17T06:00:41Z  0b0fefd8-ba9a-b401-5924-8c6ea36a8568   \n",
       "1  2022-03-24T06:00:41Z  0b0fefd8-ba9a-b401-5924-8c6ea36a8568   \n",
       "2  2015-12-07T08:44:09Z  e21a6d28-3d43-24eb-72cd-02393a4e38a4   \n",
       "\n",
       "                           ORGANIZATION                              PROVIDER  \\\n",
       "0  1d45436f-15a9-326e-a452-2e9ffc9fc5e5  234f5632-2b73-38dd-bb23-a03fff8bc0aa   \n",
       "1  1d45436f-15a9-326e-a452-2e9ffc9fc5e5  234f5632-2b73-38dd-bb23-a03fff8bc0aa   \n",
       "2  edd58f69-ad5f-346b-b1f9-530ccdc895f6  c089f225-1997-3fc4-9116-fe17bc33118f   \n",
       "\n",
       "                                  PAYER ENCOUNTERCLASS       CODE  \\\n",
       "0  d31fccc3-1767-390d-966a-22a5156f4219       wellness  410620009   \n",
       "1  d31fccc3-1767-390d-966a-22a5156f4219       wellness  410620009   \n",
       "2  0133f751-9229-3cfd-815f-b6d4979bdd6a       wellness  410620009   \n",
       "\n",
       "                    DESCRIPTION  BASE_ENCOUNTER_COST  TOTAL_CLAIM_COST  \\\n",
       "0  Well child visit (procedure)                136.8            841.00   \n",
       "1  Well child visit (procedure)                136.8            844.83   \n",
       "2  Well child visit (procedure)                136.8            847.41   \n",
       "\n",
       "   PAYER_COVERAGE  REASONCODE REASONDESCRIPTION  \n",
       "0            0.00         NaN               NaN  \n",
       "1           41.83         NaN               NaN  \n",
       "2            0.00         NaN               NaN  "
      ]
     },
     "execution_count": 167,
     "metadata": {},
     "output_type": "execute_result"
    }
   ],
   "source": [
    "encounters.head(3)"
   ]
  },
  {
   "cell_type": "code",
   "execution_count": 168,
   "metadata": {},
   "outputs": [
    {
     "name": "stdout",
     "output_type": "stream",
     "text": [
      "<class 'pandas.core.frame.DataFrame'>\n",
      "RangeIndex: 21544 entries, 0 to 21543\n",
      "Data columns (total 15 columns):\n",
      " #   Column               Non-Null Count  Dtype  \n",
      "---  ------               --------------  -----  \n",
      " 0   Id                   21544 non-null  object \n",
      " 1   START                21544 non-null  object \n",
      " 2   STOP                 21544 non-null  object \n",
      " 3   PATIENT              21544 non-null  object \n",
      " 4   ORGANIZATION         21544 non-null  object \n",
      " 5   PROVIDER             21544 non-null  object \n",
      " 6   PAYER                21544 non-null  object \n",
      " 7   ENCOUNTERCLASS       21544 non-null  object \n",
      " 8   CODE                 21544 non-null  int64  \n",
      " 9   DESCRIPTION          21544 non-null  object \n",
      " 10  BASE_ENCOUNTER_COST  21544 non-null  float64\n",
      " 11  TOTAL_CLAIM_COST     21544 non-null  float64\n",
      " 12  PAYER_COVERAGE       21544 non-null  float64\n",
      " 13  REASONCODE           9692 non-null   float64\n",
      " 14  REASONDESCRIPTION    9692 non-null   object \n",
      "dtypes: float64(4), int64(1), object(10)\n",
      "memory usage: 2.5+ MB\n"
     ]
    }
   ],
   "source": [
    "encounters.info()"
   ]
  },
  {
   "cell_type": "code",
   "execution_count": 169,
   "metadata": {},
   "outputs": [
    {
     "data": {
      "text/plain": [
       "Id                     21544\n",
       "START                  20544\n",
       "STOP                   21031\n",
       "PATIENT                  123\n",
       "ORGANIZATION             285\n",
       "PROVIDER                 285\n",
       "PAYER                     10\n",
       "ENCOUNTERCLASS            10\n",
       "CODE                      49\n",
       "DESCRIPTION               56\n",
       "BASE_ENCOUNTER_COST        9\n",
       "TOTAL_CLAIM_COST       11934\n",
       "PAYER_COVERAGE          9318\n",
       "REASONCODE                93\n",
       "REASONDESCRIPTION         93\n",
       "dtype: int64"
      ]
     },
     "execution_count": 169,
     "metadata": {},
     "output_type": "execute_result"
    }
   ],
   "source": [
    "encounters.nunique()"
   ]
  },
  {
   "cell_type": "code",
   "execution_count": 170,
   "metadata": {},
   "outputs": [
    {
     "data": {
      "text/plain": [
       "ambulatory    10753\n",
       "wellness       5393\n",
       "outpatient     2892\n",
       "urgentcare     1298\n",
       "emergency       903\n",
       "inpatient       157\n",
       "snf              68\n",
       "home             47\n",
       "hospice          31\n",
       "virtual           2\n",
       "Name: ENCOUNTERCLASS, dtype: int64"
      ]
     },
     "execution_count": 170,
     "metadata": {},
     "output_type": "execute_result"
    }
   ],
   "source": [
    "encounters[\"ENCOUNTERCLASS\"].value_counts()"
   ]
  },
  {
   "cell_type": "code",
   "execution_count": 171,
   "metadata": {},
   "outputs": [
    {
     "data": {
      "text/plain": [
       "185347001          5191\n",
       "410620009          2935\n",
       "162673000          2436\n",
       "185349003          1838\n",
       "185345009          1693\n",
       "424619006          1687\n",
       "702927004          1296\n",
       "308335008           691\n",
       "50849002            618\n",
       "371883000           589\n",
       "698314001           518\n",
       "424441002           316\n",
       "390906007           273\n",
       "183460006           191\n",
       "169762003           190\n",
       "448337001           167\n",
       "394701000           134\n",
       "33879002            119\n",
       "439740005            73\n",
       "270427003            71\n",
       "449411000124106      68\n",
       "210098006            56\n",
       "56876005             49\n",
       "439708006            47\n",
       "182813001            40\n",
       "305336008            31\n",
       "183478001            28\n",
       "305408004            27\n",
       "308646001            22\n",
       "410410006            18\n",
       "310061009            18\n",
       "183452005            16\n",
       "32485007             15\n",
       "170837001            12\n",
       "183495009            11\n",
       "170838006             9\n",
       "305432006             9\n",
       "305342007             9\n",
       "397821002             8\n",
       "316744009             6\n",
       "305351004             6\n",
       "305411003             3\n",
       "223484005             2\n",
       "86013001              2\n",
       "79094001              2\n",
       "185317003             1\n",
       "4525004               1\n",
       "185389009             1\n",
       "47505003              1\n",
       "Name: CODE, dtype: int64"
      ]
     },
     "execution_count": 171,
     "metadata": {},
     "output_type": "execute_result"
    }
   ],
   "source": [
    "encounters[\"CODE\"].value_counts()"
   ]
  },
  {
   "cell_type": "code",
   "execution_count": 172,
   "metadata": {},
   "outputs": [
    {
     "data": {
      "text/plain": [
       "Encounter for problem (procedure)                                         4786\n",
       "Well child visit (procedure)                                              2935\n",
       "General examination of patient (procedure)                                2436\n",
       "Prenatal visit                                                            1687\n",
       "Encounter for symptom                                                     1671\n",
       "Encounter for check up (procedure)                                        1555\n",
       "Urgent care clinic (environment)                                          1296\n",
       "Emergency room admission (procedure)                                       618\n",
       "Outpatient procedure                                                       589\n",
       "Patient encounter procedure                                                521\n",
       "Consultation for treatment                                                 518\n",
       "Encounter for problem                                                      395\n",
       "Prenatal initial visit                                                     316\n",
       "Encounter for check up                                                     283\n",
       "Obstetric emergency hospital admission                                     191\n",
       "Postnatal visit                                                            190\n",
       "Patient encounter procedure (procedure)                                    170\n",
       "Telemedicine consultation with patient                                     167\n",
       "Follow-up encounter (procedure)                                            146\n",
       "Asthma follow-up                                                           134\n",
       "Follow-up encounter                                                        127\n",
       "Administration of vaccine to produce active immunity (procedure)           119\n",
       "Postoperative follow-up visit (procedure)                                   73\n",
       "Patient-initiated encounter                                                 71\n",
       "Admission to skilled nursing facility (procedure)                           68\n",
       "Domiciliary or rest home patient evaluation and management                  56\n",
       "Drug rehabilitation and detoxification                                      49\n",
       "Home visit (procedure)                                                      47\n",
       "Emergency treatment (procedure)                                             40\n",
       "Admission to hospice (procedure)                                            31\n",
       "Emergency hospital admission for asthma                                     28\n",
       "Admission to surgical department                                            27\n",
       "Encounter for symptom (procedure)                                           22\n",
       "Death Certification                                                         22\n",
       "Gynecology service (qualifier value)                                        18\n",
       "Screening surveillance (regime/therapy)                                     18\n",
       "Emergency hospital admission (procedure)                                    16\n",
       "Hospital admission (procedure)                                              15\n",
       "Allergic disorder initial assessment                                        12\n",
       "Non-urgent orthopedic admission                                             11\n",
       "Encounter for Problem                                                       10\n",
       "Allergic disorder follow-up assessment                                       9\n",
       "Admission to surgical transplant department (procedure)                      9\n",
       "Admission to ward (procedure)                                                8\n",
       "Patient transfer to intensive care unit (procedure)                          8\n",
       "Admission to intensive care unit (procedure)                                 6\n",
       "Office Visit                                                                 6\n",
       "Admission to thoracic surgery department                                     3\n",
       "Discussion about treatment (procedure)                                       2\n",
       "Initial Psychiatric Interview with mental status evaluation                  2\n",
       "Periodic reevaluation and management of healthy individual (procedure)       2\n",
       "Follow-up visit (procedure)                                                  1\n",
       "posttraumatic stress disorder                                                1\n",
       "Admission to ward (procedure                                                 1\n",
       "Emergency department patient visit (procedure)                               1\n",
       "Telephone encounter (procedure)                                              1\n",
       "Name: DESCRIPTION, dtype: int64"
      ]
     },
     "execution_count": 172,
     "metadata": {},
     "output_type": "execute_result"
    }
   ],
   "source": [
    "encounters[\"DESCRIPTION\"].value_counts()"
   ]
  },
  {
   "cell_type": "code",
   "execution_count": 174,
   "metadata": {},
   "outputs": [
    {
     "data": {
      "text/plain": [
       "85.55     9038\n",
       "142.58    5905\n",
       "136.80    5393\n",
       "146.18    1010\n",
       "110.92      68\n",
       "87.71       50\n",
       "128.53      47\n",
       "137.53      31\n",
       "75.00        2\n",
       "Name: BASE_ENCOUNTER_COST, dtype: int64"
      ]
     },
     "execution_count": 174,
     "metadata": {},
     "output_type": "execute_result"
    }
   ],
   "source": [
    "encounters[\"BASE_ENCOUNTER_COST\"].value_counts()"
   ]
  },
  {
   "cell_type": "code",
   "execution_count": 175,
   "metadata": {},
   "outputs": [
    {
     "data": {
      "text/plain": [
       "85.55      1724\n",
       "142.58      805\n",
       "234.71      699\n",
       "516.95      578\n",
       "704.20      506\n",
       "           ... \n",
       "780.43        1\n",
       "815.57        1\n",
       "1233.48       1\n",
       "9038.00       1\n",
       "3058.89       1\n",
       "Name: TOTAL_CLAIM_COST, Length: 11934, dtype: int64"
      ]
     },
     "execution_count": 175,
     "metadata": {},
     "output_type": "execute_result"
    }
   ],
   "source": [
    "encounters[\"TOTAL_CLAIM_COST\"].value_counts()"
   ]
  },
  {
   "cell_type": "code",
   "execution_count": 176,
   "metadata": {},
   "outputs": [
    {
     "data": {
      "text/plain": [
       "0.00        7417\n",
       "55.55        366\n",
       "187.76       310\n",
       "466.95       266\n",
       "697.82       264\n",
       "            ... \n",
       "827.67         1\n",
       "1329.77        1\n",
       "662.56         1\n",
       "14668.98       1\n",
       "14252.64       1\n",
       "Name: PAYER_COVERAGE, Length: 9318, dtype: int64"
      ]
     },
     "execution_count": 176,
     "metadata": {},
     "output_type": "execute_result"
    }
   ],
   "source": [
    "encounters[\"PAYER_COVERAGE\"].value_counts()"
   ]
  },
  {
   "cell_type": "code",
   "execution_count": 177,
   "metadata": {},
   "outputs": [
    {
     "data": {
      "text/plain": [
       "431857002.0    2696\n",
       "72892002.0     2212\n",
       "46177005.0     1011\n",
       "444814009.0     573\n",
       "6525002.0       538\n",
       "               ... \n",
       "403192003.0       1\n",
       "45595009.0        1\n",
       "95281009.0        1\n",
       "230690007.0       1\n",
       "69896004.0        1\n",
       "Name: REASONCODE, Length: 93, dtype: int64"
      ]
     },
     "execution_count": 177,
     "metadata": {},
     "output_type": "execute_result"
    }
   ],
   "source": [
    "encounters[\"REASONCODE\"].value_counts()"
   ]
  },
  {
   "cell_type": "code",
   "execution_count": 178,
   "metadata": {},
   "outputs": [
    {
     "data": {
      "text/plain": [
       "Chronic kidney disease stage 4 (disorder)     2696\n",
       "Normal pregnancy                              2212\n",
       "End-stage renal disease (disorder)            1011\n",
       "Viral sinusitis (disorder)                     573\n",
       "Dependent drug abuse (disorder)                538\n",
       "                                              ... \n",
       "Congenital uterine anomaly                       1\n",
       "Pulmonic valve stenosis (disorder)               1\n",
       "Acute Cholecystitis                              1\n",
       "Bleeding from anus                               1\n",
       "Acute myeloid leukemia  disease (disorder)       1\n",
       "Name: REASONDESCRIPTION, Length: 93, dtype: int64"
      ]
     },
     "execution_count": 178,
     "metadata": {},
     "output_type": "execute_result"
    }
   ],
   "source": [
    "encounters[\"REASONDESCRIPTION\"].value_counts()"
   ]
  },
  {
   "cell_type": "code",
   "execution_count": 180,
   "metadata": {},
   "outputs": [
    {
     "data": {
      "text/plain": [
       "e201efe2-198e-ceab-0038-41ecd9a68fd0    1051\n",
       "5d4f915d-9dcd-485c-1dc8-bea871dc2304     971\n",
       "31651bd8-1a95-3206-41ef-4ccf5b2d0461     832\n",
       "8060acde-4b13-976b-c3e1-14f3747cea0a     767\n",
       "41ac485e-8346-259b-1661-a73de3413401     765\n",
       "                                        ... \n",
       "0b0fefd8-ba9a-b401-5924-8c6ea36a8568       7\n",
       "3a53517d-9a0f-ec86-1c2b-93f4253194dc       7\n",
       "350e36b2-6b6b-bcc5-d38d-a29f2ffdbe52       6\n",
       "ff72f1ac-ddb8-4481-3371-09cdcc48d3fc       4\n",
       "a652df44-d908-5f1e-0c43-c5af9cf06ab6       3\n",
       "Name: PATIENT, Length: 123, dtype: int64"
      ]
     },
     "execution_count": 180,
     "metadata": {},
     "output_type": "execute_result"
    }
   ],
   "source": [
    "encounters[\"PATIENT\"].value_counts()"
   ]
  },
  {
   "cell_type": "code",
   "execution_count": 181,
   "metadata": {},
   "outputs": [
    {
     "data": {
      "text/plain": [
       "2836d9ac-c6a6-39d1-8f13-fdf0fc8928f4    1088\n",
       "0fab3c4e-a028-39a6-b15a-be5a88b6aa2a     979\n",
       "b6eeaaf7-1683-3bcb-b6ee-81ce304636ef     850\n",
       "901c2d40-1ca3-3879-9a20-c663b8adc0a9     837\n",
       "63cb4d95-04a9-3a35-b5d9-f89e0377a48d     785\n",
       "                                        ... \n",
       "bf556284-7513-3620-a10e-5393183a9a87       1\n",
       "eed72b73-31ec-3f0a-9ec4-cee4ea7da02a       1\n",
       "a7b047dd-186a-32de-8187-b0853c05aed6       1\n",
       "4f27686f-c8aa-3dd8-b272-f98bb903b3d7       1\n",
       "cce87420-edd2-3473-9d82-5633f05186a7       1\n",
       "Name: ORGANIZATION, Length: 285, dtype: int64"
      ]
     },
     "execution_count": 181,
     "metadata": {},
     "output_type": "execute_result"
    }
   ],
   "source": [
    "encounters[\"ORGANIZATION\"].value_counts()"
   ]
  },
  {
   "cell_type": "code",
   "execution_count": 182,
   "metadata": {},
   "outputs": [
    {
     "data": {
      "text/plain": [
       "1c02e486-ff0a-3a41-a580-333d65774840    1088\n",
       "3755ad24-8618-3658-bb3d-9b4a8a2e6e07     979\n",
       "cdece237-f126-348c-bc69-0bf79f44ab65     850\n",
       "2b6dbfa0-62b3-3f89-a558-6b0aa2f85845     837\n",
       "810df6a3-04a0-3b52-bc72-e4512c7b1aeb     785\n",
       "                                        ... \n",
       "018999d1-27c6-397b-a466-41c40c544e90       1\n",
       "5b087628-9198-3471-b31d-e0aca1e4e2da       1\n",
       "4e6eaa61-e2ec-3d97-9d83-c1a79373bfef       1\n",
       "faa36eae-5bf9-32b3-906f-6cb023c3922a       1\n",
       "0483df8f-d6dd-39ea-b61e-8e0b8b756ce4       1\n",
       "Name: PROVIDER, Length: 285, dtype: int64"
      ]
     },
     "execution_count": 182,
     "metadata": {},
     "output_type": "execute_result"
    }
   ],
   "source": [
    "encounters[\"PROVIDER\"].value_counts()"
   ]
  },
  {
   "cell_type": "code",
   "execution_count": 183,
   "metadata": {},
   "outputs": [
    {
     "data": {
      "text/plain": [
       "a735bf55-83e9-331a-899d-a82a60b9f60c    4899\n",
       "b046940f-1664-3047-bca7-dfa76be352a4    3210\n",
       "b1c428d6-4f07-31e0-90f0-68ffa6ff8c76    3112\n",
       "0133f751-9229-3cfd-815f-b6d4979bdd6a    2660\n",
       "df166300-5a78-3502-a46a-832842197811    2028\n",
       "26aab0cd-6aba-3e1b-ac5b-05c8867e762c    1719\n",
       "8fa6c185-e44e-3e34-8bd8-39be8694f4ce    1718\n",
       "d31fccc3-1767-390d-966a-22a5156f4219    1415\n",
       "734afbd6-4794-363b-9bc0-6a3981533ed5     638\n",
       "d18ef2e6-ef40-324c-be54-34a5ee865625     145\n",
       "Name: PAYER, dtype: int64"
      ]
     },
     "execution_count": 183,
     "metadata": {},
     "output_type": "execute_result"
    }
   ],
   "source": [
    "encounters[\"PAYER\"].value_counts()"
   ]
  },
  {
   "attachments": {},
   "cell_type": "markdown",
   "metadata": {},
   "source": [
    "# Imaging Studies"
   ]
  },
  {
   "cell_type": "code",
   "execution_count": 286,
   "metadata": {},
   "outputs": [
    {
     "data": {
      "text/html": [
       "<div>\n",
       "<style scoped>\n",
       "    .dataframe tbody tr th:only-of-type {\n",
       "        vertical-align: middle;\n",
       "    }\n",
       "\n",
       "    .dataframe tbody tr th {\n",
       "        vertical-align: top;\n",
       "    }\n",
       "\n",
       "    .dataframe thead th {\n",
       "        text-align: right;\n",
       "    }\n",
       "</style>\n",
       "<table border=\"1\" class=\"dataframe\">\n",
       "  <thead>\n",
       "    <tr style=\"text-align: right;\">\n",
       "      <th></th>\n",
       "      <th>Id</th>\n",
       "      <th>DATE</th>\n",
       "      <th>PATIENT</th>\n",
       "      <th>ENCOUNTER</th>\n",
       "      <th>SERIES_UID</th>\n",
       "      <th>BODYSITE_CODE</th>\n",
       "      <th>BODYSITE_DESCRIPTION</th>\n",
       "      <th>MODALITY_CODE</th>\n",
       "      <th>MODALITY_DESCRIPTION</th>\n",
       "      <th>INSTANCE_UID</th>\n",
       "      <th>SOP_CODE</th>\n",
       "      <th>SOP_DESCRIPTION</th>\n",
       "      <th>PROCEDURE_CODE</th>\n",
       "    </tr>\n",
       "  </thead>\n",
       "  <tbody>\n",
       "    <tr>\n",
       "      <th>0</th>\n",
       "      <td>a3d2787f-8380-0a84-2da4-d3ace77076aa</td>\n",
       "      <td>2012-10-23T16:13:24Z</td>\n",
       "      <td>f3b8472a-44ad-23b1-8132-b096033d2e41</td>\n",
       "      <td>9b9a6f2b-1227-4820-844a-0fb53e0fb4b3</td>\n",
       "      <td>1.2.840.99999999.1.55756415.1351008804140</td>\n",
       "      <td>51299004</td>\n",
       "      <td>Clavicle</td>\n",
       "      <td>DX</td>\n",
       "      <td>Digital Radiography</td>\n",
       "      <td>1.2.840.99999999.1.1.83675629.1351008804140</td>\n",
       "      <td>1.2.840.10008.5.1.4.1.1.1.1</td>\n",
       "      <td>Digital X-Ray Image Storage</td>\n",
       "      <td>168594001</td>\n",
       "    </tr>\n",
       "    <tr>\n",
       "      <th>1</th>\n",
       "      <td>3c7ef438-a701-1bc1-f8b3-1d1686177228</td>\n",
       "      <td>1984-10-17T12:51:39Z</td>\n",
       "      <td>f63b81f3-2aab-fe60-7c85-92a9a5eff526</td>\n",
       "      <td>85ab52a9-94ed-3d36-88e5-c24dd1cf9f33</td>\n",
       "      <td>1.2.840.99999999.1.87896124.466865499433</td>\n",
       "      <td>40983000</td>\n",
       "      <td>Structure of upper extremity between shoulder ...</td>\n",
       "      <td>DX</td>\n",
       "      <td>Digital Radiography</td>\n",
       "      <td>1.2.840.99999999.1.1.12389210.466865499433</td>\n",
       "      <td>1.2.840.10008.5.1.4.1.1.1.1</td>\n",
       "      <td>Digital X-Ray Image Storage</td>\n",
       "      <td>1225002</td>\n",
       "    </tr>\n",
       "    <tr>\n",
       "      <th>2</th>\n",
       "      <td>ea864c41-2077-f5fc-10e2-09774c95f367</td>\n",
       "      <td>2016-02-13T18:11:24Z</td>\n",
       "      <td>f3b8472a-44ad-23b1-8132-b096033d2e41</td>\n",
       "      <td>1a1606a0-a594-a799-ea5e-8d816823d8d2</td>\n",
       "      <td>1.2.840.99999999.1.51184385.1455387084140</td>\n",
       "      <td>40983000</td>\n",
       "      <td>Structure of upper extremity between shoulder ...</td>\n",
       "      <td>DX</td>\n",
       "      <td>Digital Radiography</td>\n",
       "      <td>1.2.840.99999999.1.1.20329739.1455387084140</td>\n",
       "      <td>1.2.840.10008.5.1.4.1.1.1.1</td>\n",
       "      <td>Digital X-Ray Image Storage</td>\n",
       "      <td>1225002</td>\n",
       "    </tr>\n",
       "  </tbody>\n",
       "</table>\n",
       "</div>"
      ],
      "text/plain": [
       "                                     Id                  DATE  \\\n",
       "0  a3d2787f-8380-0a84-2da4-d3ace77076aa  2012-10-23T16:13:24Z   \n",
       "1  3c7ef438-a701-1bc1-f8b3-1d1686177228  1984-10-17T12:51:39Z   \n",
       "2  ea864c41-2077-f5fc-10e2-09774c95f367  2016-02-13T18:11:24Z   \n",
       "\n",
       "                                PATIENT                             ENCOUNTER  \\\n",
       "0  f3b8472a-44ad-23b1-8132-b096033d2e41  9b9a6f2b-1227-4820-844a-0fb53e0fb4b3   \n",
       "1  f63b81f3-2aab-fe60-7c85-92a9a5eff526  85ab52a9-94ed-3d36-88e5-c24dd1cf9f33   \n",
       "2  f3b8472a-44ad-23b1-8132-b096033d2e41  1a1606a0-a594-a799-ea5e-8d816823d8d2   \n",
       "\n",
       "                                  SERIES_UID  BODYSITE_CODE  \\\n",
       "0  1.2.840.99999999.1.55756415.1351008804140       51299004   \n",
       "1   1.2.840.99999999.1.87896124.466865499433       40983000   \n",
       "2  1.2.840.99999999.1.51184385.1455387084140       40983000   \n",
       "\n",
       "                                BODYSITE_DESCRIPTION MODALITY_CODE  \\\n",
       "0                                           Clavicle            DX   \n",
       "1  Structure of upper extremity between shoulder ...            DX   \n",
       "2  Structure of upper extremity between shoulder ...            DX   \n",
       "\n",
       "  MODALITY_DESCRIPTION                                 INSTANCE_UID  \\\n",
       "0  Digital Radiography  1.2.840.99999999.1.1.83675629.1351008804140   \n",
       "1  Digital Radiography   1.2.840.99999999.1.1.12389210.466865499433   \n",
       "2  Digital Radiography  1.2.840.99999999.1.1.20329739.1455387084140   \n",
       "\n",
       "                      SOP_CODE              SOP_DESCRIPTION  PROCEDURE_CODE  \n",
       "0  1.2.840.10008.5.1.4.1.1.1.1  Digital X-Ray Image Storage       168594001  \n",
       "1  1.2.840.10008.5.1.4.1.1.1.1  Digital X-Ray Image Storage         1225002  \n",
       "2  1.2.840.10008.5.1.4.1.1.1.1  Digital X-Ray Image Storage         1225002  "
      ]
     },
     "execution_count": 286,
     "metadata": {},
     "output_type": "execute_result"
    }
   ],
   "source": [
    "imaging_studies.head(3)"
   ]
  },
  {
   "cell_type": "code",
   "execution_count": 187,
   "metadata": {},
   "outputs": [
    {
     "name": "stdout",
     "output_type": "stream",
     "text": [
      "<class 'pandas.core.frame.DataFrame'>\n",
      "RangeIndex: 167 entries, 0 to 166\n",
      "Data columns (total 13 columns):\n",
      " #   Column                Non-Null Count  Dtype \n",
      "---  ------                --------------  ----- \n",
      " 0   Id                    167 non-null    object\n",
      " 1   DATE                  167 non-null    object\n",
      " 2   PATIENT               167 non-null    object\n",
      " 3   ENCOUNTER             167 non-null    object\n",
      " 4   SERIES_UID            167 non-null    object\n",
      " 5   BODYSITE_CODE         167 non-null    int64 \n",
      " 6   BODYSITE_DESCRIPTION  167 non-null    object\n",
      " 7   MODALITY_CODE         167 non-null    object\n",
      " 8   MODALITY_DESCRIPTION  167 non-null    object\n",
      " 9   INSTANCE_UID          167 non-null    object\n",
      " 10  SOP_CODE              167 non-null    object\n",
      " 11  SOP_DESCRIPTION       167 non-null    object\n",
      " 12  PROCEDURE_CODE        167 non-null    int64 \n",
      "dtypes: int64(2), object(11)\n",
      "memory usage: 17.1+ KB\n"
     ]
    }
   ],
   "source": [
    "imaging_studies.info()"
   ]
  },
  {
   "cell_type": "code",
   "execution_count": 188,
   "metadata": {},
   "outputs": [
    {
     "data": {
      "text/plain": [
       "Id                      167\n",
       "DATE                    157\n",
       "PATIENT                  66\n",
       "ENCOUNTER               132\n",
       "SERIES_UID              167\n",
       "BODYSITE_CODE            10\n",
       "BODYSITE_DESCRIPTION     11\n",
       "MODALITY_CODE             4\n",
       "MODALITY_DESCRIPTION      4\n",
       "INSTANCE_UID            167\n",
       "SOP_CODE                  4\n",
       "SOP_DESCRIPTION           5\n",
       "PROCEDURE_CODE           11\n",
       "dtype: int64"
      ]
     },
     "execution_count": 188,
     "metadata": {},
     "output_type": "execute_result"
    }
   ],
   "source": [
    "imaging_studies.nunique()"
   ]
  },
  {
   "cell_type": "code",
   "execution_count": 189,
   "metadata": {},
   "outputs": [
    {
     "data": {
      "text/plain": [
       "1.2.840.99999999.1.34781504.590947428334     1\n",
       "1.2.840.99999999.1.77324080.1581348581767    1\n",
       "1.2.840.99999999.1.63513135.502371139311     1\n",
       "1.2.840.99999999.1.27959845.1150863412513    1\n",
       "1.2.840.99999999.1.13564008.1064505939798    1\n",
       "                                            ..\n",
       "1.2.840.99999999.1.74237549.309595648122     1\n",
       "1.2.840.99999999.1.91322507.419464946089     1\n",
       "1.2.840.99999999.1.34508531.1533958220875    1\n",
       "1.2.840.99999999.1.96711101.1036229924066    1\n",
       "1.2.840.99999999.1.55864334.1163334838328    1\n",
       "Name: SERIES_UID, Length: 167, dtype: int64"
      ]
     },
     "execution_count": 189,
     "metadata": {},
     "output_type": "execute_result"
    }
   ],
   "source": [
    "imaging_studies[\"SERIES_UID\"].value_counts()"
   ]
  },
  {
   "cell_type": "code",
   "execution_count": 190,
   "metadata": {},
   "outputs": [
    {
     "data": {
      "text/plain": [
       "51185008     58\n",
       "51299004     24\n",
       "80891009     20\n",
       "8205005      19\n",
       "40983000     16\n",
       "344001       15\n",
       "72696002     10\n",
       "12921003      3\n",
       "50519007      1\n",
       "732167000     1\n",
       "Name: BODYSITE_CODE, dtype: int64"
      ]
     },
     "execution_count": 190,
     "metadata": {},
     "output_type": "execute_result"
    }
   ],
   "source": [
    "imaging_studies[\"BODYSITE_CODE\"].value_counts()"
   ]
  },
  {
   "cell_type": "code",
   "execution_count": 191,
   "metadata": {},
   "outputs": [
    {
     "data": {
      "text/plain": [
       "Thoracic structure (body structure)                                         48\n",
       "Clavicle                                                                    24\n",
       "Heart structure (body structure)                                            20\n",
       "Wrist                                                                       19\n",
       "Structure of upper extremity between shoulder and elbow (body structure)    16\n",
       "Ankle                                                                       15\n",
       "Knee                                                                        10\n",
       "Chest                                                                       10\n",
       "Pelvis                                                                       3\n",
       "Structure of right upper quadrant of abdomen                                 1\n",
       "Entire chest and abdomen and pelvis (body structure)                         1\n",
       "Name: BODYSITE_DESCRIPTION, dtype: int64"
      ]
     },
     "execution_count": 191,
     "metadata": {},
     "output_type": "execute_result"
    }
   ],
   "source": [
    "imaging_studies[\"BODYSITE_DESCRIPTION\"].value_counts()"
   ]
  },
  {
   "cell_type": "code",
   "execution_count": 192,
   "metadata": {},
   "outputs": [
    {
     "data": {
      "text/plain": [
       "DX    97\n",
       "CR    48\n",
       "US    21\n",
       "CT     1\n",
       "Name: MODALITY_CODE, dtype: int64"
      ]
     },
     "execution_count": 192,
     "metadata": {},
     "output_type": "execute_result"
    }
   ],
   "source": [
    "imaging_studies[\"MODALITY_CODE\"].value_counts()"
   ]
  },
  {
   "cell_type": "code",
   "execution_count": 193,
   "metadata": {},
   "outputs": [
    {
     "data": {
      "text/plain": [
       "Digital Radiography     97\n",
       "Computed Radiography    48\n",
       "Ultrasound              21\n",
       "Computed Tomography      1\n",
       "Name: MODALITY_DESCRIPTION, dtype: int64"
      ]
     },
     "execution_count": 193,
     "metadata": {},
     "output_type": "execute_result"
    }
   ],
   "source": [
    "imaging_studies[\"MODALITY_DESCRIPTION\"].value_counts()"
   ]
  },
  {
   "cell_type": "code",
   "execution_count": 194,
   "metadata": {},
   "outputs": [
    {
     "data": {
      "text/plain": [
       "1.2.840.99999999.1.1.71346559.1315369060328    1\n",
       "1.2.840.99999999.1.1.22222835.706074025402     1\n",
       "1.2.840.99999999.1.1.33969554.1306899293182    1\n",
       "1.2.840.99999999.1.1.38940568.467380216516     1\n",
       "1.2.840.99999999.1.1.20783954.1203943045484    1\n",
       "                                              ..\n",
       "1.2.840.99999999.1.1.47877512.1064505939798    1\n",
       "1.2.840.99999999.1.1.52920800.371551971818     1\n",
       "1.2.840.99999999.1.1.11710545.372886209818     1\n",
       "1.2.840.99999999.1.1.77235190.1183802972328    1\n",
       "1.2.840.99999999.1.1.76406602.371551971818     1\n",
       "Name: INSTANCE_UID, Length: 167, dtype: int64"
      ]
     },
     "execution_count": 194,
     "metadata": {},
     "output_type": "execute_result"
    }
   ],
   "source": [
    "imaging_studies[\"INSTANCE_UID\"].value_counts()"
   ]
  },
  {
   "cell_type": "code",
   "execution_count": 195,
   "metadata": {},
   "outputs": [
    {
     "data": {
      "text/plain": [
       "1.2.840.10008.5.1.4.1.1.1.1    145\n",
       "1.2.840.10008.5.1.4.1.1.3.1     20\n",
       "1.2.840.10008.5.1.4.1.1.6.1      1\n",
       "1.2.840.10008.5.1.4.1.1.2        1\n",
       "Name: SOP_CODE, dtype: int64"
      ]
     },
     "execution_count": 195,
     "metadata": {},
     "output_type": "execute_result"
    }
   ],
   "source": [
    "imaging_studies[\"SOP_CODE\"].value_counts()"
   ]
  },
  {
   "cell_type": "code",
   "execution_count": 196,
   "metadata": {},
   "outputs": [
    {
     "data": {
      "text/plain": [
       "Digital X-Ray Image Storage                       97\n",
       "Digital X-Ray Image Storage – for Presentation    48\n",
       "Ultrasound Multiframe Image Storage               20\n",
       "Ultrasound Image Storage                           1\n",
       "CT Image Storage                                   1\n",
       "Name: SOP_DESCRIPTION, dtype: int64"
      ]
     },
     "execution_count": 196,
     "metadata": {},
     "output_type": "execute_result"
    }
   ],
   "source": [
    "imaging_studies[\"SOP_DESCRIPTION\"].value_counts()"
   ]
  },
  {
   "cell_type": "code",
   "execution_count": 197,
   "metadata": {},
   "outputs": [
    {
     "data": {
      "text/plain": [
       "399208008          58\n",
       "168594001          24\n",
       "60027007           19\n",
       "1225002            16\n",
       "19490002           15\n",
       "40701008           15\n",
       "74016001           10\n",
       "433236007           5\n",
       "268425006           3\n",
       "418023006           1\n",
       "426701000119108     1\n",
       "Name: PROCEDURE_CODE, dtype: int64"
      ]
     },
     "execution_count": 197,
     "metadata": {},
     "output_type": "execute_result"
    }
   ],
   "source": [
    "imaging_studies[\"PROCEDURE_CODE\"].value_counts()"
   ]
  },
  {
   "cell_type": "code",
   "execution_count": 198,
   "metadata": {},
   "outputs": [
    {
     "data": {
      "text/plain": [
       "f4fa21a0-3541-07c7-7dea-fa612331b720    25\n",
       "fecd2d03-047c-1b75-e989-0bb36b97a64c    10\n",
       "3fff86e4-9e89-55fe-1824-6b63bab8fe6f     8\n",
       "b23e97e4-4c1e-3d32-0fa4-68b8235f79a9     7\n",
       "31651bd8-1a95-3206-41ef-4ccf5b2d0461     5\n",
       "                                        ..\n",
       "98fef4b2-f9c8-91f8-b526-09b9765e0ae1     1\n",
       "b9003acd-736d-bb16-359f-f5b56a2ca9ff     1\n",
       "82f7f043-7a8d-87cb-6189-20ee1a6cb5eb     1\n",
       "d926d4d1-dfaa-0f08-42b8-e41b2c12f680     1\n",
       "b97f0438-4385-fb63-db1a-d549d09eb89c     1\n",
       "Name: PATIENT, Length: 66, dtype: int64"
      ]
     },
     "execution_count": 198,
     "metadata": {},
     "output_type": "execute_result"
    }
   ],
   "source": [
    "imaging_studies[\"PATIENT\"].value_counts()"
   ]
  },
  {
   "cell_type": "code",
   "execution_count": 199,
   "metadata": {},
   "outputs": [
    {
     "data": {
      "text/plain": [
       "aa22000e-5867-50d7-c65a-4474da8945d5    10\n",
       "2036ef64-611b-3af8-bb84-720fae800e45     7\n",
       "c395350c-6962-ee2f-e84c-2ef582508806     5\n",
       "ac3fb44c-faf0-509a-d9cb-4151b629fb67     4\n",
       "d19e1977-28af-08d4-192a-ae5b701be053     2\n",
       "                                        ..\n",
       "110ebe42-8147-53ca-034e-71dc45fb0fdb     1\n",
       "7b18c083-794d-4b48-780b-95493f59044a     1\n",
       "65311551-4a2a-225d-afe0-2f074d417c6f     1\n",
       "47df31dd-4ac5-b3a3-6431-3f092240fb8a     1\n",
       "d536577d-9f0b-b581-1107-59986ef00b5d     1\n",
       "Name: ENCOUNTER, Length: 132, dtype: int64"
      ]
     },
     "execution_count": 199,
     "metadata": {},
     "output_type": "execute_result"
    }
   ],
   "source": [
    "imaging_studies[\"ENCOUNTER\"].value_counts()"
   ]
  },
  {
   "attachments": {},
   "cell_type": "markdown",
   "metadata": {},
   "source": [
    "# Immunizations"
   ]
  },
  {
   "cell_type": "code",
   "execution_count": 105,
   "metadata": {},
   "outputs": [
    {
     "data": {
      "text/html": [
       "<div>\n",
       "<style scoped>\n",
       "    .dataframe tbody tr th:only-of-type {\n",
       "        vertical-align: middle;\n",
       "    }\n",
       "\n",
       "    .dataframe tbody tr th {\n",
       "        vertical-align: top;\n",
       "    }\n",
       "\n",
       "    .dataframe thead th {\n",
       "        text-align: right;\n",
       "    }\n",
       "</style>\n",
       "<table border=\"1\" class=\"dataframe\">\n",
       "  <thead>\n",
       "    <tr style=\"text-align: right;\">\n",
       "      <th></th>\n",
       "      <th>DATE</th>\n",
       "      <th>PATIENT</th>\n",
       "      <th>ENCOUNTER</th>\n",
       "      <th>CODE</th>\n",
       "      <th>DESCRIPTION</th>\n",
       "      <th>BASE_COST</th>\n",
       "    </tr>\n",
       "  </thead>\n",
       "  <tbody>\n",
       "    <tr>\n",
       "      <th>0</th>\n",
       "      <td>2022-02-17T05:45:41Z</td>\n",
       "      <td>0b0fefd8-ba9a-b401-5924-8c6ea36a8568</td>\n",
       "      <td>cf6058a1-d657-c29c-d424-4801c592eaf8</td>\n",
       "      <td>8</td>\n",
       "      <td>Hep B  adolescent or pediatric</td>\n",
       "      <td>136.0</td>\n",
       "    </tr>\n",
       "    <tr>\n",
       "      <th>1</th>\n",
       "      <td>2022-03-24T05:45:41Z</td>\n",
       "      <td>0b0fefd8-ba9a-b401-5924-8c6ea36a8568</td>\n",
       "      <td>9f4685e7-0424-aabe-bcaa-b2cf98bf5b0e</td>\n",
       "      <td>8</td>\n",
       "      <td>Hep B  adolescent or pediatric</td>\n",
       "      <td>136.0</td>\n",
       "    </tr>\n",
       "    <tr>\n",
       "      <th>2</th>\n",
       "      <td>2015-12-07T08:29:09Z</td>\n",
       "      <td>e21a6d28-3d43-24eb-72cd-02393a4e38a4</td>\n",
       "      <td>6b9fd2cd-bc11-2f9c-d223-d57310b12ef8</td>\n",
       "      <td>8</td>\n",
       "      <td>Hep B  adolescent or pediatric</td>\n",
       "      <td>136.0</td>\n",
       "    </tr>\n",
       "  </tbody>\n",
       "</table>\n",
       "</div>"
      ],
      "text/plain": [
       "                   DATE                               PATIENT  \\\n",
       "0  2022-02-17T05:45:41Z  0b0fefd8-ba9a-b401-5924-8c6ea36a8568   \n",
       "1  2022-03-24T05:45:41Z  0b0fefd8-ba9a-b401-5924-8c6ea36a8568   \n",
       "2  2015-12-07T08:29:09Z  e21a6d28-3d43-24eb-72cd-02393a4e38a4   \n",
       "\n",
       "                              ENCOUNTER  CODE                     DESCRIPTION  \\\n",
       "0  cf6058a1-d657-c29c-d424-4801c592eaf8     8  Hep B  adolescent or pediatric   \n",
       "1  9f4685e7-0424-aabe-bcaa-b2cf98bf5b0e     8  Hep B  adolescent or pediatric   \n",
       "2  6b9fd2cd-bc11-2f9c-d223-d57310b12ef8     8  Hep B  adolescent or pediatric   \n",
       "\n",
       "   BASE_COST  \n",
       "0      136.0  \n",
       "1      136.0  \n",
       "2      136.0  "
      ]
     },
     "execution_count": 105,
     "metadata": {},
     "output_type": "execute_result"
    }
   ],
   "source": [
    "immunizations.head(3)"
   ]
  },
  {
   "cell_type": "code",
   "execution_count": 106,
   "metadata": {},
   "outputs": [
    {
     "name": "stdout",
     "output_type": "stream",
     "text": [
      "<class 'pandas.core.frame.DataFrame'>\n",
      "RangeIndex: 6373 entries, 0 to 6372\n",
      "Data columns (total 6 columns):\n",
      " #   Column       Non-Null Count  Dtype  \n",
      "---  ------       --------------  -----  \n",
      " 0   DATE         6373 non-null   object \n",
      " 1   PATIENT      6373 non-null   object \n",
      " 2   ENCOUNTER    6373 non-null   object \n",
      " 3   CODE         6373 non-null   int64  \n",
      " 4   DESCRIPTION  6373 non-null   object \n",
      " 5   BASE_COST    6373 non-null   float64\n",
      "dtypes: float64(1), int64(1), object(4)\n",
      "memory usage: 298.9+ KB\n"
     ]
    }
   ],
   "source": [
    "immunizations.info()"
   ]
  },
  {
   "cell_type": "code",
   "execution_count": 107,
   "metadata": {},
   "outputs": [
    {
     "data": {
      "text/plain": [
       "DATE           4450\n",
       "PATIENT         123\n",
       "ENCOUNTER      4898\n",
       "CODE             21\n",
       "DESCRIPTION      21\n",
       "BASE_COST         1\n",
       "dtype: int64"
      ]
     },
     "execution_count": 107,
     "metadata": {},
     "output_type": "execute_result"
    }
   ],
   "source": [
    "immunizations.nunique()"
   ]
  },
  {
   "cell_type": "code",
   "execution_count": 108,
   "metadata": {},
   "outputs": [
    {
     "data": {
      "text/plain": [
       "140    4298\n",
       "10      367\n",
       "113     226\n",
       "49      176\n",
       "20      175\n",
       "8       159\n",
       "3       131\n",
       "43       99\n",
       "21       96\n",
       "133      88\n",
       "52       76\n",
       "114      73\n",
       "207      70\n",
       "83       69\n",
       "62       64\n",
       "121      56\n",
       "119      52\n",
       "208      50\n",
       "33       22\n",
       "115      22\n",
       "212       4\n",
       "Name: CODE, dtype: int64"
      ]
     },
     "execution_count": 108,
     "metadata": {},
     "output_type": "execute_result"
    }
   ],
   "source": [
    "immunizations[\"CODE\"].value_counts()"
   ]
  },
  {
   "cell_type": "code",
   "execution_count": 184,
   "metadata": {},
   "outputs": [
    {
     "data": {
      "text/plain": [
       "Influenza  seasonal  injectable  preservative free                                                                  4298\n",
       "IPV                                                                                                                  367\n",
       "Td (adult)  5 Lf tetanus toxoid  preservative free  adsorbed                                                         226\n",
       "Hib (PRP-OMP)                                                                                                        176\n",
       "DTaP                                                                                                                 175\n",
       "Hep B  adolescent or pediatric                                                                                       159\n",
       "MMR                                                                                                                  131\n",
       "Hep B  adult                                                                                                          99\n",
       "varicella                                                                                                             96\n",
       "Pneumococcal conjugate PCV 13                                                                                         88\n",
       "Hep A  adult                                                                                                          76\n",
       "meningococcal MCV4P                                                                                                   73\n",
       "SARS-COV-2 (COVID-19) vaccine  mRNA  spike protein  LNP  preservative free  100 mcg/0.5mL dose                        70\n",
       "Hep A  ped/adol  2 dose                                                                                               69\n",
       "HPV  quadrivalent                                                                                                     64\n",
       "zoster vaccine  live                                                                                                  56\n",
       "rotavirus  monovalent                                                                                                 52\n",
       "SARS-COV-2 (COVID-19) vaccine  mRNA  spike protein  LNP  preservative free  30 mcg/0.3mL dose                         50\n",
       "Tdap                                                                                                                  22\n",
       "pneumococcal polysaccharide vaccine  23 valent                                                                        22\n",
       "SARS-COV-2 (COVID-19) vaccine  vector non-replicating  recombinant spike protein-Ad26  preservative free  0.5 mL       4\n",
       "Name: DESCRIPTION, dtype: int64"
      ]
     },
     "execution_count": 184,
     "metadata": {},
     "output_type": "execute_result"
    }
   ],
   "source": [
    "immunizations[\"DESCRIPTION\"].value_counts()"
   ]
  },
  {
   "cell_type": "code",
   "execution_count": 186,
   "metadata": {},
   "outputs": [
    {
     "data": {
      "text/plain": [
       "136.0    6373\n",
       "Name: BASE_COST, dtype: int64"
      ]
     },
     "execution_count": 186,
     "metadata": {},
     "output_type": "execute_result"
    }
   ],
   "source": [
    "immunizations[\"BASE_COST\"].value_counts()"
   ]
  },
  {
   "cell_type": "code",
   "execution_count": 110,
   "metadata": {},
   "outputs": [
    {
     "data": {
      "text/plain": [
       "a01a1717-7a90-d91c-e78d-5d49ff25ea9a    84\n",
       "8060acde-4b13-976b-c3e1-14f3747cea0a    84\n",
       "0dcef9a1-f9d7-cc03-92a1-694757261ce2    80\n",
       "d7058686-b43c-93d9-fb3d-0571af023de6    77\n",
       "babe5c65-9bb5-3dde-315b-138110b8d664    76\n",
       "                                        ..\n",
       "0b0fefd8-ba9a-b401-5924-8c6ea36a8568    17\n",
       "ff72f1ac-ddb8-4481-3371-09cdcc48d3fc    12\n",
       "18c45bb2-9c6d-ace0-41cf-faa2c1707241    11\n",
       "a652df44-d908-5f1e-0c43-c5af9cf06ab6     7\n",
       "eaba1ed7-98cc-a997-ffa6-9d572ae50b69     3\n",
       "Name: PATIENT, Length: 123, dtype: int64"
      ]
     },
     "execution_count": 110,
     "metadata": {},
     "output_type": "execute_result"
    }
   ],
   "source": [
    "immunizations[\"PATIENT\"].value_counts()"
   ]
  },
  {
   "cell_type": "code",
   "execution_count": 111,
   "metadata": {},
   "outputs": [
    {
     "data": {
      "text/plain": [
       "8f857f6d-6155-4130-0911-35283c6d9133    6\n",
       "34c86c84-f366-2a28-b732-ce99895eed9e    5\n",
       "447acb89-512c-a05d-1ca6-f9937854dec3    5\n",
       "7ffbfaa9-265b-ab1c-0ab6-0cbd43275eb6    5\n",
       "5b354311-ae3a-f2ef-890c-24775a6fec11    5\n",
       "                                       ..\n",
       "04d07c7f-9725-528d-a5d6-02c25a1daa18    1\n",
       "6e9c2fd9-17e9-e805-cf1c-171b6fea91fd    1\n",
       "045a282a-cd43-2973-7eef-ebc0331482f9    1\n",
       "12e1813f-5342-438e-32d1-d46f924c9653    1\n",
       "071ef8f0-e8b8-1c87-4faa-c7c57e7cc8ed    1\n",
       "Name: ENCOUNTER, Length: 4898, dtype: int64"
      ]
     },
     "execution_count": 111,
     "metadata": {},
     "output_type": "execute_result"
    }
   ],
   "source": [
    "immunizations[\"ENCOUNTER\"].value_counts()"
   ]
  },
  {
   "attachments": {},
   "cell_type": "markdown",
   "metadata": {},
   "source": [
    "# Medications"
   ]
  },
  {
   "cell_type": "code",
   "execution_count": 28,
   "metadata": {},
   "outputs": [
    {
     "data": {
      "text/html": [
       "<div>\n",
       "<style scoped>\n",
       "    .dataframe tbody tr th:only-of-type {\n",
       "        vertical-align: middle;\n",
       "    }\n",
       "\n",
       "    .dataframe tbody tr th {\n",
       "        vertical-align: top;\n",
       "    }\n",
       "\n",
       "    .dataframe thead th {\n",
       "        text-align: right;\n",
       "    }\n",
       "</style>\n",
       "<table border=\"1\" class=\"dataframe\">\n",
       "  <thead>\n",
       "    <tr style=\"text-align: right;\">\n",
       "      <th></th>\n",
       "      <th>START</th>\n",
       "      <th>STOP</th>\n",
       "      <th>PATIENT</th>\n",
       "      <th>PAYER</th>\n",
       "      <th>ENCOUNTER</th>\n",
       "      <th>CODE</th>\n",
       "      <th>DESCRIPTION</th>\n",
       "      <th>BASE_COST</th>\n",
       "      <th>PAYER_COVERAGE</th>\n",
       "      <th>DISPENSES</th>\n",
       "      <th>TOTALCOST</th>\n",
       "      <th>REASONCODE</th>\n",
       "      <th>REASONDESCRIPTION</th>\n",
       "    </tr>\n",
       "  </thead>\n",
       "  <tbody>\n",
       "    <tr>\n",
       "      <th>0</th>\n",
       "      <td>2018-10-22T08:29:09Z</td>\n",
       "      <td>2018-11-05T08:29:09Z</td>\n",
       "      <td>e21a6d28-3d43-24eb-72cd-02393a4e38a4</td>\n",
       "      <td>0133f751-9229-3cfd-815f-b6d4979bdd6a</td>\n",
       "      <td>80f95516-2b94-4289-ff84-c7f5ef13168b</td>\n",
       "      <td>308192</td>\n",
       "      <td>Amoxicillin 500 MG Oral Tablet</td>\n",
       "      <td>186.84</td>\n",
       "      <td>0.0</td>\n",
       "      <td>1</td>\n",
       "      <td>186.84</td>\n",
       "      <td>NaN</td>\n",
       "      <td>NaN</td>\n",
       "    </tr>\n",
       "    <tr>\n",
       "      <th>1</th>\n",
       "      <td>2018-10-22T08:29:09Z</td>\n",
       "      <td>2018-11-05T08:29:09Z</td>\n",
       "      <td>e21a6d28-3d43-24eb-72cd-02393a4e38a4</td>\n",
       "      <td>0133f751-9229-3cfd-815f-b6d4979bdd6a</td>\n",
       "      <td>80f95516-2b94-4289-ff84-c7f5ef13168b</td>\n",
       "      <td>198405</td>\n",
       "      <td>Ibuprofen 100 MG Oral Tablet</td>\n",
       "      <td>148.86</td>\n",
       "      <td>0.0</td>\n",
       "      <td>1</td>\n",
       "      <td>148.86</td>\n",
       "      <td>NaN</td>\n",
       "      <td>NaN</td>\n",
       "    </tr>\n",
       "    <tr>\n",
       "      <th>2</th>\n",
       "      <td>2020-11-01T08:29:09Z</td>\n",
       "      <td>2020-11-15T08:29:09Z</td>\n",
       "      <td>e21a6d28-3d43-24eb-72cd-02393a4e38a4</td>\n",
       "      <td>0133f751-9229-3cfd-815f-b6d4979bdd6a</td>\n",
       "      <td>da55f12d-777c-77e6-beff-12bc067d52b0</td>\n",
       "      <td>308192</td>\n",
       "      <td>Amoxicillin 500 MG Oral Tablet</td>\n",
       "      <td>189.33</td>\n",
       "      <td>0.0</td>\n",
       "      <td>1</td>\n",
       "      <td>189.33</td>\n",
       "      <td>NaN</td>\n",
       "      <td>NaN</td>\n",
       "    </tr>\n",
       "  </tbody>\n",
       "</table>\n",
       "</div>"
      ],
      "text/plain": [
       "                  START                  STOP  \\\n",
       "0  2018-10-22T08:29:09Z  2018-11-05T08:29:09Z   \n",
       "1  2018-10-22T08:29:09Z  2018-11-05T08:29:09Z   \n",
       "2  2020-11-01T08:29:09Z  2020-11-15T08:29:09Z   \n",
       "\n",
       "                                PATIENT                                 PAYER  \\\n",
       "0  e21a6d28-3d43-24eb-72cd-02393a4e38a4  0133f751-9229-3cfd-815f-b6d4979bdd6a   \n",
       "1  e21a6d28-3d43-24eb-72cd-02393a4e38a4  0133f751-9229-3cfd-815f-b6d4979bdd6a   \n",
       "2  e21a6d28-3d43-24eb-72cd-02393a4e38a4  0133f751-9229-3cfd-815f-b6d4979bdd6a   \n",
       "\n",
       "                              ENCOUNTER    CODE  \\\n",
       "0  80f95516-2b94-4289-ff84-c7f5ef13168b  308192   \n",
       "1  80f95516-2b94-4289-ff84-c7f5ef13168b  198405   \n",
       "2  da55f12d-777c-77e6-beff-12bc067d52b0  308192   \n",
       "\n",
       "                      DESCRIPTION  BASE_COST  PAYER_COVERAGE  DISPENSES  \\\n",
       "0  Amoxicillin 500 MG Oral Tablet     186.84             0.0          1   \n",
       "1    Ibuprofen 100 MG Oral Tablet     148.86             0.0          1   \n",
       "2  Amoxicillin 500 MG Oral Tablet     189.33             0.0          1   \n",
       "\n",
       "   TOTALCOST  REASONCODE REASONDESCRIPTION  \n",
       "0     186.84         NaN               NaN  \n",
       "1     148.86         NaN               NaN  \n",
       "2     189.33         NaN               NaN  "
      ]
     },
     "execution_count": 28,
     "metadata": {},
     "output_type": "execute_result"
    }
   ],
   "source": [
    "medications.head(3)"
   ]
  },
  {
   "cell_type": "code",
   "execution_count": 22,
   "metadata": {},
   "outputs": [
    {
     "name": "stdout",
     "output_type": "stream",
     "text": [
      "<class 'pandas.core.frame.DataFrame'>\n",
      "RangeIndex: 15514 entries, 0 to 15513\n",
      "Data columns (total 13 columns):\n",
      " #   Column             Non-Null Count  Dtype  \n",
      "---  ------             --------------  -----  \n",
      " 0   START              15514 non-null  object \n",
      " 1   STOP               15146 non-null  object \n",
      " 2   PATIENT            15514 non-null  object \n",
      " 3   PAYER              15514 non-null  object \n",
      " 4   ENCOUNTER          15514 non-null  object \n",
      " 5   CODE               15514 non-null  int64  \n",
      " 6   DESCRIPTION        15514 non-null  object \n",
      " 7   BASE_COST          15514 non-null  float64\n",
      " 8   PAYER_COVERAGE     15514 non-null  float64\n",
      " 9   DISPENSES          15514 non-null  int64  \n",
      " 10  TOTALCOST          15514 non-null  float64\n",
      " 11  REASONCODE         13732 non-null  float64\n",
      " 12  REASONDESCRIPTION  13732 non-null  object \n",
      "dtypes: float64(4), int64(2), object(7)\n",
      "memory usage: 1.5+ MB\n"
     ]
    }
   ],
   "source": [
    "medications.info()"
   ]
  },
  {
   "cell_type": "code",
   "execution_count": 26,
   "metadata": {},
   "outputs": [
    {
     "data": {
      "text/plain": [
       "START                8361\n",
       "STOP                 8201\n",
       "PATIENT               116\n",
       "PAYER                  10\n",
       "ENCOUNTER            8295\n",
       "CODE                  162\n",
       "DESCRIPTION           166\n",
       "BASE_COST            5333\n",
       "PAYER_COVERAGE       3502\n",
       "DISPENSES             104\n",
       "TOTALCOST            5603\n",
       "REASONCODE             37\n",
       "REASONDESCRIPTION      37\n",
       "dtype: int64"
      ]
     },
     "execution_count": 26,
     "metadata": {},
     "output_type": "execute_result"
    }
   ],
   "source": [
    "medications.nunique()"
   ]
  },
  {
   "cell_type": "code",
   "execution_count": 27,
   "metadata": {},
   "outputs": [
    {
     "data": {
      "text/plain": [
       "314076     2217\n",
       "310798     2179\n",
       "205923     2101\n",
       "308136     1801\n",
       "860975     1613\n",
       "           ... \n",
       "1049630       1\n",
       "1946840       1\n",
       "197886        1\n",
       "1649987       1\n",
       "309845        1\n",
       "Name: CODE, Length: 162, dtype: int64"
      ]
     },
     "execution_count": 27,
     "metadata": {},
     "output_type": "execute_result"
    }
   ],
   "source": [
    "medications[\"CODE\"].value_counts()"
   ]
  },
  {
   "cell_type": "code",
   "execution_count": 101,
   "metadata": {},
   "outputs": [
    {
     "data": {
      "text/plain": [
       "lisinopril 10 MG Oral Tablet                                         2217\n",
       "Hydrochlorothiazide 25 MG Oral Tablet                                2179\n",
       "1 ML Epoetin Alfa 4000 UNT/ML Injection [Epogen]                     2101\n",
       "amLODIPine 2.5 MG Oral Tablet                                        1801\n",
       "24 HR Metformin hydrochloride 500 MG Extended Release Oral Tablet    1613\n",
       "                                                                     ... \n",
       "NITROFURANTOIN  MACROCRYSTALS 50 MG Oral Capsule                        1\n",
       "Diazepam 5 MG/ML Injectable Solution                                    1\n",
       "10 ML Pamidronate Disodium 3 MG/ML Injection                            1\n",
       "rosuvastatin calcium 10 MG Oral Tablet                                  1\n",
       "lisinopril 5 MG Oral Tablet                                             1\n",
       "Name: DESCRIPTION, Length: 166, dtype: int64"
      ]
     },
     "execution_count": 101,
     "metadata": {},
     "output_type": "execute_result"
    }
   ],
   "source": [
    "medications[\"DESCRIPTION\"].value_counts()"
   ]
  },
  {
   "cell_type": "code",
   "execution_count": 200,
   "metadata": {},
   "outputs": [
    {
     "data": {
      "text/plain": [
       "0.91      2241\n",
       "129.94    1377\n",
       "0.48        98\n",
       "0.50        94\n",
       "0.47        92\n",
       "          ... \n",
       "342.49       1\n",
       "18.86        1\n",
       "473.52       1\n",
       "6.35         1\n",
       "6.36         1\n",
       "Name: BASE_COST, Length: 5333, dtype: int64"
      ]
     },
     "execution_count": 200,
     "metadata": {},
     "output_type": "execute_result"
    }
   ],
   "source": [
    "medications[\"BASE_COST\"].value_counts()"
   ]
  },
  {
   "cell_type": "code",
   "execution_count": 202,
   "metadata": {},
   "outputs": [
    {
     "data": {
      "text/plain": [
       "0.00      7375\n",
       "0.73       903\n",
       "103.95     344\n",
       "99.94      289\n",
       "0.38        73\n",
       "          ... \n",
       "363.54       1\n",
       "30.62        1\n",
       "460.68       1\n",
       "77.33        1\n",
       "282.82       1\n",
       "Name: PAYER_COVERAGE, Length: 3502, dtype: int64"
      ]
     },
     "execution_count": 202,
     "metadata": {},
     "output_type": "execute_result"
    }
   ],
   "source": [
    "medications[\"PAYER_COVERAGE\"].value_counts()"
   ]
  },
  {
   "cell_type": "code",
   "execution_count": 203,
   "metadata": {},
   "outputs": [
    {
     "data": {
      "text/plain": [
       "1      11621\n",
       "4       1503\n",
       "12       877\n",
       "3        655\n",
       "2        487\n",
       "       ...  \n",
       "194        1\n",
       "186        1\n",
       "178        1\n",
       "138        1\n",
       "331        1\n",
       "Name: DISPENSES, Length: 104, dtype: int64"
      ]
     },
     "execution_count": 203,
     "metadata": {},
     "output_type": "execute_result"
    }
   ],
   "source": [
    "medications[\"DISPENSES\"].value_counts()"
   ]
  },
  {
   "cell_type": "code",
   "execution_count": 205,
   "metadata": {},
   "outputs": [
    {
     "data": {
      "text/plain": [
       "0.91      1659\n",
       "129.94     976\n",
       "3.64       431\n",
       "389.82     279\n",
       "1.82        93\n",
       "          ... \n",
       "33.64        1\n",
       "240.15       1\n",
       "403.84       1\n",
       "299.33       1\n",
       "209.34       1\n",
       "Name: TOTALCOST, Length: 5603, dtype: int64"
      ]
     },
     "execution_count": 205,
     "metadata": {},
     "output_type": "execute_result"
    }
   ],
   "source": [
    "medications[\"TOTALCOST\"].value_counts()"
   ]
  },
  {
   "cell_type": "code",
   "execution_count": 102,
   "metadata": {},
   "outputs": [
    {
     "data": {
      "text/plain": [
       "59621000.0     6195\n",
       "271737000.0    2101\n",
       "44054006.0     1822\n",
       "15777000.0     1377\n",
       "233678006.0     626\n",
       "10509002.0      302\n",
       "161665007.0     233\n",
       "185086009.0     162\n",
       "55822004.0      126\n",
       "444814009.0     121\n",
       "49436004.0      111\n",
       "43878008.0       99\n",
       "195967001.0      92\n",
       "88805009.0       69\n",
       "87433001.0       36\n",
       "109838007.0      36\n",
       "363406005.0      36\n",
       "64859006.0       31\n",
       "301011002.0      27\n",
       "254837009.0      21\n",
       "38822007.0       20\n",
       "128613002.0      13\n",
       "36971009.0       11\n",
       "126906006.0      10\n",
       "698306007.0       9\n",
       "195662009.0       7\n",
       "91302008.0        6\n",
       "239873007.0       6\n",
       "201834006.0       4\n",
       "24079001.0        4\n",
       "75498004.0        4\n",
       "192127007.0       4\n",
       "26929004.0        3\n",
       "239872002.0       2\n",
       "47505003.0        2\n",
       "69896004.0        2\n",
       "230265002.0       2\n",
       "Name: REASONCODE, dtype: int64"
      ]
     },
     "execution_count": 102,
     "metadata": {},
     "output_type": "execute_result"
    }
   ],
   "source": [
    "medications[\"REASONCODE\"].value_counts()"
   ]
  },
  {
   "cell_type": "code",
   "execution_count": 103,
   "metadata": {},
   "outputs": [
    {
     "data": {
      "text/plain": [
       "Essential hypertension (disorder)                         6195\n",
       "Anemia (disorder)                                         2101\n",
       "Diabetes mellitus type 2 (disorder)                       1822\n",
       "Prediabetes                                               1377\n",
       "Childhood asthma                                           626\n",
       "Acute bronchitis (disorder)                                302\n",
       "History of renal transplant (situation)                    233\n",
       "Chronic obstructive bronchitis (disorder)                  162\n",
       "Hyperlipidemia                                             126\n",
       "Viral sinusitis (disorder)                                 121\n",
       "Atrial fibrillation (disorder)                             111\n",
       "Streptococcal sore throat (disorder)                        99\n",
       "Asthma                                                      92\n",
       "Chronic congestive heart failure (disorder)                 69\n",
       "Overlapping malignant neoplasm of colon                     36\n",
       "Malignant tumor of colon                                    36\n",
       "Pulmonary emphysema (disorder)                              36\n",
       "Osteoporosis (disorder)                                     31\n",
       "Escherichia coli urinary tract infection                    27\n",
       "Malignant neoplasm of breast (disorder)                     21\n",
       "Cystitis                                                    20\n",
       "Seizure disorder                                            13\n",
       "Sinusitis (disorder)                                        11\n",
       "Neoplasm of prostate                                        10\n",
       "Awaiting transplantation of kidney (situation)               9\n",
       "Acute viral pharyngitis (disorder)                           7\n",
       "Sepsis (disorder)                                            6\n",
       "Osteoarthritis of knee                                       6\n",
       "Atopic dermatitis                                            4\n",
       "Acute bacterial sinusitis (disorder)                         4\n",
       "Child attention deficit disorder                             4\n",
       "Localized  primary osteoarthritis of the hand                4\n",
       "Alzheimer's disease (disorder)                               3\n",
       "Rheumatoid arthritis                                         2\n",
       "Posttraumatic stress disorder                                2\n",
       "Osteoarthritis of hip                                        2\n",
       "Familial Alzheimer's disease of early onset (disorder)       2\n",
       "Name: REASONDESCRIPTION, dtype: int64"
      ]
     },
     "execution_count": 103,
     "metadata": {},
     "output_type": "execute_result"
    }
   ],
   "source": [
    "medications[\"REASONDESCRIPTION\"].value_counts()"
   ]
  },
  {
   "cell_type": "code",
   "execution_count": 104,
   "metadata": {},
   "outputs": [
    {
     "data": {
      "text/plain": [
       "e201efe2-198e-ceab-0038-41ecd9a68fd0    3231\n",
       "31651bd8-1a95-3206-41ef-4ccf5b2d0461    1366\n",
       "a01a1717-7a90-d91c-e78d-5d49ff25ea9a    1164\n",
       "8060acde-4b13-976b-c3e1-14f3747cea0a     827\n",
       "5d4f915d-9dcd-485c-1dc8-bea871dc2304     821\n",
       "                                        ... \n",
       "3c2401c2-7d08-5c22-eb55-733f19ac556d       2\n",
       "f78e216e-9993-3fe5-4c67-6272f6e0b151       2\n",
       "9ce6cc92-61a2-3cf9-5c61-1577aba2fda9       2\n",
       "a7f45e15-51a1-1c17-b916-287750ffdafa       1\n",
       "49fdc425-ccb7-3209-881a-767809d86745       1\n",
       "Name: PATIENT, Length: 116, dtype: int64"
      ]
     },
     "execution_count": 104,
     "metadata": {},
     "output_type": "execute_result"
    }
   ],
   "source": [
    "medications[\"PATIENT\"].value_counts()"
   ]
  },
  {
   "cell_type": "code",
   "execution_count": 206,
   "metadata": {},
   "outputs": [
    {
     "data": {
      "text/plain": [
       "a735bf55-83e9-331a-899d-a82a60b9f60c    7308\n",
       "0133f751-9229-3cfd-815f-b6d4979bdd6a    1618\n",
       "b1c428d6-4f07-31e0-90f0-68ffa6ff8c76    1557\n",
       "26aab0cd-6aba-3e1b-ac5b-05c8867e762c    1271\n",
       "8fa6c185-e44e-3e34-8bd8-39be8694f4ce    1030\n",
       "b046940f-1664-3047-bca7-dfa76be352a4     998\n",
       "734afbd6-4794-363b-9bc0-6a3981533ed5     654\n",
       "d31fccc3-1767-390d-966a-22a5156f4219     539\n",
       "df166300-5a78-3502-a46a-832842197811     489\n",
       "d18ef2e6-ef40-324c-be54-34a5ee865625      50\n",
       "Name: PAYER, dtype: int64"
      ]
     },
     "execution_count": 206,
     "metadata": {},
     "output_type": "execute_result"
    }
   ],
   "source": [
    "medications[\"PAYER\"].value_counts()"
   ]
  },
  {
   "cell_type": "code",
   "execution_count": 30,
   "metadata": {},
   "outputs": [
    {
     "data": {
      "text/plain": [
       "a4402cad-7fd7-6955-8448-e33d097f5291    26\n",
       "fc974ccd-b672-8c17-b671-1a4d881fdba8    14\n",
       "e607b032-863d-10fd-99d3-36a48515a29d    14\n",
       "607e01d9-54c7-6c48-1916-58f9f27c6e99    13\n",
       "b8285b40-7847-d5a1-af93-77912214a9d4    12\n",
       "                                        ..\n",
       "ae3d8f91-7181-b1f9-e1df-11021801431b     1\n",
       "580ec54d-10fc-3e0b-2e33-d0d21d18b582     1\n",
       "5616c514-6e45-b7f2-528b-bd2398f6fdf7     1\n",
       "57ba4234-dacb-dfb7-751d-8740842f8436     1\n",
       "4227174d-7efa-a4e1-c7da-5b003f89a52f     1\n",
       "Name: ENCOUNTER, Length: 8295, dtype: int64"
      ]
     },
     "execution_count": 30,
     "metadata": {},
     "output_type": "execute_result"
    }
   ],
   "source": [
    "medications[\"ENCOUNTER\"].value_counts()"
   ]
  },
  {
   "attachments": {},
   "cell_type": "markdown",
   "metadata": {},
   "source": [
    "# Observations"
   ]
  },
  {
   "cell_type": "code",
   "execution_count": 32,
   "metadata": {},
   "outputs": [
    {
     "data": {
      "text/html": [
       "<div>\n",
       "<style scoped>\n",
       "    .dataframe tbody tr th:only-of-type {\n",
       "        vertical-align: middle;\n",
       "    }\n",
       "\n",
       "    .dataframe tbody tr th {\n",
       "        vertical-align: top;\n",
       "    }\n",
       "\n",
       "    .dataframe thead th {\n",
       "        text-align: right;\n",
       "    }\n",
       "</style>\n",
       "<table border=\"1\" class=\"dataframe\">\n",
       "  <thead>\n",
       "    <tr style=\"text-align: right;\">\n",
       "      <th></th>\n",
       "      <th>DATE</th>\n",
       "      <th>PATIENT</th>\n",
       "      <th>ENCOUNTER</th>\n",
       "      <th>CATEGORY</th>\n",
       "      <th>CODE</th>\n",
       "      <th>DESCRIPTION</th>\n",
       "      <th>VALUE</th>\n",
       "      <th>UNITS</th>\n",
       "      <th>TYPE</th>\n",
       "    </tr>\n",
       "  </thead>\n",
       "  <tbody>\n",
       "    <tr>\n",
       "      <th>0</th>\n",
       "      <td>2022-02-17T05:45:41Z</td>\n",
       "      <td>0b0fefd8-ba9a-b401-5924-8c6ea36a8568</td>\n",
       "      <td>cf6058a1-d657-c29c-d424-4801c592eaf8</td>\n",
       "      <td>vital-signs</td>\n",
       "      <td>8302-2</td>\n",
       "      <td>Body Height</td>\n",
       "      <td>51.2</td>\n",
       "      <td>cm</td>\n",
       "      <td>numeric</td>\n",
       "    </tr>\n",
       "    <tr>\n",
       "      <th>1</th>\n",
       "      <td>2022-02-17T05:45:41Z</td>\n",
       "      <td>0b0fefd8-ba9a-b401-5924-8c6ea36a8568</td>\n",
       "      <td>cf6058a1-d657-c29c-d424-4801c592eaf8</td>\n",
       "      <td>vital-signs</td>\n",
       "      <td>72514-3</td>\n",
       "      <td>Pain severity - 0-10 verbal numeric rating [Sc...</td>\n",
       "      <td>3.0</td>\n",
       "      <td>{score}</td>\n",
       "      <td>numeric</td>\n",
       "    </tr>\n",
       "    <tr>\n",
       "      <th>2</th>\n",
       "      <td>2022-02-17T05:45:41Z</td>\n",
       "      <td>0b0fefd8-ba9a-b401-5924-8c6ea36a8568</td>\n",
       "      <td>cf6058a1-d657-c29c-d424-4801c592eaf8</td>\n",
       "      <td>vital-signs</td>\n",
       "      <td>29463-7</td>\n",
       "      <td>Body Weight</td>\n",
       "      <td>3.2</td>\n",
       "      <td>kg</td>\n",
       "      <td>numeric</td>\n",
       "    </tr>\n",
       "  </tbody>\n",
       "</table>\n",
       "</div>"
      ],
      "text/plain": [
       "                   DATE                               PATIENT  \\\n",
       "0  2022-02-17T05:45:41Z  0b0fefd8-ba9a-b401-5924-8c6ea36a8568   \n",
       "1  2022-02-17T05:45:41Z  0b0fefd8-ba9a-b401-5924-8c6ea36a8568   \n",
       "2  2022-02-17T05:45:41Z  0b0fefd8-ba9a-b401-5924-8c6ea36a8568   \n",
       "\n",
       "                              ENCOUNTER     CATEGORY     CODE  \\\n",
       "0  cf6058a1-d657-c29c-d424-4801c592eaf8  vital-signs   8302-2   \n",
       "1  cf6058a1-d657-c29c-d424-4801c592eaf8  vital-signs  72514-3   \n",
       "2  cf6058a1-d657-c29c-d424-4801c592eaf8  vital-signs  29463-7   \n",
       "\n",
       "                                         DESCRIPTION VALUE    UNITS     TYPE  \n",
       "0                                        Body Height  51.2       cm  numeric  \n",
       "1  Pain severity - 0-10 verbal numeric rating [Sc...   3.0  {score}  numeric  \n",
       "2                                        Body Weight   3.2       kg  numeric  "
      ]
     },
     "execution_count": 32,
     "metadata": {},
     "output_type": "execute_result"
    }
   ],
   "source": [
    "observations.head(3)"
   ]
  },
  {
   "cell_type": "code",
   "execution_count": 31,
   "metadata": {},
   "outputs": [
    {
     "name": "stdout",
     "output_type": "stream",
     "text": [
      "<class 'pandas.core.frame.DataFrame'>\n",
      "RangeIndex: 347970 entries, 0 to 347969\n",
      "Data columns (total 9 columns):\n",
      " #   Column       Non-Null Count   Dtype \n",
      "---  ------       --------------   ----- \n",
      " 0   DATE         347970 non-null  object\n",
      " 1   PATIENT      347970 non-null  object\n",
      " 2   ENCOUNTER    331551 non-null  object\n",
      " 3   CATEGORY     331551 non-null  object\n",
      " 4   CODE         347970 non-null  object\n",
      " 5   DESCRIPTION  347970 non-null  object\n",
      " 6   VALUE        347970 non-null  object\n",
      " 7   UNITS        255742 non-null  object\n",
      " 8   TYPE         347970 non-null  object\n",
      "dtypes: object(9)\n",
      "memory usage: 23.9+ MB\n"
     ]
    }
   ],
   "source": [
    "observations.info()"
   ]
  },
  {
   "cell_type": "code",
   "execution_count": 33,
   "metadata": {},
   "outputs": [
    {
     "data": {
      "text/plain": [
       "DATE           32803\n",
       "PATIENT          123\n",
       "ENCOUNTER      14176\n",
       "CATEGORY           8\n",
       "CODE             233\n",
       "DESCRIPTION      251\n",
       "VALUE           4740\n",
       "UNITS             45\n",
       "TYPE               2\n",
       "dtype: int64"
      ]
     },
     "execution_count": 33,
     "metadata": {},
     "output_type": "execute_result"
    }
   ],
   "source": [
    "observations.nunique()"
   ]
  },
  {
   "cell_type": "code",
   "execution_count": 207,
   "metadata": {},
   "outputs": [
    {
     "data": {
      "text/plain": [
       "laboratory        146783\n",
       "survey            100488\n",
       "vital-signs        76090\n",
       "social-history      7940\n",
       "procedure            149\n",
       "exam                  80\n",
       "imaging               11\n",
       "therapy               10\n",
       "Name: CATEGORY, dtype: int64"
      ]
     },
     "execution_count": 207,
     "metadata": {},
     "output_type": "execute_result"
    }
   ],
   "source": [
    "observations[\"CATEGORY\"].value_counts()"
   ]
  },
  {
   "cell_type": "code",
   "execution_count": 210,
   "metadata": {},
   "outputs": [
    {
     "data": {
      "text/plain": [
       "72514-3    11493\n",
       "8462-4      7962\n",
       "8480-6      7962\n",
       "29463-7     7711\n",
       "8302-2      7668\n",
       "           ...  \n",
       "85343-2        1\n",
       "92138-7        1\n",
       "92130-4        1\n",
       "80271-0        1\n",
       "92131-2        1\n",
       "Name: CODE, Length: 233, dtype: int64"
      ]
     },
     "execution_count": 210,
     "metadata": {},
     "output_type": "execute_result"
    }
   ],
   "source": [
    "observations[\"CODE\"].value_counts()"
   ]
  },
  {
   "cell_type": "code",
   "execution_count": 212,
   "metadata": {},
   "outputs": [
    {
     "data": {
      "text/plain": [
       "Pain severity - 0-10 verbal numeric rating [Score] - Reported    11493\n",
       "Diastolic Blood Pressure                                          7962\n",
       "Systolic Blood Pressure                                           7962\n",
       "Body Weight                                                       7711\n",
       "Body Height                                                       7668\n",
       "                                                                 ...  \n",
       "MCV                                                                  1\n",
       "Globulin                                                             1\n",
       "Platelet Count                                                       1\n",
       "Hematocrit                                                           1\n",
       "Mental health Telehealth Note                                        1\n",
       "Name: DESCRIPTION, Length: 251, dtype: int64"
      ]
     },
     "execution_count": 212,
     "metadata": {},
     "output_type": "execute_result"
    }
   ],
   "source": [
    "observations[\"DESCRIPTION\"].value_counts()"
   ]
  },
  {
   "cell_type": "code",
   "execution_count": 214,
   "metadata": {},
   "outputs": [
    {
     "data": {
      "text/plain": [
       "No       30222\n",
       "1.0      13172\n",
       "Yes       7893\n",
       "0.0       7274\n",
       "2.0       6411\n",
       "         ...  \n",
       "411.3        1\n",
       "235.3        1\n",
       "403.6        1\n",
       "449.9        1\n",
       "498.7        1\n",
       "Name: VALUE, Length: 4740, dtype: int64"
      ]
     },
     "execution_count": 214,
     "metadata": {},
     "output_type": "execute_result"
    }
   ],
   "source": [
    "observations[\"VALUE\"].value_counts()"
   ]
  },
  {
   "cell_type": "code",
   "execution_count": 213,
   "metadata": {},
   "outputs": [
    {
     "data": {
      "text/plain": [
       "mg/dL               47239\n",
       "{nominal}           36688\n",
       "{score}             27638\n",
       "mmol/L              25063\n",
       "mm[Hg]              16109\n",
       "/min                15218\n",
       "kg                  11434\n",
       "a                   10946\n",
       "%                   10879\n",
       "cm                   9315\n",
       "kg/m2                6533\n",
       "{#}                  5355\n",
       "fL                   5121\n",
       "/a                   4397\n",
       "g/dL                 4221\n",
       "mL/min/{1.73_m2}     3991\n",
       "pH                   3032\n",
       "10*3/uL              2757\n",
       "U/L                  2208\n",
       "mg/g                 1429\n",
       "10*6/uL              1371\n",
       "pg                   1370\n",
       "mL/min                755\n",
       "g/L                   616\n",
       "Cel                   466\n",
       "kU/L                  435\n",
       "{presence}            371\n",
       "s                     162\n",
       "[pH]                  144\n",
       "pg/mL                  90\n",
       "{INR}                  82\n",
       "ug/dL                  76\n",
       "{count}                56\n",
       "{SG}                   53\n",
       "ug/L                   38\n",
       "ng/mL                  31\n",
       "{T-score}              15\n",
       "mm                     13\n",
       "m[IU]/L                10\n",
       "ng/L                    6\n",
       "[iU]/L                  3\n",
       "ng/dl                   2\n",
       "ratio                   2\n",
       "K/uL                    1\n",
       "[degF]                  1\n",
       "Name: UNITS, dtype: int64"
      ]
     },
     "execution_count": 213,
     "metadata": {},
     "output_type": "execute_result"
    }
   ],
   "source": [
    "observations[\"UNITS\"].value_counts()"
   ]
  },
  {
   "cell_type": "code",
   "execution_count": 38,
   "metadata": {},
   "outputs": [
    {
     "data": {
      "text/plain": [
       "numeric    217622\n",
       "text       130348\n",
       "Name: TYPE, dtype: int64"
      ]
     },
     "execution_count": 38,
     "metadata": {},
     "output_type": "execute_result"
    }
   ],
   "source": [
    "observations[\"TYPE\"].value_counts()"
   ]
  },
  {
   "cell_type": "code",
   "execution_count": 209,
   "metadata": {},
   "outputs": [
    {
     "data": {
      "text/plain": [
       "e201efe2-198e-ceab-0038-41ecd9a68fd0    45198\n",
       "31651bd8-1a95-3206-41ef-4ccf5b2d0461    40856\n",
       "babe5c65-9bb5-3dde-315b-138110b8d664    15151\n",
       "a01a1717-7a90-d91c-e78d-5d49ff25ea9a    13775\n",
       "8060acde-4b13-976b-c3e1-14f3747cea0a    11840\n",
       "                                        ...  \n",
       "3a53517d-9a0f-ec86-1c2b-93f4253194dc       94\n",
       "0b0fefd8-ba9a-b401-5924-8c6ea36a8568       83\n",
       "350e36b2-6b6b-bcc5-d38d-a29f2ffdbe52       83\n",
       "ff72f1ac-ddb8-4481-3371-09cdcc48d3fc       58\n",
       "a652df44-d908-5f1e-0c43-c5af9cf06ab6       47\n",
       "Name: PATIENT, Length: 123, dtype: int64"
      ]
     },
     "execution_count": 209,
     "metadata": {},
     "output_type": "execute_result"
    }
   ],
   "source": [
    "observations[\"PATIENT\"].value_counts()"
   ]
  },
  {
   "cell_type": "code",
   "execution_count": 208,
   "metadata": {},
   "outputs": [
    {
     "data": {
      "text/plain": [
       "aa22000e-5867-50d7-c65a-4474da8945d5    760\n",
       "2036ef64-611b-3af8-bb84-720fae800e45    532\n",
       "a4402cad-7fd7-6955-8448-e33d097f5291    494\n",
       "c395350c-6962-ee2f-e84c-2ef582508806    380\n",
       "ac3fb44c-faf0-509a-d9cb-4151b629fb67    304\n",
       "                                       ... \n",
       "be9d88d7-55c1-3527-4b31-daf6988b6509      1\n",
       "2db13c12-4e08-7b88-f07c-910b2fca8c2a      1\n",
       "052928b6-78c1-bd80-438f-6eaeda8766a8      1\n",
       "09fd8ff0-5ecf-2b28-2e2e-8ab354da0c08      1\n",
       "10f8d5f4-6a21-d3cc-1d75-a23b34a1ace5      1\n",
       "Name: ENCOUNTER, Length: 14176, dtype: int64"
      ]
     },
     "execution_count": 208,
     "metadata": {},
     "output_type": "execute_result"
    }
   ],
   "source": [
    "observations[\"ENCOUNTER\"].value_counts()"
   ]
  },
  {
   "attachments": {},
   "cell_type": "markdown",
   "metadata": {},
   "source": [
    "# Organizations"
   ]
  },
  {
   "cell_type": "code",
   "execution_count": 40,
   "metadata": {},
   "outputs": [
    {
     "data": {
      "text/html": [
       "<div>\n",
       "<style scoped>\n",
       "    .dataframe tbody tr th:only-of-type {\n",
       "        vertical-align: middle;\n",
       "    }\n",
       "\n",
       "    .dataframe tbody tr th {\n",
       "        vertical-align: top;\n",
       "    }\n",
       "\n",
       "    .dataframe thead th {\n",
       "        text-align: right;\n",
       "    }\n",
       "</style>\n",
       "<table border=\"1\" class=\"dataframe\">\n",
       "  <thead>\n",
       "    <tr style=\"text-align: right;\">\n",
       "      <th></th>\n",
       "      <th>Id</th>\n",
       "      <th>NAME</th>\n",
       "      <th>ADDRESS</th>\n",
       "      <th>CITY</th>\n",
       "      <th>STATE</th>\n",
       "      <th>ZIP</th>\n",
       "      <th>LAT</th>\n",
       "      <th>LON</th>\n",
       "      <th>PHONE</th>\n",
       "      <th>REVENUE</th>\n",
       "      <th>UTILIZATION</th>\n",
       "    </tr>\n",
       "  </thead>\n",
       "  <tbody>\n",
       "    <tr>\n",
       "      <th>0</th>\n",
       "      <td>74ab949d-17ac-3309-83a0-13b4405c66aa</td>\n",
       "      <td>Fitchburg Outpatient Clinic</td>\n",
       "      <td>881 Main Street</td>\n",
       "      <td>Fitchburg</td>\n",
       "      <td>MA</td>\n",
       "      <td>1420</td>\n",
       "      <td>42.586487</td>\n",
       "      <td>-71.805210</td>\n",
       "      <td>978-342-9781 Or 978-342-9781</td>\n",
       "      <td>0.0</td>\n",
       "      <td>303</td>\n",
       "    </tr>\n",
       "    <tr>\n",
       "      <th>1</th>\n",
       "      <td>faffaf6a-ee1a-3673-b0b0-421a9c249244</td>\n",
       "      <td>ACTIVATED BY WELLNESS LLC</td>\n",
       "      <td>66 WASHINGTON ST</td>\n",
       "      <td>STOUGHTON</td>\n",
       "      <td>MA</td>\n",
       "      <td>20722571</td>\n",
       "      <td>42.144158</td>\n",
       "      <td>-71.103783</td>\n",
       "      <td>6178719807</td>\n",
       "      <td>0.0</td>\n",
       "      <td>47</td>\n",
       "    </tr>\n",
       "    <tr>\n",
       "      <th>2</th>\n",
       "      <td>17a4bae5-8b64-34d7-8144-b428be027bd0</td>\n",
       "      <td>NURSE ON CALL</td>\n",
       "      <td>512 MAIN STREET  SUITE 211</td>\n",
       "      <td>SHREWSBURY</td>\n",
       "      <td>MA</td>\n",
       "      <td>15456406</td>\n",
       "      <td>42.295110</td>\n",
       "      <td>-71.718085</td>\n",
       "      <td>5088451232</td>\n",
       "      <td>0.0</td>\n",
       "      <td>33</td>\n",
       "    </tr>\n",
       "  </tbody>\n",
       "</table>\n",
       "</div>"
      ],
      "text/plain": [
       "                                     Id                         NAME  \\\n",
       "0  74ab949d-17ac-3309-83a0-13b4405c66aa  Fitchburg Outpatient Clinic   \n",
       "1  faffaf6a-ee1a-3673-b0b0-421a9c249244    ACTIVATED BY WELLNESS LLC   \n",
       "2  17a4bae5-8b64-34d7-8144-b428be027bd0                NURSE ON CALL   \n",
       "\n",
       "                      ADDRESS        CITY STATE       ZIP        LAT  \\\n",
       "0             881 Main Street   Fitchburg    MA      1420  42.586487   \n",
       "1            66 WASHINGTON ST   STOUGHTON    MA  20722571  42.144158   \n",
       "2  512 MAIN STREET  SUITE 211  SHREWSBURY    MA  15456406  42.295110   \n",
       "\n",
       "         LON                         PHONE  REVENUE  UTILIZATION  \n",
       "0 -71.805210  978-342-9781 Or 978-342-9781      0.0          303  \n",
       "1 -71.103783                    6178719807      0.0           47  \n",
       "2 -71.718085                    5088451232      0.0           33  "
      ]
     },
     "execution_count": 40,
     "metadata": {},
     "output_type": "execute_result"
    }
   ],
   "source": [
    "organizations.head(3)"
   ]
  },
  {
   "cell_type": "code",
   "execution_count": 41,
   "metadata": {},
   "outputs": [
    {
     "name": "stdout",
     "output_type": "stream",
     "text": [
      "<class 'pandas.core.frame.DataFrame'>\n",
      "RangeIndex: 285 entries, 0 to 284\n",
      "Data columns (total 11 columns):\n",
      " #   Column       Non-Null Count  Dtype  \n",
      "---  ------       --------------  -----  \n",
      " 0   Id           285 non-null    object \n",
      " 1   NAME         285 non-null    object \n",
      " 2   ADDRESS      285 non-null    object \n",
      " 3   CITY         285 non-null    object \n",
      " 4   STATE        285 non-null    object \n",
      " 5   ZIP          285 non-null    int64  \n",
      " 6   LAT          285 non-null    float64\n",
      " 7   LON          285 non-null    float64\n",
      " 8   PHONE        285 non-null    object \n",
      " 9   REVENUE      285 non-null    float64\n",
      " 10  UTILIZATION  285 non-null    int64  \n",
      "dtypes: float64(3), int64(2), object(6)\n",
      "memory usage: 24.6+ KB\n"
     ]
    }
   ],
   "source": [
    "organizations.info()"
   ]
  },
  {
   "cell_type": "code",
   "execution_count": 42,
   "metadata": {},
   "outputs": [
    {
     "data": {
      "text/plain": [
       "Id             285\n",
       "NAME           277\n",
       "ADDRESS        277\n",
       "CITY           140\n",
       "STATE            1\n",
       "ZIP            279\n",
       "LAT            268\n",
       "LON            268\n",
       "PHONE          276\n",
       "REVENUE          1\n",
       "UTILIZATION    120\n",
       "dtype: int64"
      ]
     },
     "execution_count": 42,
     "metadata": {},
     "output_type": "execute_result"
    }
   ],
   "source": [
    "organizations.nunique()"
   ]
  },
  {
   "cell_type": "code",
   "execution_count": 43,
   "metadata": {},
   "outputs": [
    {
     "data": {
      "text/plain": [
       "BAYADA HOME HEALTH CARE  INC                          2\n",
       "UPHAMS CORNER HEALTH COMMITTEE INC                    2\n",
       "BOSTON MEDICAL CENTER CORPORATION-                    2\n",
       "ANNA JAQUES HOSPITAL SUBACUTE UNIT                    2\n",
       "UMASS MEMORIAL HEALTHALLIANCE CLINTON HOSPITAL INC    2\n",
       "                                                     ..\n",
       "SOUTH COVE COMMUNITY HEALTH CENTER  INC               1\n",
       "D'YOUVILLE SENIOR CARE                                1\n",
       "WOONSOCKET URGENT CARE PC                             1\n",
       "FAIRVIEW COMMONS NURSING & REHABILITATION CENTER      1\n",
       "CAREWELL URGENT CARE CENTERS OF MA  PC                1\n",
       "Name: NAME, Length: 277, dtype: int64"
      ]
     },
     "execution_count": 43,
     "metadata": {},
     "output_type": "execute_result"
    }
   ],
   "source": [
    "organizations[\"NAME\"].value_counts()"
   ]
  },
  {
   "cell_type": "code",
   "execution_count": 44,
   "metadata": {},
   "outputs": [
    {
     "data": {
      "text/plain": [
       "BOSTON        13\n",
       "WORCESTER     12\n",
       "FALL RIVER    10\n",
       "STOUGHTON      8\n",
       "WOBURN         7\n",
       "              ..\n",
       "TOPSFIELD      1\n",
       "LANCASTER      1\n",
       "WESTWOOD       1\n",
       "BEVERLY        1\n",
       "WALTHAM        1\n",
       "Name: CITY, Length: 140, dtype: int64"
      ]
     },
     "execution_count": 44,
     "metadata": {},
     "output_type": "execute_result"
    }
   ],
   "source": [
    "organizations[\"CITY\"].value_counts()"
   ]
  },
  {
   "cell_type": "code",
   "execution_count": 45,
   "metadata": {},
   "outputs": [
    {
     "data": {
      "text/plain": [
       "MA    285\n",
       "Name: STATE, dtype: int64"
      ]
     },
     "execution_count": 45,
     "metadata": {},
     "output_type": "execute_result"
    }
   ],
   "source": [
    "organizations[\"STATE\"].value_counts()"
   ]
  },
  {
   "cell_type": "code",
   "execution_count": 215,
   "metadata": {},
   "outputs": [
    {
     "data": {
      "text/plain": [
       "0.0    285\n",
       "Name: REVENUE, dtype: int64"
      ]
     },
     "execution_count": 215,
     "metadata": {},
     "output_type": "execute_result"
    }
   ],
   "source": [
    "organizations[\"REVENUE\"].value_counts()"
   ]
  },
  {
   "cell_type": "code",
   "execution_count": 216,
   "metadata": {},
   "outputs": [
    {
     "data": {
      "text/plain": [
       "1      26\n",
       "2      18\n",
       "3      14\n",
       "4      10\n",
       "6       8\n",
       "       ..\n",
       "134     1\n",
       "136     1\n",
       "137     1\n",
       "138     1\n",
       "533     1\n",
       "Name: UTILIZATION, Length: 120, dtype: int64"
      ]
     },
     "execution_count": 216,
     "metadata": {},
     "output_type": "execute_result"
    }
   ],
   "source": [
    "organizations[\"UTILIZATION\"].value_counts()"
   ]
  },
  {
   "attachments": {},
   "cell_type": "markdown",
   "metadata": {},
   "source": [
    "# Patients"
   ]
  },
  {
   "cell_type": "code",
   "execution_count": 217,
   "metadata": {},
   "outputs": [
    {
     "data": {
      "text/html": [
       "<div>\n",
       "<style scoped>\n",
       "    .dataframe tbody tr th:only-of-type {\n",
       "        vertical-align: middle;\n",
       "    }\n",
       "\n",
       "    .dataframe tbody tr th {\n",
       "        vertical-align: top;\n",
       "    }\n",
       "\n",
       "    .dataframe thead th {\n",
       "        text-align: right;\n",
       "    }\n",
       "</style>\n",
       "<table border=\"1\" class=\"dataframe\">\n",
       "  <thead>\n",
       "    <tr style=\"text-align: right;\">\n",
       "      <th></th>\n",
       "      <th>Id</th>\n",
       "      <th>BIRTHDATE</th>\n",
       "      <th>DEATHDATE</th>\n",
       "      <th>SSN</th>\n",
       "      <th>DRIVERS</th>\n",
       "      <th>PASSPORT</th>\n",
       "      <th>PREFIX</th>\n",
       "      <th>FIRST</th>\n",
       "      <th>LAST</th>\n",
       "      <th>SUFFIX</th>\n",
       "      <th>...</th>\n",
       "      <th>CITY</th>\n",
       "      <th>STATE</th>\n",
       "      <th>COUNTY</th>\n",
       "      <th>FIPS</th>\n",
       "      <th>ZIP</th>\n",
       "      <th>LAT</th>\n",
       "      <th>LON</th>\n",
       "      <th>HEALTHCARE_EXPENSES</th>\n",
       "      <th>HEALTHCARE_COVERAGE</th>\n",
       "      <th>INCOME</th>\n",
       "    </tr>\n",
       "  </thead>\n",
       "  <tbody>\n",
       "    <tr>\n",
       "      <th>0</th>\n",
       "      <td>0b0fefd8-ba9a-b401-5924-8c6ea36a8568</td>\n",
       "      <td>2022-02-17</td>\n",
       "      <td>NaN</td>\n",
       "      <td>999-99-1738</td>\n",
       "      <td>NaN</td>\n",
       "      <td>NaN</td>\n",
       "      <td>NaN</td>\n",
       "      <td>Tomas</td>\n",
       "      <td>Cruickshank</td>\n",
       "      <td>NaN</td>\n",
       "      <td>...</td>\n",
       "      <td>Agawam</td>\n",
       "      <td>Massachusetts</td>\n",
       "      <td>Hampden County</td>\n",
       "      <td>25013.0</td>\n",
       "      <td>1030</td>\n",
       "      <td>42.077484</td>\n",
       "      <td>-72.734602</td>\n",
       "      <td>1674.00</td>\n",
       "      <td>3072.46</td>\n",
       "      <td>86999</td>\n",
       "    </tr>\n",
       "    <tr>\n",
       "      <th>1</th>\n",
       "      <td>e21a6d28-3d43-24eb-72cd-02393a4e38a4</td>\n",
       "      <td>2015-12-07</td>\n",
       "      <td>NaN</td>\n",
       "      <td>999-52-2549</td>\n",
       "      <td>NaN</td>\n",
       "      <td>NaN</td>\n",
       "      <td>NaN</td>\n",
       "      <td>Natalya</td>\n",
       "      <td>Blick</td>\n",
       "      <td>NaN</td>\n",
       "      <td>...</td>\n",
       "      <td>North Attleborough</td>\n",
       "      <td>Massachusetts</td>\n",
       "      <td>Bristol County</td>\n",
       "      <td>NaN</td>\n",
       "      <td>0</td>\n",
       "      <td>41.931829</td>\n",
       "      <td>-71.294161</td>\n",
       "      <td>8527.70</td>\n",
       "      <td>3982.09</td>\n",
       "      <td>70477</td>\n",
       "    </tr>\n",
       "    <tr>\n",
       "      <th>2</th>\n",
       "      <td>febe7eb9-4860-1b17-d609-2c4c74e8b920</td>\n",
       "      <td>1999-01-10</td>\n",
       "      <td>NaN</td>\n",
       "      <td>999-54-1817</td>\n",
       "      <td>S99945271</td>\n",
       "      <td>X15876509X</td>\n",
       "      <td>Ms.</td>\n",
       "      <td>Sofia</td>\n",
       "      <td>Hegmann</td>\n",
       "      <td>NaN</td>\n",
       "      <td>...</td>\n",
       "      <td>Springfield</td>\n",
       "      <td>Massachusetts</td>\n",
       "      <td>Hampden County</td>\n",
       "      <td>25013.0</td>\n",
       "      <td>1109</td>\n",
       "      <td>42.190261</td>\n",
       "      <td>-72.538525</td>\n",
       "      <td>16811.18</td>\n",
       "      <td>93565.32</td>\n",
       "      <td>25741</td>\n",
       "    </tr>\n",
       "  </tbody>\n",
       "</table>\n",
       "<p>3 rows × 27 columns</p>\n",
       "</div>"
      ],
      "text/plain": [
       "                                     Id   BIRTHDATE DEATHDATE          SSN  \\\n",
       "0  0b0fefd8-ba9a-b401-5924-8c6ea36a8568  2022-02-17       NaN  999-99-1738   \n",
       "1  e21a6d28-3d43-24eb-72cd-02393a4e38a4  2015-12-07       NaN  999-52-2549   \n",
       "2  febe7eb9-4860-1b17-d609-2c4c74e8b920  1999-01-10       NaN  999-54-1817   \n",
       "\n",
       "     DRIVERS    PASSPORT PREFIX    FIRST         LAST SUFFIX  ...  \\\n",
       "0        NaN         NaN    NaN    Tomas  Cruickshank    NaN  ...   \n",
       "1        NaN         NaN    NaN  Natalya        Blick    NaN  ...   \n",
       "2  S99945271  X15876509X    Ms.    Sofia      Hegmann    NaN  ...   \n",
       "\n",
       "                 CITY          STATE          COUNTY     FIPS   ZIP  \\\n",
       "0              Agawam  Massachusetts  Hampden County  25013.0  1030   \n",
       "1  North Attleborough  Massachusetts  Bristol County      NaN     0   \n",
       "2         Springfield  Massachusetts  Hampden County  25013.0  1109   \n",
       "\n",
       "         LAT        LON HEALTHCARE_EXPENSES HEALTHCARE_COVERAGE INCOME  \n",
       "0  42.077484 -72.734602             1674.00             3072.46  86999  \n",
       "1  41.931829 -71.294161             8527.70             3982.09  70477  \n",
       "2  42.190261 -72.538525            16811.18            93565.32  25741  \n",
       "\n",
       "[3 rows x 27 columns]"
      ]
     },
     "execution_count": 217,
     "metadata": {},
     "output_type": "execute_result"
    }
   ],
   "source": [
    "patients.head(3)"
   ]
  },
  {
   "cell_type": "code",
   "execution_count": 218,
   "metadata": {},
   "outputs": [
    {
     "name": "stdout",
     "output_type": "stream",
     "text": [
      "<class 'pandas.core.frame.DataFrame'>\n",
      "RangeIndex: 123 entries, 0 to 122\n",
      "Data columns (total 27 columns):\n",
      " #   Column               Non-Null Count  Dtype  \n",
      "---  ------               --------------  -----  \n",
      " 0   Id                   123 non-null    object \n",
      " 1   BIRTHDATE            123 non-null    object \n",
      " 2   DEATHDATE            23 non-null     object \n",
      " 3   SSN                  123 non-null    object \n",
      " 4   DRIVERS              103 non-null    object \n",
      " 5   PASSPORT             99 non-null     object \n",
      " 6   PREFIX               100 non-null    object \n",
      " 7   FIRST                123 non-null    object \n",
      " 8   LAST                 123 non-null    object \n",
      " 9   SUFFIX               2 non-null      object \n",
      " 10  MAIDEN               41 non-null     object \n",
      " 11  MARITAL              84 non-null     object \n",
      " 12  RACE                 123 non-null    object \n",
      " 13  ETHNICITY            123 non-null    object \n",
      " 14  GENDER               123 non-null    object \n",
      " 15  BIRTHPLACE           123 non-null    object \n",
      " 16  ADDRESS              123 non-null    object \n",
      " 17  CITY                 123 non-null    object \n",
      " 18  STATE                123 non-null    object \n",
      " 19  COUNTY               123 non-null    object \n",
      " 20  FIPS                 85 non-null     float64\n",
      " 21  ZIP                  123 non-null    int64  \n",
      " 22  LAT                  123 non-null    float64\n",
      " 23  LON                  123 non-null    float64\n",
      " 24  HEALTHCARE_EXPENSES  123 non-null    float64\n",
      " 25  HEALTHCARE_COVERAGE  123 non-null    float64\n",
      " 26  INCOME               123 non-null    int64  \n",
      "dtypes: float64(5), int64(2), object(20)\n",
      "memory usage: 26.1+ KB\n"
     ]
    }
   ],
   "source": [
    "patients.info()"
   ]
  },
  {
   "cell_type": "code",
   "execution_count": 219,
   "metadata": {},
   "outputs": [
    {
     "data": {
      "text/plain": [
       "Id                     123\n",
       "BIRTHDATE              100\n",
       "DEATHDATE               23\n",
       "SSN                    123\n",
       "DRIVERS                103\n",
       "PASSPORT                99\n",
       "PREFIX                   3\n",
       "FIRST                  122\n",
       "LAST                   111\n",
       "SUFFIX                   2\n",
       "MAIDEN                  39\n",
       "MARITAL                  4\n",
       "RACE                     6\n",
       "ETHNICITY                2\n",
       "GENDER                   2\n",
       "BIRTHPLACE              82\n",
       "ADDRESS                123\n",
       "CITY                    72\n",
       "STATE                    1\n",
       "COUNTY                  10\n",
       "FIPS                     9\n",
       "ZIP                     58\n",
       "LAT                    123\n",
       "LON                    123\n",
       "HEALTHCARE_EXPENSES    121\n",
       "HEALTHCARE_COVERAGE    120\n",
       "INCOME                 100\n",
       "dtype: int64"
      ]
     },
     "execution_count": 219,
     "metadata": {},
     "output_type": "execute_result"
    }
   ],
   "source": [
    "patients.nunique()"
   ]
  },
  {
   "cell_type": "code",
   "execution_count": 288,
   "metadata": {},
   "outputs": [
    {
     "data": {
      "text/plain": [
       "Mr.     44\n",
       "Mrs.    41\n",
       "Ms.     15\n",
       "Name: PREFIX, dtype: int64"
      ]
     },
     "execution_count": 288,
     "metadata": {},
     "output_type": "execute_result"
    }
   ],
   "source": [
    "patients[\"PREFIX\"].value_counts()"
   ]
  },
  {
   "cell_type": "code",
   "execution_count": 290,
   "metadata": {},
   "outputs": [
    {
     "data": {
      "text/plain": [
       "MD    1\n",
       "JD    1\n",
       "Name: SUFFIX, dtype: int64"
      ]
     },
     "execution_count": 290,
     "metadata": {},
     "output_type": "execute_result"
    }
   ],
   "source": [
    "patients[\"SUFFIX\"].value_counts()"
   ]
  },
  {
   "cell_type": "code",
   "execution_count": 287,
   "metadata": {},
   "outputs": [
    {
     "data": {
      "text/plain": [
       "Monahan         2\n",
       "Erdman          2\n",
       "King            1\n",
       "Williamson      1\n",
       "Villarreal      1\n",
       "Veum            1\n",
       "Yost            1\n",
       "Kemmer          1\n",
       "Emmerich        1\n",
       "Ziemann         1\n",
       "Crooks          1\n",
       "Flatley         1\n",
       "Fisher          1\n",
       "Dietrich        1\n",
       "Ferry           1\n",
       "Bartell         1\n",
       "Pfannerstill    1\n",
       "Durgan          1\n",
       "Goldner         1\n",
       "Runte           1\n",
       "Walker          1\n",
       "Mann            1\n",
       "Beatty          1\n",
       "Bins            1\n",
       "Weissnat        1\n",
       "Schamberger     1\n",
       "Jakubowski      1\n",
       "O'Reilly        1\n",
       "Russel          1\n",
       "Ryan            1\n",
       "Adams           1\n",
       "Heidenreich     1\n",
       "Moore           1\n",
       "Bartoletti      1\n",
       "Mante           1\n",
       "Hackett         1\n",
       "Purdy           1\n",
       "Hyatt           1\n",
       "Zulauf          1\n",
       "Name: MAIDEN, dtype: int64"
      ]
     },
     "execution_count": 287,
     "metadata": {},
     "output_type": "execute_result"
    }
   ],
   "source": [
    "patients[\"MAIDEN\"].value_counts()"
   ]
  },
  {
   "cell_type": "code",
   "execution_count": 222,
   "metadata": {},
   "outputs": [
    {
     "data": {
      "text/plain": [
       "M    46\n",
       "S    16\n",
       "D    16\n",
       "W     6\n",
       "Name: MARITAL, dtype: int64"
      ]
     },
     "execution_count": 222,
     "metadata": {},
     "output_type": "execute_result"
    }
   ],
   "source": [
    "patients[\"MARITAL\"].value_counts()"
   ]
  },
  {
   "cell_type": "code",
   "execution_count": 223,
   "metadata": {},
   "outputs": [
    {
     "data": {
      "text/plain": [
       "white       94\n",
       "black       19\n",
       "asian        6\n",
       "hawaiian     2\n",
       "other        1\n",
       "native       1\n",
       "Name: RACE, dtype: int64"
      ]
     },
     "execution_count": 223,
     "metadata": {},
     "output_type": "execute_result"
    }
   ],
   "source": [
    "patients[\"RACE\"].value_counts()"
   ]
  },
  {
   "cell_type": "code",
   "execution_count": 224,
   "metadata": {},
   "outputs": [
    {
     "data": {
      "text/plain": [
       "nonhispanic    119\n",
       "hispanic         4\n",
       "Name: ETHNICITY, dtype: int64"
      ]
     },
     "execution_count": 224,
     "metadata": {},
     "output_type": "execute_result"
    }
   ],
   "source": [
    "patients[\"ETHNICITY\"].value_counts()"
   ]
  },
  {
   "cell_type": "code",
   "execution_count": 225,
   "metadata": {},
   "outputs": [
    {
     "data": {
      "text/plain": [
       "F    68\n",
       "M    55\n",
       "Name: GENDER, dtype: int64"
      ]
     },
     "execution_count": 225,
     "metadata": {},
     "output_type": "execute_result"
    }
   ],
   "source": [
    "patients[\"GENDER\"].value_counts()"
   ]
  },
  {
   "cell_type": "code",
   "execution_count": 226,
   "metadata": {},
   "outputs": [
    {
     "data": {
      "text/plain": [
       "Boston  Massachusetts  US             9\n",
       "Springfield  Massachusetts  US        5\n",
       "Newton  Massachusetts  US             4\n",
       "Worcester  Massachusetts  US          4\n",
       "Medford  Massachusetts  US            3\n",
       "                                     ..\n",
       "Topsfield  Massachusetts  US          1\n",
       "Wilbraham  Massachusetts  US          1\n",
       "East Longmeadow  Massachusetts  US    1\n",
       "Amesbury  Massachusetts  US           1\n",
       "San Juan  Puerto Rico  PR             1\n",
       "Name: BIRTHPLACE, Length: 82, dtype: int64"
      ]
     },
     "execution_count": 226,
     "metadata": {},
     "output_type": "execute_result"
    }
   ],
   "source": [
    "patients[\"BIRTHPLACE\"].value_counts()"
   ]
  },
  {
   "cell_type": "code",
   "execution_count": 227,
   "metadata": {},
   "outputs": [
    {
     "data": {
      "text/plain": [
       "Boston                9\n",
       "Springfield           5\n",
       "Chelsea               5\n",
       "Fall River            5\n",
       "North Attleborough    4\n",
       "                     ..\n",
       "Carver                1\n",
       "Canton                1\n",
       "Raynham               1\n",
       "Cambridge             1\n",
       "Ayer                  1\n",
       "Name: CITY, Length: 72, dtype: int64"
      ]
     },
     "execution_count": 227,
     "metadata": {},
     "output_type": "execute_result"
    }
   ],
   "source": [
    "patients[\"CITY\"].value_counts()"
   ]
  },
  {
   "cell_type": "code",
   "execution_count": 228,
   "metadata": {},
   "outputs": [
    {
     "data": {
      "text/plain": [
       "Massachusetts    123\n",
       "Name: STATE, dtype: int64"
      ]
     },
     "execution_count": 228,
     "metadata": {},
     "output_type": "execute_result"
    }
   ],
   "source": [
    "patients[\"STATE\"].value_counts()"
   ]
  },
  {
   "cell_type": "code",
   "execution_count": 229,
   "metadata": {},
   "outputs": [
    {
     "data": {
      "text/plain": [
       "Middlesex County     24\n",
       "Essex County         19\n",
       "Suffolk County       16\n",
       "Bristol County       16\n",
       "Worcester County     13\n",
       "Norfolk County       11\n",
       "Plymouth County       8\n",
       "Barnstable County     7\n",
       "Hampden County        6\n",
       "Berkshire County      3\n",
       "Name: COUNTY, dtype: int64"
      ]
     },
     "execution_count": 229,
     "metadata": {},
     "output_type": "execute_result"
    }
   ],
   "source": [
    "patients[\"COUNTY\"].value_counts()"
   ]
  },
  {
   "cell_type": "code",
   "execution_count": 230,
   "metadata": {},
   "outputs": [
    {
     "data": {
      "text/plain": [
       "1644.00     3\n",
       "91674.86    1\n",
       "39489.19    1\n",
       "13957.00    1\n",
       "3378.00     1\n",
       "           ..\n",
       "73436.88    1\n",
       "40553.24    1\n",
       "84205.41    1\n",
       "94375.92    1\n",
       "1674.00     1\n",
       "Name: HEALTHCARE_EXPENSES, Length: 121, dtype: int64"
      ]
     },
     "execution_count": 230,
     "metadata": {},
     "output_type": "execute_result"
    }
   ],
   "source": [
    "patients[\"HEALTHCARE_EXPENSES\"].value_counts()"
   ]
  },
  {
   "cell_type": "code",
   "execution_count": 231,
   "metadata": {},
   "outputs": [
    {
     "data": {
      "text/plain": [
       "0.00          4\n",
       "1096952.72    1\n",
       "281224.63     1\n",
       "966057.56     1\n",
       "193548.91     1\n",
       "             ..\n",
       "145888.15     1\n",
       "6046.35       1\n",
       "1456753.41    1\n",
       "843898.43     1\n",
       "712945.92     1\n",
       "Name: HEALTHCARE_COVERAGE, Length: 120, dtype: int64"
      ]
     },
     "execution_count": 231,
     "metadata": {},
     "output_type": "execute_result"
    }
   ],
   "source": [
    "patients[\"HEALTHCARE_COVERAGE\"].value_counts()"
   ]
  },
  {
   "cell_type": "code",
   "execution_count": 232,
   "metadata": {},
   "outputs": [
    {
     "data": {
      "text/plain": [
       "117670    5\n",
       "82458     3\n",
       "91673     3\n",
       "63890     3\n",
       "79309     3\n",
       "         ..\n",
       "17850     1\n",
       "36799     1\n",
       "170432    1\n",
       "45508     1\n",
       "84992     1\n",
       "Name: INCOME, Length: 100, dtype: int64"
      ]
     },
     "execution_count": 232,
     "metadata": {},
     "output_type": "execute_result"
    }
   ],
   "source": [
    "patients[\"INCOME\"].value_counts()"
   ]
  },
  {
   "attachments": {},
   "cell_type": "markdown",
   "metadata": {},
   "source": [
    "# Payer Transitions"
   ]
  },
  {
   "cell_type": "code",
   "execution_count": 244,
   "metadata": {},
   "outputs": [
    {
     "data": {
      "text/html": [
       "<div>\n",
       "<style scoped>\n",
       "    .dataframe tbody tr th:only-of-type {\n",
       "        vertical-align: middle;\n",
       "    }\n",
       "\n",
       "    .dataframe tbody tr th {\n",
       "        vertical-align: top;\n",
       "    }\n",
       "\n",
       "    .dataframe thead th {\n",
       "        text-align: right;\n",
       "    }\n",
       "</style>\n",
       "<table border=\"1\" class=\"dataframe\">\n",
       "  <thead>\n",
       "    <tr style=\"text-align: right;\">\n",
       "      <th></th>\n",
       "      <th>PATIENT</th>\n",
       "      <th>MEMBERID</th>\n",
       "      <th>START_DATE</th>\n",
       "      <th>END_DATE</th>\n",
       "      <th>PAYER</th>\n",
       "      <th>SECONDARY_PAYER</th>\n",
       "      <th>PLAN_OWNERSHIP</th>\n",
       "      <th>OWNER_NAME</th>\n",
       "    </tr>\n",
       "  </thead>\n",
       "  <tbody>\n",
       "    <tr>\n",
       "      <th>0</th>\n",
       "      <td>0b0fefd8-ba9a-b401-5924-8c6ea36a8568</td>\n",
       "      <td>cb136847-de12-0e2d-82b3-1d93a782b61e</td>\n",
       "      <td>2022-02-17T05:45:41Z</td>\n",
       "      <td>2023-02-23T05:45:41Z</td>\n",
       "      <td>d31fccc3-1767-390d-966a-22a5156f4219</td>\n",
       "      <td>NaN</td>\n",
       "      <td>Guardian</td>\n",
       "      <td>Michale Cruickshank</td>\n",
       "    </tr>\n",
       "    <tr>\n",
       "      <th>1</th>\n",
       "      <td>0b0fefd8-ba9a-b401-5924-8c6ea36a8568</td>\n",
       "      <td>cb136847-de12-0e2d-82b3-1d93a782b61e</td>\n",
       "      <td>2023-02-23T05:45:41Z</td>\n",
       "      <td>2024-02-23T05:45:41Z</td>\n",
       "      <td>d31fccc3-1767-390d-966a-22a5156f4219</td>\n",
       "      <td>NaN</td>\n",
       "      <td>Guardian</td>\n",
       "      <td>Michale Cruickshank</td>\n",
       "    </tr>\n",
       "    <tr>\n",
       "      <th>2</th>\n",
       "      <td>e21a6d28-3d43-24eb-72cd-02393a4e38a4</td>\n",
       "      <td>fce1802d-0e12-f872-ca95-a623972a6936</td>\n",
       "      <td>2015-12-07T08:29:09Z</td>\n",
       "      <td>2016-12-12T08:29:09Z</td>\n",
       "      <td>0133f751-9229-3cfd-815f-b6d4979bdd6a</td>\n",
       "      <td>NaN</td>\n",
       "      <td>Guardian</td>\n",
       "      <td>Miranda Ebert</td>\n",
       "    </tr>\n",
       "  </tbody>\n",
       "</table>\n",
       "</div>"
      ],
      "text/plain": [
       "                                PATIENT                              MEMBERID  \\\n",
       "0  0b0fefd8-ba9a-b401-5924-8c6ea36a8568  cb136847-de12-0e2d-82b3-1d93a782b61e   \n",
       "1  0b0fefd8-ba9a-b401-5924-8c6ea36a8568  cb136847-de12-0e2d-82b3-1d93a782b61e   \n",
       "2  e21a6d28-3d43-24eb-72cd-02393a4e38a4  fce1802d-0e12-f872-ca95-a623972a6936   \n",
       "\n",
       "             START_DATE              END_DATE  \\\n",
       "0  2022-02-17T05:45:41Z  2023-02-23T05:45:41Z   \n",
       "1  2023-02-23T05:45:41Z  2024-02-23T05:45:41Z   \n",
       "2  2015-12-07T08:29:09Z  2016-12-12T08:29:09Z   \n",
       "\n",
       "                                  PAYER SECONDARY_PAYER PLAN_OWNERSHIP  \\\n",
       "0  d31fccc3-1767-390d-966a-22a5156f4219             NaN       Guardian   \n",
       "1  d31fccc3-1767-390d-966a-22a5156f4219             NaN       Guardian   \n",
       "2  0133f751-9229-3cfd-815f-b6d4979bdd6a             NaN       Guardian   \n",
       "\n",
       "            OWNER_NAME  \n",
       "0  Michale Cruickshank  \n",
       "1  Michale Cruickshank  \n",
       "2        Miranda Ebert  "
      ]
     },
     "execution_count": 244,
     "metadata": {},
     "output_type": "execute_result"
    }
   ],
   "source": [
    "payer_transitions.head(3)"
   ]
  },
  {
   "cell_type": "code",
   "execution_count": 245,
   "metadata": {},
   "outputs": [
    {
     "name": "stdout",
     "output_type": "stream",
     "text": [
      "<class 'pandas.core.frame.DataFrame'>\n",
      "RangeIndex: 5499 entries, 0 to 5498\n",
      "Data columns (total 8 columns):\n",
      " #   Column           Non-Null Count  Dtype \n",
      "---  ------           --------------  ----- \n",
      " 0   PATIENT          5499 non-null   object\n",
      " 1   MEMBERID         4663 non-null   object\n",
      " 2   START_DATE       5499 non-null   object\n",
      " 3   END_DATE         5499 non-null   object\n",
      " 4   PAYER            5499 non-null   object\n",
      " 5   SECONDARY_PAYER  657 non-null    object\n",
      " 6   PLAN_OWNERSHIP   4663 non-null   object\n",
      " 7   OWNER_NAME       4663 non-null   object\n",
      "dtypes: object(8)\n",
      "memory usage: 343.8+ KB\n"
     ]
    }
   ],
   "source": [
    "payer_transitions.info()"
   ]
  },
  {
   "cell_type": "code",
   "execution_count": 246,
   "metadata": {},
   "outputs": [
    {
     "data": {
      "text/plain": [
       "PATIENT             123\n",
       "MEMBERID            271\n",
       "START_DATE         4308\n",
       "END_DATE           4331\n",
       "PAYER                10\n",
       "SECONDARY_PAYER       1\n",
       "PLAN_OWNERSHIP        3\n",
       "OWNER_NAME          227\n",
       "dtype: int64"
      ]
     },
     "execution_count": 246,
     "metadata": {},
     "output_type": "execute_result"
    }
   ],
   "source": [
    "payer_transitions.nunique()"
   ]
  },
  {
   "cell_type": "code",
   "execution_count": 247,
   "metadata": {},
   "outputs": [
    {
     "data": {
      "text/plain": [
       "32407eb6-1a45-c206-bba5-e70aafcd8c31    60\n",
       "75d3212e-9828-1bf7-7007-fbe3a33d2afd    57\n",
       "22176c9d-615a-9c8f-66c4-3d6f7dbb86f2    51\n",
       "22b8c671-eae9-a841-9b4e-cc2e29ca7501    46\n",
       "f2ef8da8-7e4c-e34f-1a2c-af7c860c44f6    46\n",
       "                                        ..\n",
       "10004a56-07e9-9cb3-1bb3-d6e772475625     1\n",
       "7062d154-0f22-03d5-771a-4c3ab546c993     1\n",
       "295f37d2-54d2-75e8-1b89-e90050637866     1\n",
       "770194f6-de73-9a9a-fa4b-9a4e180efa6a     1\n",
       "ff73f8a4-6863-e532-ad97-074f4ed886cf     1\n",
       "Name: MEMBERID, Length: 271, dtype: int64"
      ]
     },
     "execution_count": 247,
     "metadata": {},
     "output_type": "execute_result"
    }
   ],
   "source": [
    "payer_transitions[\"MEMBERID\"].value_counts()"
   ]
  },
  {
   "cell_type": "code",
   "execution_count": 249,
   "metadata": {},
   "outputs": [
    {
     "data": {
      "text/plain": [
       "Self        3000\n",
       "Guardian    1444\n",
       "Spouse       219\n",
       "Name: PLAN_OWNERSHIP, dtype: int64"
      ]
     },
     "execution_count": 249,
     "metadata": {},
     "output_type": "execute_result"
    }
   ],
   "source": [
    "payer_transitions[\"PLAN_OWNERSHIP\"].value_counts()"
   ]
  },
  {
   "cell_type": "code",
   "execution_count": 250,
   "metadata": {},
   "outputs": [
    {
     "data": {
      "text/plain": [
       "Christian Bechtelar      85\n",
       "Ilene Goldner            64\n",
       "Renda Dooley             64\n",
       "Piper O'Reilly           61\n",
       "Raymundo Pfannerstill    61\n",
       "                         ..\n",
       "Mellisa Flatley           1\n",
       "Mr. Stanton               1\n",
       "Hunter Quigley            1\n",
       "Sonya King                1\n",
       "Anisa Nader               1\n",
       "Name: OWNER_NAME, Length: 227, dtype: int64"
      ]
     },
     "execution_count": 250,
     "metadata": {},
     "output_type": "execute_result"
    }
   ],
   "source": [
    "payer_transitions[\"OWNER_NAME\"].value_counts()"
   ]
  },
  {
   "cell_type": "code",
   "execution_count": 251,
   "metadata": {},
   "outputs": [
    {
     "data": {
      "text/plain": [
       "5d4f915d-9dcd-485c-1dc8-bea871dc2304    131\n",
       "e201efe2-198e-ceab-0038-41ecd9a68fd0    103\n",
       "31651bd8-1a95-3206-41ef-4ccf5b2d0461     95\n",
       "6ea22161-852a-6e07-c1a3-cd40b3a1571e     86\n",
       "f4fa21a0-3541-07c7-7dea-fa612331b720     83\n",
       "                                       ... \n",
       "3a53517d-9a0f-ec86-1c2b-93f4253194dc      2\n",
       "f78e216e-9993-3fe5-4c67-6272f6e0b151      2\n",
       "ff72f1ac-ddb8-4481-3371-09cdcc48d3fc      1\n",
       "350e36b2-6b6b-bcc5-d38d-a29f2ffdbe52      1\n",
       "a652df44-d908-5f1e-0c43-c5af9cf06ab6      1\n",
       "Name: PATIENT, Length: 123, dtype: int64"
      ]
     },
     "execution_count": 251,
     "metadata": {},
     "output_type": "execute_result"
    }
   ],
   "source": [
    "payer_transitions[\"PATIENT\"].value_counts()"
   ]
  },
  {
   "cell_type": "code",
   "execution_count": 252,
   "metadata": {},
   "outputs": [
    {
     "data": {
      "text/plain": [
       "b1c428d6-4f07-31e0-90f0-68ffa6ff8c76    836\n",
       "0133f751-9229-3cfd-815f-b6d4979bdd6a    788\n",
       "b046940f-1664-3047-bca7-dfa76be352a4    740\n",
       "a735bf55-83e9-331a-899d-a82a60b9f60c    725\n",
       "8fa6c185-e44e-3e34-8bd8-39be8694f4ce    665\n",
       "d31fccc3-1767-390d-966a-22a5156f4219    573\n",
       "26aab0cd-6aba-3e1b-ac5b-05c8867e762c    437\n",
       "df166300-5a78-3502-a46a-832842197811    429\n",
       "734afbd6-4794-363b-9bc0-6a3981533ed5    282\n",
       "d18ef2e6-ef40-324c-be54-34a5ee865625     24\n",
       "Name: PAYER, dtype: int64"
      ]
     },
     "execution_count": 252,
     "metadata": {},
     "output_type": "execute_result"
    }
   ],
   "source": [
    "payer_transitions[\"PAYER\"].value_counts()"
   ]
  },
  {
   "cell_type": "code",
   "execution_count": 253,
   "metadata": {},
   "outputs": [
    {
     "data": {
      "text/plain": [
       "b046940f-1664-3047-bca7-dfa76be352a4    657\n",
       "Name: SECONDARY_PAYER, dtype: int64"
      ]
     },
     "execution_count": 253,
     "metadata": {},
     "output_type": "execute_result"
    }
   ],
   "source": [
    "payer_transitions[\"SECONDARY_PAYER\"].value_counts()"
   ]
  },
  {
   "attachments": {},
   "cell_type": "markdown",
   "metadata": {},
   "source": [
    "# Payers"
   ]
  },
  {
   "cell_type": "code",
   "execution_count": 266,
   "metadata": {},
   "outputs": [
    {
     "data": {
      "text/html": [
       "<div>\n",
       "<style scoped>\n",
       "    .dataframe tbody tr th:only-of-type {\n",
       "        vertical-align: middle;\n",
       "    }\n",
       "\n",
       "    .dataframe tbody tr th {\n",
       "        vertical-align: top;\n",
       "    }\n",
       "\n",
       "    .dataframe thead th {\n",
       "        text-align: right;\n",
       "    }\n",
       "</style>\n",
       "<table border=\"1\" class=\"dataframe\">\n",
       "  <thead>\n",
       "    <tr style=\"text-align: right;\">\n",
       "      <th></th>\n",
       "      <th>Id</th>\n",
       "      <th>NAME</th>\n",
       "      <th>OWNERSHIP</th>\n",
       "      <th>ADDRESS</th>\n",
       "      <th>CITY</th>\n",
       "      <th>STATE_HEADQUARTERED</th>\n",
       "      <th>ZIP</th>\n",
       "      <th>PHONE</th>\n",
       "      <th>AMOUNT_COVERED</th>\n",
       "      <th>AMOUNT_UNCOVERED</th>\n",
       "      <th>...</th>\n",
       "      <th>UNCOVERED_ENCOUNTERS</th>\n",
       "      <th>COVERED_MEDICATIONS</th>\n",
       "      <th>UNCOVERED_MEDICATIONS</th>\n",
       "      <th>COVERED_PROCEDURES</th>\n",
       "      <th>UNCOVERED_PROCEDURES</th>\n",
       "      <th>COVERED_IMMUNIZATIONS</th>\n",
       "      <th>UNCOVERED_IMMUNIZATIONS</th>\n",
       "      <th>UNIQUE_CUSTOMERS</th>\n",
       "      <th>QOLS_AVG</th>\n",
       "      <th>MEMBER_MONTHS</th>\n",
       "    </tr>\n",
       "  </thead>\n",
       "  <tbody>\n",
       "    <tr>\n",
       "      <th>0</th>\n",
       "      <td>b046940f-1664-3047-bca7-dfa76be352a4</td>\n",
       "      <td>Blue Cross Blue Shield</td>\n",
       "      <td>PRIVATE</td>\n",
       "      <td>NaN</td>\n",
       "      <td>NaN</td>\n",
       "      <td>NaN</td>\n",
       "      <td>NaN</td>\n",
       "      <td>NaN</td>\n",
       "      <td>12402071.36</td>\n",
       "      <td>928644.33</td>\n",
       "      <td>...</td>\n",
       "      <td>0</td>\n",
       "      <td>1001</td>\n",
       "      <td>0</td>\n",
       "      <td>4704</td>\n",
       "      <td>0</td>\n",
       "      <td>853</td>\n",
       "      <td>0</td>\n",
       "      <td>55</td>\n",
       "      <td>0.492865</td>\n",
       "      <td>16764</td>\n",
       "    </tr>\n",
       "    <tr>\n",
       "      <th>1</th>\n",
       "      <td>734afbd6-4794-363b-9bc0-6a3981533ed5</td>\n",
       "      <td>Anthem</td>\n",
       "      <td>PRIVATE</td>\n",
       "      <td>NaN</td>\n",
       "      <td>NaN</td>\n",
       "      <td>NaN</td>\n",
       "      <td>NaN</td>\n",
       "      <td>NaN</td>\n",
       "      <td>1268061.59</td>\n",
       "      <td>310609.02</td>\n",
       "      <td>...</td>\n",
       "      <td>0</td>\n",
       "      <td>654</td>\n",
       "      <td>0</td>\n",
       "      <td>898</td>\n",
       "      <td>0</td>\n",
       "      <td>329</td>\n",
       "      <td>0</td>\n",
       "      <td>9</td>\n",
       "      <td>0.896893</td>\n",
       "      <td>3384</td>\n",
       "    </tr>\n",
       "    <tr>\n",
       "      <th>2</th>\n",
       "      <td>8fa6c185-e44e-3e34-8bd8-39be8694f4ce</td>\n",
       "      <td>Cigna Health</td>\n",
       "      <td>PRIVATE</td>\n",
       "      <td>NaN</td>\n",
       "      <td>NaN</td>\n",
       "      <td>NaN</td>\n",
       "      <td>NaN</td>\n",
       "      <td>NaN</td>\n",
       "      <td>5480745.77</td>\n",
       "      <td>760345.38</td>\n",
       "      <td>...</td>\n",
       "      <td>0</td>\n",
       "      <td>1030</td>\n",
       "      <td>0</td>\n",
       "      <td>2516</td>\n",
       "      <td>0</td>\n",
       "      <td>678</td>\n",
       "      <td>0</td>\n",
       "      <td>17</td>\n",
       "      <td>0.940881</td>\n",
       "      <td>7980</td>\n",
       "    </tr>\n",
       "  </tbody>\n",
       "</table>\n",
       "<p>3 rows × 22 columns</p>\n",
       "</div>"
      ],
      "text/plain": [
       "                                     Id                    NAME OWNERSHIP  \\\n",
       "0  b046940f-1664-3047-bca7-dfa76be352a4  Blue Cross Blue Shield   PRIVATE   \n",
       "1  734afbd6-4794-363b-9bc0-6a3981533ed5                  Anthem   PRIVATE   \n",
       "2  8fa6c185-e44e-3e34-8bd8-39be8694f4ce            Cigna Health   PRIVATE   \n",
       "\n",
       "   ADDRESS  CITY  STATE_HEADQUARTERED  ZIP  PHONE  AMOUNT_COVERED  \\\n",
       "0      NaN   NaN                  NaN  NaN    NaN     12402071.36   \n",
       "1      NaN   NaN                  NaN  NaN    NaN      1268061.59   \n",
       "2      NaN   NaN                  NaN  NaN    NaN      5480745.77   \n",
       "\n",
       "   AMOUNT_UNCOVERED  ...  UNCOVERED_ENCOUNTERS  COVERED_MEDICATIONS  \\\n",
       "0         928644.33  ...                     0                 1001   \n",
       "1         310609.02  ...                     0                  654   \n",
       "2         760345.38  ...                     0                 1030   \n",
       "\n",
       "   UNCOVERED_MEDICATIONS  COVERED_PROCEDURES  UNCOVERED_PROCEDURES  \\\n",
       "0                      0                4704                     0   \n",
       "1                      0                 898                     0   \n",
       "2                      0                2516                     0   \n",
       "\n",
       "   COVERED_IMMUNIZATIONS  UNCOVERED_IMMUNIZATIONS  UNIQUE_CUSTOMERS  QOLS_AVG  \\\n",
       "0                    853                        0                55  0.492865   \n",
       "1                    329                        0                 9  0.896893   \n",
       "2                    678                        0                17  0.940881   \n",
       "\n",
       "   MEMBER_MONTHS  \n",
       "0          16764  \n",
       "1           3384  \n",
       "2           7980  \n",
       "\n",
       "[3 rows x 22 columns]"
      ]
     },
     "execution_count": 266,
     "metadata": {},
     "output_type": "execute_result"
    }
   ],
   "source": [
    "payers.head(3)"
   ]
  },
  {
   "cell_type": "code",
   "execution_count": 267,
   "metadata": {},
   "outputs": [
    {
     "name": "stdout",
     "output_type": "stream",
     "text": [
      "<class 'pandas.core.frame.DataFrame'>\n",
      "RangeIndex: 10 entries, 0 to 9\n",
      "Data columns (total 22 columns):\n",
      " #   Column                   Non-Null Count  Dtype  \n",
      "---  ------                   --------------  -----  \n",
      " 0   Id                       10 non-null     object \n",
      " 1   NAME                     10 non-null     object \n",
      " 2   OWNERSHIP                10 non-null     object \n",
      " 3   ADDRESS                  0 non-null      float64\n",
      " 4   CITY                     0 non-null      float64\n",
      " 5   STATE_HEADQUARTERED      0 non-null      float64\n",
      " 6   ZIP                      0 non-null      float64\n",
      " 7   PHONE                    0 non-null      float64\n",
      " 8   AMOUNT_COVERED           10 non-null     float64\n",
      " 9   AMOUNT_UNCOVERED         10 non-null     float64\n",
      " 10  REVENUE                  10 non-null     float64\n",
      " 11  COVERED_ENCOUNTERS       10 non-null     int64  \n",
      " 12  UNCOVERED_ENCOUNTERS     10 non-null     int64  \n",
      " 13  COVERED_MEDICATIONS      10 non-null     int64  \n",
      " 14  UNCOVERED_MEDICATIONS    10 non-null     int64  \n",
      " 15  COVERED_PROCEDURES       10 non-null     int64  \n",
      " 16  UNCOVERED_PROCEDURES     10 non-null     int64  \n",
      " 17  COVERED_IMMUNIZATIONS    10 non-null     int64  \n",
      " 18  UNCOVERED_IMMUNIZATIONS  10 non-null     int64  \n",
      " 19  UNIQUE_CUSTOMERS         10 non-null     int64  \n",
      " 20  QOLS_AVG                 10 non-null     float64\n",
      " 21  MEMBER_MONTHS            10 non-null     int64  \n",
      "dtypes: float64(9), int64(10), object(3)\n",
      "memory usage: 1.8+ KB\n"
     ]
    }
   ],
   "source": [
    "payers.info()"
   ]
  },
  {
   "cell_type": "code",
   "execution_count": 268,
   "metadata": {},
   "outputs": [
    {
     "data": {
      "text/plain": [
       "Id                         10\n",
       "NAME                       10\n",
       "OWNERSHIP                   3\n",
       "ADDRESS                     0\n",
       "CITY                        0\n",
       "STATE_HEADQUARTERED         0\n",
       "ZIP                         0\n",
       "PHONE                       0\n",
       "AMOUNT_COVERED             10\n",
       "AMOUNT_UNCOVERED           10\n",
       "REVENUE                    10\n",
       "COVERED_ENCOUNTERS         10\n",
       "UNCOVERED_ENCOUNTERS        2\n",
       "COVERED_MEDICATIONS        10\n",
       "UNCOVERED_MEDICATIONS       2\n",
       "COVERED_PROCEDURES         10\n",
       "UNCOVERED_PROCEDURES        2\n",
       "COVERED_IMMUNIZATIONS      10\n",
       "UNCOVERED_IMMUNIZATIONS     2\n",
       "UNIQUE_CUSTOMERS           10\n",
       "QOLS_AVG                   10\n",
       "MEMBER_MONTHS              10\n",
       "dtype: int64"
      ]
     },
     "execution_count": 268,
     "metadata": {},
     "output_type": "execute_result"
    }
   ],
   "source": [
    "payers.nunique()"
   ]
  },
  {
   "cell_type": "code",
   "execution_count": 269,
   "metadata": {},
   "outputs": [
    {
     "data": {
      "text/plain": [
       "Humana                    1\n",
       "Medicaid                  1\n",
       "Dual Eligible             1\n",
       "Cigna Health              1\n",
       "Blue Cross Blue Shield    1\n",
       "NO_INSURANCE              1\n",
       "Aetna                     1\n",
       "UnitedHealthcare          1\n",
       "Medicare                  1\n",
       "Anthem                    1\n",
       "Name: NAME, dtype: int64"
      ]
     },
     "execution_count": 269,
     "metadata": {},
     "output_type": "execute_result"
    }
   ],
   "source": [
    "payers[\"NAME\"].value_counts()"
   ]
  },
  {
   "cell_type": "code",
   "execution_count": 270,
   "metadata": {},
   "outputs": [
    {
     "data": {
      "text/plain": [
       "Series([], Name: CITY, dtype: int64)"
      ]
     },
     "execution_count": 270,
     "metadata": {},
     "output_type": "execute_result"
    }
   ],
   "source": [
    "payers[\"CITY\"].value_counts()"
   ]
  },
  {
   "cell_type": "code",
   "execution_count": 271,
   "metadata": {},
   "outputs": [
    {
     "data": {
      "text/plain": [
       "Series([], Name: STATE_HEADQUARTERED, dtype: int64)"
      ]
     },
     "execution_count": 271,
     "metadata": {},
     "output_type": "execute_result"
    }
   ],
   "source": [
    "payers[\"STATE_HEADQUARTERED\"].value_counts()"
   ]
  },
  {
   "cell_type": "code",
   "execution_count": 272,
   "metadata": {},
   "outputs": [
    {
     "data": {
      "text/plain": [
       "1268061.59     1\n",
       "7877579.16     1\n",
       "481244.93      1\n",
       "7573792.95     1\n",
       "3769554.77     1\n",
       "4816380.96     1\n",
       "9552635.96     1\n",
       "0.00           1\n",
       "12402071.36    1\n",
       "5480745.77     1\n",
       "Name: AMOUNT_COVERED, dtype: int64"
      ]
     },
     "execution_count": 272,
     "metadata": {},
     "output_type": "execute_result"
    }
   ],
   "source": [
    "payers[\"AMOUNT_COVERED\"].value_counts()"
   ]
  },
  {
   "cell_type": "code",
   "execution_count": 273,
   "metadata": {},
   "outputs": [
    {
     "data": {
      "text/plain": [
       "11114646.11    1\n",
       "346007.55      1\n",
       "928644.33      1\n",
       "310609.02      1\n",
       "558347.10      1\n",
       "149547.77      1\n",
       "5461.55        1\n",
       "970335.48      1\n",
       "647075.33      1\n",
       "760345.38      1\n",
       "Name: AMOUNT_UNCOVERED, dtype: int64"
      ]
     },
     "execution_count": 273,
     "metadata": {},
     "output_type": "execute_result"
    }
   ],
   "source": [
    "payers[\"AMOUNT_UNCOVERED\"].value_counts()"
   ]
  },
  {
   "cell_type": "code",
   "execution_count": 274,
   "metadata": {},
   "outputs": [
    {
     "data": {
      "text/plain": [
       "5488673.17    1\n",
       "1956751.35    1\n",
       "3990508.48    1\n",
       "6329839.24    1\n",
       "1467452.70    1\n",
       "4626093.50    1\n",
       "0.00          1\n",
       "3014718.82    1\n",
       "2710.00       1\n",
       "52080.00      1\n",
       "Name: REVENUE, dtype: int64"
      ]
     },
     "execution_count": 274,
     "metadata": {},
     "output_type": "execute_result"
    }
   ],
   "source": [
    "payers[\"REVENUE\"].value_counts()"
   ]
  },
  {
   "cell_type": "code",
   "execution_count": 275,
   "metadata": {},
   "outputs": [
    {
     "data": {
      "text/plain": [
       "638     1\n",
       "2028    1\n",
       "3210    1\n",
       "1719    1\n",
       "1718    1\n",
       "2660    1\n",
       "4899    1\n",
       "0       1\n",
       "145     1\n",
       "1415    1\n",
       "Name: COVERED_ENCOUNTERS, dtype: int64"
      ]
     },
     "execution_count": 275,
     "metadata": {},
     "output_type": "execute_result"
    }
   ],
   "source": [
    "payers[\"COVERED_ENCOUNTERS\"].value_counts()"
   ]
  },
  {
   "cell_type": "code",
   "execution_count": 276,
   "metadata": {},
   "outputs": [
    {
     "data": {
      "text/plain": [
       "0       9\n",
       "3112    1\n",
       "Name: UNCOVERED_ENCOUNTERS, dtype: int64"
      ]
     },
     "execution_count": 276,
     "metadata": {},
     "output_type": "execute_result"
    }
   ],
   "source": [
    "payers[\"UNCOVERED_ENCOUNTERS\"].value_counts()"
   ]
  },
  {
   "cell_type": "code",
   "execution_count": 277,
   "metadata": {},
   "outputs": [
    {
     "data": {
      "text/plain": [
       "654     1\n",
       "1619    1\n",
       "539     1\n",
       "1001    1\n",
       "1271    1\n",
       "1030    1\n",
       "489     1\n",
       "51      1\n",
       "7313    1\n",
       "0       1\n",
       "Name: COVERED_MEDICATIONS, dtype: int64"
      ]
     },
     "execution_count": 277,
     "metadata": {},
     "output_type": "execute_result"
    }
   ],
   "source": [
    "payers[\"COVERED_MEDICATIONS\"].value_counts()"
   ]
  },
  {
   "cell_type": "code",
   "execution_count": 278,
   "metadata": {},
   "outputs": [
    {
     "data": {
      "text/plain": [
       "0       9\n",
       "1565    1\n",
       "Name: UNCOVERED_MEDICATIONS, dtype: int64"
      ]
     },
     "execution_count": 278,
     "metadata": {},
     "output_type": "execute_result"
    }
   ],
   "source": [
    "payers[\"UNCOVERED_MEDICATIONS\"].value_counts()"
   ]
  },
  {
   "cell_type": "code",
   "execution_count": 279,
   "metadata": {},
   "outputs": [
    {
     "data": {
      "text/plain": [
       "2146    1\n",
       "6574    1\n",
       "3932    1\n",
       "2266    1\n",
       "2905    1\n",
       "2516    1\n",
       "292     1\n",
       "898     1\n",
       "0       1\n",
       "4704    1\n",
       "Name: COVERED_PROCEDURES, dtype: int64"
      ]
     },
     "execution_count": 279,
     "metadata": {},
     "output_type": "execute_result"
    }
   ],
   "source": [
    "payers[\"COVERED_PROCEDURES\"].value_counts()"
   ]
  },
  {
   "cell_type": "code",
   "execution_count": 280,
   "metadata": {},
   "outputs": [
    {
     "data": {
      "text/plain": [
       "0       9\n",
       "4205    1\n",
       "Name: UNCOVERED_PROCEDURES, dtype: int64"
      ]
     },
     "execution_count": 280,
     "metadata": {},
     "output_type": "execute_result"
    }
   ],
   "source": [
    "payers[\"UNCOVERED_PROCEDURES\"].value_counts()"
   ]
  },
  {
   "cell_type": "code",
   "execution_count": 281,
   "metadata": {},
   "outputs": [
    {
     "data": {
      "text/plain": [
       "924    1\n",
       "556    1\n",
       "27     1\n",
       "329    1\n",
       "825    1\n",
       "678    1\n",
       "853    1\n",
       "0      1\n",
       "545    1\n",
       "768    1\n",
       "Name: COVERED_IMMUNIZATIONS, dtype: int64"
      ]
     },
     "execution_count": 281,
     "metadata": {},
     "output_type": "execute_result"
    }
   ],
   "source": [
    "payers[\"COVERED_IMMUNIZATIONS\"].value_counts()"
   ]
  },
  {
   "cell_type": "code",
   "execution_count": 282,
   "metadata": {},
   "outputs": [
    {
     "data": {
      "text/plain": [
       "0      9\n",
       "868    1\n",
       "Name: UNCOVERED_IMMUNIZATIONS, dtype: int64"
      ]
     },
     "execution_count": 282,
     "metadata": {},
     "output_type": "execute_result"
    }
   ],
   "source": [
    "payers[\"UNCOVERED_IMMUNIZATIONS\"].value_counts()"
   ]
  },
  {
   "cell_type": "code",
   "execution_count": 283,
   "metadata": {},
   "outputs": [
    {
     "data": {
      "text/plain": [
       "27    1\n",
       "43    1\n",
       "20    1\n",
       "9     1\n",
       "55    1\n",
       "22    1\n",
       "21    1\n",
       "4     1\n",
       "18    1\n",
       "17    1\n",
       "Name: UNIQUE_CUSTOMERS, dtype: int64"
      ]
     },
     "execution_count": 283,
     "metadata": {},
     "output_type": "execute_result"
    }
   ],
   "source": [
    "payers[\"UNIQUE_CUSTOMERS\"].value_counts()"
   ]
  },
  {
   "cell_type": "code",
   "execution_count": 284,
   "metadata": {},
   "outputs": [
    {
     "data": {
      "text/plain": [
       "0.908966    1\n",
       "0.403161    1\n",
       "0.896893    1\n",
       "0.776976    1\n",
       "0.940881    1\n",
       "0.644708    1\n",
       "0.940209    1\n",
       "0.492865    1\n",
       "0.848020    1\n",
       "0.941843    1\n",
       "Name: QOLS_AVG, dtype: int64"
      ]
     },
     "execution_count": 284,
     "metadata": {},
     "output_type": "execute_result"
    }
   ],
   "source": [
    "payers[\"QOLS_AVG\"].value_counts()"
   ]
  },
  {
   "cell_type": "code",
   "execution_count": 285,
   "metadata": {},
   "outputs": [
    {
     "data": {
      "text/plain": [
       "5148     1\n",
       "9456     1\n",
       "16764    1\n",
       "8700     1\n",
       "5244     1\n",
       "3384     1\n",
       "6876     1\n",
       "7800     1\n",
       "7980     1\n",
       "288      1\n",
       "Name: MEMBER_MONTHS, dtype: int64"
      ]
     },
     "execution_count": 285,
     "metadata": {},
     "output_type": "execute_result"
    }
   ],
   "source": [
    "payers[\"MEMBER_MONTHS\"].value_counts()"
   ]
  },
  {
   "attachments": {},
   "cell_type": "markdown",
   "metadata": {},
   "source": [
    "# Procedures"
   ]
  },
  {
   "cell_type": "code",
   "execution_count": 254,
   "metadata": {},
   "outputs": [
    {
     "data": {
      "text/html": [
       "<div>\n",
       "<style scoped>\n",
       "    .dataframe tbody tr th:only-of-type {\n",
       "        vertical-align: middle;\n",
       "    }\n",
       "\n",
       "    .dataframe tbody tr th {\n",
       "        vertical-align: top;\n",
       "    }\n",
       "\n",
       "    .dataframe thead th {\n",
       "        text-align: right;\n",
       "    }\n",
       "</style>\n",
       "<table border=\"1\" class=\"dataframe\">\n",
       "  <thead>\n",
       "    <tr style=\"text-align: right;\">\n",
       "      <th></th>\n",
       "      <th>START</th>\n",
       "      <th>STOP</th>\n",
       "      <th>PATIENT</th>\n",
       "      <th>ENCOUNTER</th>\n",
       "      <th>CODE</th>\n",
       "      <th>DESCRIPTION</th>\n",
       "      <th>BASE_COST</th>\n",
       "      <th>REASONCODE</th>\n",
       "      <th>REASONDESCRIPTION</th>\n",
       "    </tr>\n",
       "  </thead>\n",
       "  <tbody>\n",
       "    <tr>\n",
       "      <th>0</th>\n",
       "      <td>2022-02-17T05:45:41Z</td>\n",
       "      <td>2022-02-17T06:00:41Z</td>\n",
       "      <td>0b0fefd8-ba9a-b401-5924-8c6ea36a8568</td>\n",
       "      <td>cf6058a1-d657-c29c-d424-4801c592eaf8</td>\n",
       "      <td>430193006</td>\n",
       "      <td>Medication Reconciliation (procedure)</td>\n",
       "      <td>493.62</td>\n",
       "      <td>NaN</td>\n",
       "      <td>NaN</td>\n",
       "    </tr>\n",
       "    <tr>\n",
       "      <th>1</th>\n",
       "      <td>2022-03-24T05:45:41Z</td>\n",
       "      <td>2022-03-24T06:00:41Z</td>\n",
       "      <td>0b0fefd8-ba9a-b401-5924-8c6ea36a8568</td>\n",
       "      <td>9f4685e7-0424-aabe-bcaa-b2cf98bf5b0e</td>\n",
       "      <td>430193006</td>\n",
       "      <td>Medication Reconciliation (procedure)</td>\n",
       "      <td>572.03</td>\n",
       "      <td>NaN</td>\n",
       "      <td>NaN</td>\n",
       "    </tr>\n",
       "    <tr>\n",
       "      <th>2</th>\n",
       "      <td>2015-12-07T08:29:09Z</td>\n",
       "      <td>2015-12-07T08:44:09Z</td>\n",
       "      <td>e21a6d28-3d43-24eb-72cd-02393a4e38a4</td>\n",
       "      <td>6b9fd2cd-bc11-2f9c-d223-d57310b12ef8</td>\n",
       "      <td>430193006</td>\n",
       "      <td>Medication Reconciliation (procedure)</td>\n",
       "      <td>500.03</td>\n",
       "      <td>NaN</td>\n",
       "      <td>NaN</td>\n",
       "    </tr>\n",
       "  </tbody>\n",
       "</table>\n",
       "</div>"
      ],
      "text/plain": [
       "                  START                  STOP  \\\n",
       "0  2022-02-17T05:45:41Z  2022-02-17T06:00:41Z   \n",
       "1  2022-03-24T05:45:41Z  2022-03-24T06:00:41Z   \n",
       "2  2015-12-07T08:29:09Z  2015-12-07T08:44:09Z   \n",
       "\n",
       "                                PATIENT                             ENCOUNTER  \\\n",
       "0  0b0fefd8-ba9a-b401-5924-8c6ea36a8568  cf6058a1-d657-c29c-d424-4801c592eaf8   \n",
       "1  0b0fefd8-ba9a-b401-5924-8c6ea36a8568  9f4685e7-0424-aabe-bcaa-b2cf98bf5b0e   \n",
       "2  e21a6d28-3d43-24eb-72cd-02393a4e38a4  6b9fd2cd-bc11-2f9c-d223-d57310b12ef8   \n",
       "\n",
       "        CODE                            DESCRIPTION  BASE_COST  REASONCODE  \\\n",
       "0  430193006  Medication Reconciliation (procedure)     493.62         NaN   \n",
       "1  430193006  Medication Reconciliation (procedure)     572.03         NaN   \n",
       "2  430193006  Medication Reconciliation (procedure)     500.03         NaN   \n",
       "\n",
       "  REASONDESCRIPTION  \n",
       "0               NaN  \n",
       "1               NaN  \n",
       "2               NaN  "
      ]
     },
     "execution_count": 254,
     "metadata": {},
     "output_type": "execute_result"
    }
   ],
   "source": [
    "procedures.head(3)"
   ]
  },
  {
   "cell_type": "code",
   "execution_count": 255,
   "metadata": {},
   "outputs": [
    {
     "name": "stdout",
     "output_type": "stream",
     "text": [
      "<class 'pandas.core.frame.DataFrame'>\n",
      "RangeIndex: 48885 entries, 0 to 48884\n",
      "Data columns (total 9 columns):\n",
      " #   Column             Non-Null Count  Dtype  \n",
      "---  ------             --------------  -----  \n",
      " 0   START              48885 non-null  object \n",
      " 1   STOP               48885 non-null  object \n",
      " 2   PATIENT            48885 non-null  object \n",
      " 3   ENCOUNTER          48885 non-null  object \n",
      " 4   CODE               48885 non-null  int64  \n",
      " 5   DESCRIPTION        48885 non-null  object \n",
      " 6   BASE_COST          48885 non-null  float64\n",
      " 7   REASONCODE         15178 non-null  float64\n",
      " 8   REASONDESCRIPTION  15178 non-null  object \n",
      "dtypes: float64(2), int64(1), object(6)\n",
      "memory usage: 3.4+ MB\n"
     ]
    }
   ],
   "source": [
    "procedures.info()"
   ]
  },
  {
   "cell_type": "code",
   "execution_count": 256,
   "metadata": {},
   "outputs": [
    {
     "data": {
      "text/plain": [
       "START                36805\n",
       "STOP                 39764\n",
       "PATIENT                123\n",
       "ENCOUNTER            16165\n",
       "CODE                   245\n",
       "DESCRIPTION            250\n",
       "BASE_COST            19034\n",
       "REASONCODE              64\n",
       "REASONDESCRIPTION       64\n",
       "dtype: int64"
      ]
     },
     "execution_count": 256,
     "metadata": {},
     "output_type": "execute_result"
    }
   ],
   "source": [
    "procedures.nunique()"
   ]
  },
  {
   "cell_type": "code",
   "execution_count": 257,
   "metadata": {},
   "outputs": [
    {
     "data": {
      "text/plain": [
       "710824005          4400\n",
       "171207006          4270\n",
       "430193006          3754\n",
       "265764009          3723\n",
       "454711000124102    3416\n",
       "                   ... \n",
       "18286008              1\n",
       "312853008             1\n",
       "225415001             1\n",
       "133900002             1\n",
       "305340004             1\n",
       "Name: CODE, Length: 245, dtype: int64"
      ]
     },
     "execution_count": 257,
     "metadata": {},
     "output_type": "execute_result"
    }
   ],
   "source": [
    "procedures[\"CODE\"].value_counts()"
   ]
  },
  {
   "cell_type": "code",
   "execution_count": 258,
   "metadata": {},
   "outputs": [
    {
     "data": {
      "text/plain": [
       "Assessment of health and social care needs (procedure)                                    4400\n",
       "Depression screening (procedure)                                                          3957\n",
       "Medication Reconciliation (procedure)                                                     3754\n",
       "Renal dialysis (procedure)                                                                3723\n",
       "Depression screening using Patient Health Questionnaire Two-Item score (procedure)        3416\n",
       "                                                                                          ... \n",
       "Cardioassist by aortic balloon pump (procedure)                                              1\n",
       "Assessment using Canadian Study of Health and Aging Clinical Frailty Scale (procedure)       1\n",
       "Assessment using health assessment questionnaire (procedure)                                 1\n",
       "Ultrasonography of abdomen  right upper quadrant and epigastrium                             1\n",
       "Administration of anesthesia AND/OR sedation (procedure)                                     1\n",
       "Name: DESCRIPTION, Length: 250, dtype: int64"
      ]
     },
     "execution_count": 258,
     "metadata": {},
     "output_type": "execute_result"
    }
   ],
   "source": [
    "procedures[\"DESCRIPTION\"].value_counts()"
   ]
  },
  {
   "cell_type": "code",
   "execution_count": 259,
   "metadata": {},
   "outputs": [
    {
     "data": {
      "text/plain": [
       "431.40     29091\n",
       "64.71         28\n",
       "30.15          6\n",
       "29.98          6\n",
       "30.14          6\n",
       "           ...  \n",
       "2302.95        1\n",
       "1048.19        1\n",
       "2761.20        1\n",
       "8695.32        1\n",
       "1024.00        1\n",
       "Name: BASE_COST, Length: 19034, dtype: int64"
      ]
     },
     "execution_count": 259,
     "metadata": {},
     "output_type": "execute_result"
    }
   ],
   "source": [
    "procedures[\"BASE_COST\"].value_counts()"
   ]
  },
  {
   "cell_type": "code",
   "execution_count": 262,
   "metadata": {},
   "outputs": [
    {
     "data": {
      "text/plain": [
       "72892002.0     9481\n",
       "431857002.0    2408\n",
       "46177005.0      887\n",
       "6525002.0       489\n",
       "10509002.0      218\n",
       "               ... \n",
       "401314000.0       2\n",
       "262574004.0       2\n",
       "36923009.0        1\n",
       "37849005.0        1\n",
       "195967001.0       1\n",
       "Name: REASONCODE, Length: 64, dtype: int64"
      ]
     },
     "execution_count": 262,
     "metadata": {},
     "output_type": "execute_result"
    }
   ],
   "source": [
    "procedures[\"REASONCODE\"].value_counts()"
   ]
  },
  {
   "cell_type": "code",
   "execution_count": 263,
   "metadata": {},
   "outputs": [
    {
     "data": {
      "text/plain": [
       "Normal pregnancy                                  9481\n",
       "Chronic kidney disease stage 4 (disorder)         2408\n",
       "End-stage renal disease (disorder)                 887\n",
       "Dependent drug abuse (disorder)                    489\n",
       "Acute bronchitis (disorder)                        218\n",
       "                                                  ... \n",
       "Acute respiratory distress syndrome (disorder)       2\n",
       "Third degree burn                                    2\n",
       "Congenital uterine anomaly                           1\n",
       "Major depression  single episode                     1\n",
       "Asthma                                               1\n",
       "Name: REASONDESCRIPTION, Length: 64, dtype: int64"
      ]
     },
     "execution_count": 263,
     "metadata": {},
     "output_type": "execute_result"
    }
   ],
   "source": [
    "procedures[\"REASONDESCRIPTION\"].value_counts()"
   ]
  },
  {
   "cell_type": "code",
   "execution_count": 264,
   "metadata": {},
   "outputs": [
    {
     "data": {
      "text/plain": [
       "31651bd8-1a95-3206-41ef-4ccf5b2d0461    3333\n",
       "e201efe2-198e-ceab-0038-41ecd9a68fd0    2627\n",
       "5d4f915d-9dcd-485c-1dc8-bea871dc2304    1747\n",
       "babe5c65-9bb5-3dde-315b-138110b8d664    1508\n",
       "8060acde-4b13-976b-c3e1-14f3747cea0a    1416\n",
       "                                        ... \n",
       "3a53517d-9a0f-ec86-1c2b-93f4253194dc       3\n",
       "ff72f1ac-ddb8-4481-3371-09cdcc48d3fc       3\n",
       "0b0fefd8-ba9a-b401-5924-8c6ea36a8568       3\n",
       "a652df44-d908-5f1e-0c43-c5af9cf06ab6       1\n",
       "350e36b2-6b6b-bcc5-d38d-a29f2ffdbe52       1\n",
       "Name: PATIENT, Length: 123, dtype: int64"
      ]
     },
     "execution_count": 264,
     "metadata": {},
     "output_type": "execute_result"
    }
   ],
   "source": [
    "procedures[\"PATIENT\"].value_counts()"
   ]
  },
  {
   "cell_type": "code",
   "execution_count": 265,
   "metadata": {},
   "outputs": [
    {
     "data": {
      "text/plain": [
       "6db4cf8e-5c8b-fa69-aeaa-da860a788c0d    123\n",
       "48f0d317-3a60-ec00-9b29-82595b7173ff     99\n",
       "f6319a60-c80c-75fd-e2db-88ae3804eb7b     87\n",
       "74f2ab69-530b-b03e-a017-1e94c72f93b0     87\n",
       "bf6f9d63-78ba-6fed-5679-7829edd175a4     87\n",
       "                                       ... \n",
       "f3e9a94b-14a9-d247-72d8-ea1f128d5c57      1\n",
       "33a62dea-e404-1da5-8a83-00e7454966b6      1\n",
       "09ac16ac-04df-c73d-e6bb-48c8ba14bfed      1\n",
       "16765e57-29f6-218d-c01c-f216bf705a41      1\n",
       "4227174d-7efa-a4e1-c7da-5b003f89a52f      1\n",
       "Name: ENCOUNTER, Length: 16165, dtype: int64"
      ]
     },
     "execution_count": 265,
     "metadata": {},
     "output_type": "execute_result"
    }
   ],
   "source": [
    "procedures[\"ENCOUNTER\"].value_counts()"
   ]
  },
  {
   "attachments": {},
   "cell_type": "markdown",
   "metadata": {},
   "source": [
    "# Providers"
   ]
  },
  {
   "cell_type": "code",
   "execution_count": 46,
   "metadata": {},
   "outputs": [
    {
     "data": {
      "text/html": [
       "<div>\n",
       "<style scoped>\n",
       "    .dataframe tbody tr th:only-of-type {\n",
       "        vertical-align: middle;\n",
       "    }\n",
       "\n",
       "    .dataframe tbody tr th {\n",
       "        vertical-align: top;\n",
       "    }\n",
       "\n",
       "    .dataframe thead th {\n",
       "        text-align: right;\n",
       "    }\n",
       "</style>\n",
       "<table border=\"1\" class=\"dataframe\">\n",
       "  <thead>\n",
       "    <tr style=\"text-align: right;\">\n",
       "      <th></th>\n",
       "      <th>Id</th>\n",
       "      <th>ORGANIZATION</th>\n",
       "      <th>NAME</th>\n",
       "      <th>GENDER</th>\n",
       "      <th>SPECIALITY</th>\n",
       "      <th>ADDRESS</th>\n",
       "      <th>CITY</th>\n",
       "      <th>STATE</th>\n",
       "      <th>ZIP</th>\n",
       "      <th>LAT</th>\n",
       "      <th>LON</th>\n",
       "      <th>ENCOUNTERS</th>\n",
       "      <th>PROCEDURES</th>\n",
       "    </tr>\n",
       "  </thead>\n",
       "  <tbody>\n",
       "    <tr>\n",
       "      <th>0</th>\n",
       "      <td>0e9c337a-5ad4-3ba4-9263-d7d6b22d7235</td>\n",
       "      <td>74ab949d-17ac-3309-83a0-13b4405c66aa</td>\n",
       "      <td>Gabriel Reilly</td>\n",
       "      <td>F</td>\n",
       "      <td>GENERAL PRACTICE</td>\n",
       "      <td>881 Main Street</td>\n",
       "      <td>Fitchburg</td>\n",
       "      <td>MA</td>\n",
       "      <td>1420</td>\n",
       "      <td>42.586487</td>\n",
       "      <td>-71.805210</td>\n",
       "      <td>303</td>\n",
       "      <td>0</td>\n",
       "    </tr>\n",
       "    <tr>\n",
       "      <th>1</th>\n",
       "      <td>e7b48592-5367-388f-9f89-0532276d4090</td>\n",
       "      <td>faffaf6a-ee1a-3673-b0b0-421a9c249244</td>\n",
       "      <td>Gustavo Armstrong</td>\n",
       "      <td>M</td>\n",
       "      <td>GENERAL PRACTICE</td>\n",
       "      <td>66 WASHINGTON ST</td>\n",
       "      <td>STOUGHTON</td>\n",
       "      <td>MA</td>\n",
       "      <td>20722571</td>\n",
       "      <td>42.144158</td>\n",
       "      <td>-71.103783</td>\n",
       "      <td>47</td>\n",
       "      <td>0</td>\n",
       "    </tr>\n",
       "    <tr>\n",
       "      <th>2</th>\n",
       "      <td>6e03acc0-e89f-3b81-8d96-df7aff354bc7</td>\n",
       "      <td>17a4bae5-8b64-34d7-8144-b428be027bd0</td>\n",
       "      <td>Lindsay Ward</td>\n",
       "      <td>M</td>\n",
       "      <td>GENERAL PRACTICE</td>\n",
       "      <td>512 MAIN STREET  SUITE 211</td>\n",
       "      <td>SHREWSBURY</td>\n",
       "      <td>MA</td>\n",
       "      <td>15456406</td>\n",
       "      <td>42.295110</td>\n",
       "      <td>-71.718085</td>\n",
       "      <td>33</td>\n",
       "      <td>0</td>\n",
       "    </tr>\n",
       "  </tbody>\n",
       "</table>\n",
       "</div>"
      ],
      "text/plain": [
       "                                     Id                          ORGANIZATION  \\\n",
       "0  0e9c337a-5ad4-3ba4-9263-d7d6b22d7235  74ab949d-17ac-3309-83a0-13b4405c66aa   \n",
       "1  e7b48592-5367-388f-9f89-0532276d4090  faffaf6a-ee1a-3673-b0b0-421a9c249244   \n",
       "2  6e03acc0-e89f-3b81-8d96-df7aff354bc7  17a4bae5-8b64-34d7-8144-b428be027bd0   \n",
       "\n",
       "                NAME GENDER        SPECIALITY                     ADDRESS  \\\n",
       "0     Gabriel Reilly      F  GENERAL PRACTICE             881 Main Street   \n",
       "1  Gustavo Armstrong      M  GENERAL PRACTICE            66 WASHINGTON ST   \n",
       "2       Lindsay Ward      M  GENERAL PRACTICE  512 MAIN STREET  SUITE 211   \n",
       "\n",
       "         CITY STATE       ZIP        LAT        LON  ENCOUNTERS  PROCEDURES  \n",
       "0   Fitchburg    MA      1420  42.586487 -71.805210         303           0  \n",
       "1   STOUGHTON    MA  20722571  42.144158 -71.103783          47           0  \n",
       "2  SHREWSBURY    MA  15456406  42.295110 -71.718085          33           0  "
      ]
     },
     "execution_count": 46,
     "metadata": {},
     "output_type": "execute_result"
    }
   ],
   "source": [
    "providers.head(3)"
   ]
  },
  {
   "cell_type": "code",
   "execution_count": 47,
   "metadata": {},
   "outputs": [
    {
     "name": "stdout",
     "output_type": "stream",
     "text": [
      "<class 'pandas.core.frame.DataFrame'>\n",
      "RangeIndex: 285 entries, 0 to 284\n",
      "Data columns (total 13 columns):\n",
      " #   Column        Non-Null Count  Dtype  \n",
      "---  ------        --------------  -----  \n",
      " 0   Id            285 non-null    object \n",
      " 1   ORGANIZATION  285 non-null    object \n",
      " 2   NAME          285 non-null    object \n",
      " 3   GENDER        285 non-null    object \n",
      " 4   SPECIALITY    285 non-null    object \n",
      " 5   ADDRESS       285 non-null    object \n",
      " 6   CITY          285 non-null    object \n",
      " 7   STATE         285 non-null    object \n",
      " 8   ZIP           285 non-null    int64  \n",
      " 9   LAT           285 non-null    float64\n",
      " 10  LON           285 non-null    float64\n",
      " 11  ENCOUNTERS    285 non-null    int64  \n",
      " 12  PROCEDURES    285 non-null    int64  \n",
      "dtypes: float64(2), int64(3), object(8)\n",
      "memory usage: 29.1+ KB\n"
     ]
    }
   ],
   "source": [
    "providers.info()"
   ]
  },
  {
   "cell_type": "code",
   "execution_count": 48,
   "metadata": {},
   "outputs": [
    {
     "data": {
      "text/plain": [
       "Id              285\n",
       "ORGANIZATION    285\n",
       "NAME            285\n",
       "GENDER            2\n",
       "SPECIALITY        1\n",
       "ADDRESS         277\n",
       "CITY            140\n",
       "STATE             1\n",
       "ZIP             279\n",
       "LAT             268\n",
       "LON             268\n",
       "ENCOUNTERS      120\n",
       "PROCEDURES        1\n",
       "dtype: int64"
      ]
     },
     "execution_count": 48,
     "metadata": {},
     "output_type": "execute_result"
    }
   ],
   "source": [
    "providers.nunique()"
   ]
  },
  {
   "cell_type": "code",
   "execution_count": 49,
   "metadata": {},
   "outputs": [
    {
     "data": {
      "text/plain": [
       "4cb90b5f-734d-322f-a2f2-776824e1ce35    1\n",
       "e5d50afe-8c7d-35f5-96f5-fb8941403b0f    1\n",
       "bee866be-d41f-3259-97b2-0e10331c6c16    1\n",
       "06cc2462-430f-3322-9c87-7e971125f510    1\n",
       "b6717471-7f78-32c4-b1c5-e3a6310553d7    1\n",
       "                                       ..\n",
       "328f813e-4de8-3ec2-a113-43f3ddfb0b2a    1\n",
       "8bf5325a-c11b-35c4-b07d-17a5aeba8353    1\n",
       "e68de1a0-767e-3466-b9a6-43948ee073d3    1\n",
       "e4dbbb2f-5a51-341d-b5a5-dd91b968b217    1\n",
       "352f2e3b-0708-3eb4-9f7e-e73a685bf379    1\n",
       "Name: ORGANIZATION, Length: 285, dtype: int64"
      ]
     },
     "execution_count": 49,
     "metadata": {},
     "output_type": "execute_result"
    }
   ],
   "source": [
    "providers[\"ORGANIZATION\"].value_counts()"
   ]
  },
  {
   "cell_type": "code",
   "execution_count": 237,
   "metadata": {},
   "outputs": [
    {
     "data": {
      "text/plain": [
       "F    149\n",
       "M    136\n",
       "Name: GENDER, dtype: int64"
      ]
     },
     "execution_count": 237,
     "metadata": {},
     "output_type": "execute_result"
    }
   ],
   "source": [
    "providers[\"GENDER\"].value_counts()"
   ]
  },
  {
   "cell_type": "code",
   "execution_count": 240,
   "metadata": {},
   "outputs": [
    {
     "data": {
      "text/plain": [
       "GENERAL PRACTICE    285\n",
       "Name: SPECIALITY, dtype: int64"
      ]
     },
     "execution_count": 240,
     "metadata": {},
     "output_type": "execute_result"
    }
   ],
   "source": [
    "providers[\"SPECIALITY\"].value_counts()"
   ]
  },
  {
   "cell_type": "code",
   "execution_count": 238,
   "metadata": {},
   "outputs": [
    {
     "data": {
      "text/plain": [
       "BOSTON        13\n",
       "WORCESTER     12\n",
       "FALL RIVER    10\n",
       "STOUGHTON      8\n",
       "WOBURN         7\n",
       "              ..\n",
       "TOPSFIELD      1\n",
       "LANCASTER      1\n",
       "WESTWOOD       1\n",
       "BEVERLY        1\n",
       "WALTHAM        1\n",
       "Name: CITY, Length: 140, dtype: int64"
      ]
     },
     "execution_count": 238,
     "metadata": {},
     "output_type": "execute_result"
    }
   ],
   "source": [
    "providers[\"CITY\"].value_counts()"
   ]
  },
  {
   "cell_type": "code",
   "execution_count": 239,
   "metadata": {},
   "outputs": [
    {
     "data": {
      "text/plain": [
       "MA    285\n",
       "Name: STATE, dtype: int64"
      ]
     },
     "execution_count": 239,
     "metadata": {},
     "output_type": "execute_result"
    }
   ],
   "source": [
    "providers[\"STATE\"].value_counts()"
   ]
  },
  {
   "cell_type": "code",
   "execution_count": 242,
   "metadata": {},
   "outputs": [
    {
     "data": {
      "text/plain": [
       "1      26\n",
       "2      18\n",
       "3      14\n",
       "4      10\n",
       "6       8\n",
       "       ..\n",
       "134     1\n",
       "136     1\n",
       "137     1\n",
       "138     1\n",
       "533     1\n",
       "Name: ENCOUNTERS, Length: 120, dtype: int64"
      ]
     },
     "execution_count": 242,
     "metadata": {},
     "output_type": "execute_result"
    }
   ],
   "source": [
    "providers[\"ENCOUNTERS\"].value_counts()"
   ]
  },
  {
   "cell_type": "code",
   "execution_count": 243,
   "metadata": {},
   "outputs": [
    {
     "data": {
      "text/plain": [
       "0    285\n",
       "Name: PROCEDURES, dtype: int64"
      ]
     },
     "execution_count": 243,
     "metadata": {},
     "output_type": "execute_result"
    }
   ],
   "source": [
    "providers[\"PROCEDURES\"].value_counts()"
   ]
  },
  {
   "attachments": {},
   "cell_type": "markdown",
   "metadata": {},
   "source": [
    "# Supplies"
   ]
  },
  {
   "cell_type": "code",
   "execution_count": 29,
   "metadata": {},
   "outputs": [
    {
     "data": {
      "text/html": [
       "<div>\n",
       "<style scoped>\n",
       "    .dataframe tbody tr th:only-of-type {\n",
       "        vertical-align: middle;\n",
       "    }\n",
       "\n",
       "    .dataframe tbody tr th {\n",
       "        vertical-align: top;\n",
       "    }\n",
       "\n",
       "    .dataframe thead th {\n",
       "        text-align: right;\n",
       "    }\n",
       "</style>\n",
       "<table border=\"1\" class=\"dataframe\">\n",
       "  <thead>\n",
       "    <tr style=\"text-align: right;\">\n",
       "      <th></th>\n",
       "      <th>DATE</th>\n",
       "      <th>PATIENT</th>\n",
       "      <th>ENCOUNTER</th>\n",
       "      <th>CODE</th>\n",
       "      <th>DESCRIPTION</th>\n",
       "      <th>QUANTITY</th>\n",
       "    </tr>\n",
       "  </thead>\n",
       "  <tbody>\n",
       "    <tr>\n",
       "      <th>0</th>\n",
       "      <td>2018-04-08</td>\n",
       "      <td>f63b81f3-2aab-fe60-7c85-92a9a5eff526</td>\n",
       "      <td>e9060c0c-af26-d142-a84a-7f7651db5082</td>\n",
       "      <td>337388004</td>\n",
       "      <td>Blood glucose testing strips (physical object)</td>\n",
       "      <td>50</td>\n",
       "    </tr>\n",
       "    <tr>\n",
       "      <th>1</th>\n",
       "      <td>2018-04-08</td>\n",
       "      <td>f63b81f3-2aab-fe60-7c85-92a9a5eff526</td>\n",
       "      <td>e9060c0c-af26-d142-a84a-7f7651db5082</td>\n",
       "      <td>1137596000</td>\n",
       "      <td>Blood lancet (physical object)</td>\n",
       "      <td>100</td>\n",
       "    </tr>\n",
       "    <tr>\n",
       "      <th>2</th>\n",
       "      <td>2019-04-14</td>\n",
       "      <td>f63b81f3-2aab-fe60-7c85-92a9a5eff526</td>\n",
       "      <td>96f2dbb8-b0d1-0c18-7464-ea473e42e3f5</td>\n",
       "      <td>337388004</td>\n",
       "      <td>Blood glucose testing strips (physical object)</td>\n",
       "      <td>50</td>\n",
       "    </tr>\n",
       "  </tbody>\n",
       "</table>\n",
       "</div>"
      ],
      "text/plain": [
       "         DATE                               PATIENT  \\\n",
       "0  2018-04-08  f63b81f3-2aab-fe60-7c85-92a9a5eff526   \n",
       "1  2018-04-08  f63b81f3-2aab-fe60-7c85-92a9a5eff526   \n",
       "2  2019-04-14  f63b81f3-2aab-fe60-7c85-92a9a5eff526   \n",
       "\n",
       "                              ENCOUNTER        CODE  \\\n",
       "0  e9060c0c-af26-d142-a84a-7f7651db5082   337388004   \n",
       "1  e9060c0c-af26-d142-a84a-7f7651db5082  1137596000   \n",
       "2  96f2dbb8-b0d1-0c18-7464-ea473e42e3f5   337388004   \n",
       "\n",
       "                                      DESCRIPTION  QUANTITY  \n",
       "0  Blood glucose testing strips (physical object)        50  \n",
       "1                  Blood lancet (physical object)       100  \n",
       "2  Blood glucose testing strips (physical object)        50  "
      ]
     },
     "execution_count": 29,
     "metadata": {},
     "output_type": "execute_result"
    }
   ],
   "source": [
    "supplies.head(3)"
   ]
  },
  {
   "attachments": {},
   "cell_type": "markdown",
   "metadata": {},
   "source": [
    "### Overview"
   ]
  },
  {
   "cell_type": "code",
   "execution_count": 12,
   "metadata": {},
   "outputs": [
    {
     "name": "stdout",
     "output_type": "stream",
     "text": [
      "<class 'pandas.core.frame.DataFrame'>\n",
      "RangeIndex: 2139 entries, 0 to 2138\n",
      "Data columns (total 6 columns):\n",
      " #   Column       Non-Null Count  Dtype \n",
      "---  ------       --------------  ----- \n",
      " 0   DATE         2139 non-null   object\n",
      " 1   PATIENT      2139 non-null   object\n",
      " 2   ENCOUNTER    2139 non-null   object\n",
      " 3   CODE         2139 non-null   int64 \n",
      " 4   DESCRIPTION  2139 non-null   object\n",
      " 5   QUANTITY     2139 non-null   int64 \n",
      "dtypes: int64(2), object(4)\n",
      "memory usage: 100.4+ KB\n"
     ]
    }
   ],
   "source": [
    "supplies.info()"
   ]
  },
  {
   "attachments": {},
   "cell_type": "markdown",
   "metadata": {},
   "source": [
    "### Unique values"
   ]
  },
  {
   "cell_type": "code",
   "execution_count": 13,
   "metadata": {},
   "outputs": [
    {
     "data": {
      "text/plain": [
       "DATE            997\n",
       "PATIENT          62\n",
       "ENCOUNTER      1043\n",
       "CODE             12\n",
       "DESCRIPTION      12\n",
       "QUANTITY          5\n",
       "dtype: int64"
      ]
     },
     "execution_count": 13,
     "metadata": {},
     "output_type": "execute_result"
    }
   ],
   "source": [
    "supplies.nunique()"
   ]
  },
  {
   "attachments": {},
   "cell_type": "markdown",
   "metadata": {},
   "source": [
    "### Counts"
   ]
  },
  {
   "cell_type": "code",
   "execution_count": 16,
   "metadata": {},
   "outputs": [
    {
     "data": {
      "text/plain": [
       "337388004     892\n",
       "1137596000    351\n",
       "463659001     205\n",
       "706226000     205\n",
       "972002        205\n",
       "704718009     116\n",
       "467645007      89\n",
       "8537005        42\n",
       "431069006      22\n",
       "119219003       9\n",
       "126261006       2\n",
       "346447007       1\n",
       "Name: CODE, dtype: int64"
      ]
     },
     "execution_count": 16,
     "metadata": {},
     "output_type": "execute_result"
    }
   ],
   "source": [
    "supplies[\"CODE\"].value_counts()"
   ]
  },
  {
   "cell_type": "code",
   "execution_count": 233,
   "metadata": {},
   "outputs": [
    {
     "data": {
      "text/plain": [
       "Blood glucose testing strips (physical object)                                                 892\n",
       "Blood lancet (physical object)                                                                 351\n",
       "Medical air low pressure tubing (physical object)                                              205\n",
       "Air filter  device (physical object)                                                           205\n",
       "Continuous positive airway pressure/Bilevel positive airway pressure mask (physical object)    205\n",
       "CPAP/BPAP oral mask (physical object)                                                          116\n",
       "Continuous positive airway pressure nasal oxygen cannula (physical object)                      89\n",
       "Solution (substance)                                                                            42\n",
       "Packed red blood cells (product)                                                                22\n",
       "Kidney part (body structure)                                                                     9\n",
       "Human platelets  pooled (product)                                                                2\n",
       "Fresh frozen plasma (product)                                                                    1\n",
       "Name: DESCRIPTION, dtype: int64"
      ]
     },
     "execution_count": 233,
     "metadata": {},
     "output_type": "execute_result"
    }
   ],
   "source": [
    "supplies[\"DESCRIPTION\"].value_counts()"
   ]
  },
  {
   "cell_type": "code",
   "execution_count": 236,
   "metadata": {},
   "outputs": [
    {
     "data": {
      "text/plain": [
       "50     892\n",
       "1      627\n",
       "100    393\n",
       "5      205\n",
       "2       22\n",
       "Name: QUANTITY, dtype: int64"
      ]
     },
     "execution_count": 236,
     "metadata": {},
     "output_type": "execute_result"
    }
   ],
   "source": [
    "supplies[\"QUANTITY\"].value_counts()"
   ]
  },
  {
   "cell_type": "code",
   "execution_count": 234,
   "metadata": {},
   "outputs": [
    {
     "data": {
      "text/plain": [
       "49093d47-3c84-611c-ec79-68a5413087e7    228\n",
       "d7058686-b43c-93d9-fb3d-0571af023de6    193\n",
       "abe9c763-59b6-43a9-7ddd-07c9433a112c    171\n",
       "b97f0438-4385-fb63-db1a-d549d09eb89c    166\n",
       "b4fe4ced-4a4b-e2ad-8ac2-6ac338b3b412    109\n",
       "                                       ... \n",
       "e469241e-cad9-5648-a099-bdc5ac82bb7b      1\n",
       "41ac485e-8346-259b-1661-a73de3413401      1\n",
       "18c45bb2-9c6d-ace0-41cf-faa2c1707241      1\n",
       "8060acde-4b13-976b-c3e1-14f3747cea0a      1\n",
       "2331a899-a65f-5577-8b95-ce995e833aa3      1\n",
       "Name: PATIENT, Length: 62, dtype: int64"
      ]
     },
     "execution_count": 234,
     "metadata": {},
     "output_type": "execute_result"
    }
   ],
   "source": [
    "supplies[\"PATIENT\"].value_counts()"
   ]
  },
  {
   "cell_type": "code",
   "execution_count": 17,
   "metadata": {},
   "outputs": [
    {
     "data": {
      "text/plain": [
       "2036ef64-611b-3af8-bb84-720fae800e45    7\n",
       "53e93df5-6b4c-88fb-57ba-825ab3d03b5c    6\n",
       "6c844f0b-8b7d-b896-d298-a2d59038f25e    6\n",
       "cf722d67-7eaf-4be0-4bbe-20051bab4f22    6\n",
       "29fda3d9-e321-8f12-4bdd-22aad0379798    6\n",
       "                                       ..\n",
       "46b277e5-a196-dfa8-bf87-d970f14e9fb6    1\n",
       "ede92aa3-f337-3d5e-2fbd-c6feec3e7a2b    1\n",
       "b21ea45f-39f6-eac7-cd84-0e28d72416fc    1\n",
       "ec9dbde8-38dc-779f-3281-9cd53955b878    1\n",
       "7a6ec35d-d88f-c73e-4657-de6217add547    1\n",
       "Name: ENCOUNTER, Length: 1043, dtype: int64"
      ]
     },
     "execution_count": 17,
     "metadata": {},
     "output_type": "execute_result"
    }
   ],
   "source": [
    "supplies[\"ENCOUNTER\"].value_counts()"
   ]
  }
 ],
 "metadata": {
  "kernelspec": {
   "display_name": "Python 3",
   "language": "python",
   "name": "python3"
  },
  "language_info": {
   "codemirror_mode": {
    "name": "ipython",
    "version": 3
   },
   "file_extension": ".py",
   "mimetype": "text/x-python",
   "name": "python",
   "nbconvert_exporter": "python",
   "pygments_lexer": "ipython3",
   "version": "3.8.3"
  },
  "orig_nbformat": 4
 },
 "nbformat": 4,
 "nbformat_minor": 2
}
